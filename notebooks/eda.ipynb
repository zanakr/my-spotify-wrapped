{
 "cells": [
  {
   "cell_type": "markdown",
   "id": "4ee13fee-420d-44cc-91e4-e1e48bd58951",
   "metadata": {},
   "source": [
    "<span style=\"font-family:Helvetica Light\">\n",
    "\n",
    "# Exploratory Data Analysis\n",
    "\n",
    "The objective of this notebook is to analyze my Spotify listening data from the past year and answer various questions regarding my listening habits:\n",
    "- *Listening Patterns*:\n",
    "    - *Total Listening Time*: \n",
    "        - How many minutes/hours of music have I listened to in a year?\n",
    "        - How many minutes/hours of podcasts have I listened to in a year?\n",
    "    - *Monthly Listening Analysis*: \n",
    "        - How much time did I spend on Spotify each month?\n",
    "    - *Weekly Listening Analysis*: \n",
    "        - When in the week do I listen to music the most?\n",
    "        - Do my habits change during the weekend?\n",
    "    - *Daily Listening Analysis*: \n",
    "        - How do I use Spotify around the clock?\n",
    "- *Content Analysis*:\n",
    "    - *Content Proportion*:\n",
    "        - What is the proportion of music vs. podcasts?\n",
    "    - *Top Content*:\n",
    "        - What were my top podcasts of the year?\n",
    "        - Who were my most listened-to artists?\n",
    "        - What were my top tracks of the year?\n",
    "- *Genre Analysis*:\n",
    "    - What were my most popular genres?\n",
    "- *Musical Moods*:\n",
    "    - How did my musical moods change?\n",
    " \n",
    "By answering these questions, I hope to get a clearer picture of my Spotify journey and what I enjoy listening to the most.\n",
    "\n",
    "</span>"
   ]
  },
  {
   "cell_type": "code",
   "execution_count": 1,
   "id": "518cd256-21dd-4a75-9483-393d7f83e2ee",
   "metadata": {},
   "outputs": [],
   "source": [
    "import pandas as pd\n",
    "import numpy as np\n",
    "from datetime import time\n",
    "import matplotlib.pyplot as plt\n",
    "import seaborn as sns\n",
    "import plotly.express as px\n",
    "import plotly.graph_objects as go\n",
    "import plotly.io as pio\n",
    "import ast\n",
    "import warnings\n",
    "warnings.filterwarnings(\"ignore\", category=FutureWarning)"
   ]
  },
  {
   "cell_type": "code",
   "execution_count": 2,
   "id": "afeaed61-02f2-4f88-9a63-4d0827a01fac",
   "metadata": {},
   "outputs": [
    {
     "name": "stdout",
     "output_type": "stream",
     "text": [
      "(4940, 4)\n"
     ]
    },
    {
     "data": {
      "text/html": [
       "<div>\n",
       "<style scoped>\n",
       "    .dataframe tbody tr th:only-of-type {\n",
       "        vertical-align: middle;\n",
       "    }\n",
       "\n",
       "    .dataframe tbody tr th {\n",
       "        vertical-align: top;\n",
       "    }\n",
       "\n",
       "    .dataframe thead th {\n",
       "        text-align: right;\n",
       "    }\n",
       "</style>\n",
       "<table border=\"1\" class=\"dataframe\">\n",
       "  <thead>\n",
       "    <tr style=\"text-align: right;\">\n",
       "      <th></th>\n",
       "      <th>endTime</th>\n",
       "      <th>artistName</th>\n",
       "      <th>trackName</th>\n",
       "      <th>msPlayed</th>\n",
       "    </tr>\n",
       "  </thead>\n",
       "  <tbody>\n",
       "    <tr>\n",
       "      <th>0</th>\n",
       "      <td>2023-05-16 15:43</td>\n",
       "      <td>John Lennon</td>\n",
       "      <td>Isolation - Remastered 2010</td>\n",
       "      <td>142789</td>\n",
       "    </tr>\n",
       "    <tr>\n",
       "      <th>1</th>\n",
       "      <td>2023-05-17 04:43</td>\n",
       "      <td>John Lennon</td>\n",
       "      <td>Isolation - Remastered 2010</td>\n",
       "      <td>29448</td>\n",
       "    </tr>\n",
       "    <tr>\n",
       "      <th>2</th>\n",
       "      <td>2023-05-17 04:44</td>\n",
       "      <td>John Lennon</td>\n",
       "      <td>Love - Remastered 2010</td>\n",
       "      <td>65613</td>\n",
       "    </tr>\n",
       "    <tr>\n",
       "      <th>3</th>\n",
       "      <td>2023-05-17 04:46</td>\n",
       "      <td>Felipe Gordon</td>\n",
       "      <td>Inherently Deep</td>\n",
       "      <td>101308</td>\n",
       "    </tr>\n",
       "    <tr>\n",
       "      <th>4</th>\n",
       "      <td>2023-05-17 04:47</td>\n",
       "      <td>Golf Trip</td>\n",
       "      <td>L in Vain</td>\n",
       "      <td>92322</td>\n",
       "    </tr>\n",
       "  </tbody>\n",
       "</table>\n",
       "</div>"
      ],
      "text/plain": [
       "            endTime     artistName                    trackName  msPlayed\n",
       "0  2023-05-16 15:43    John Lennon  Isolation - Remastered 2010    142789\n",
       "1  2023-05-17 04:43    John Lennon  Isolation - Remastered 2010     29448\n",
       "2  2023-05-17 04:44    John Lennon       Love - Remastered 2010     65613\n",
       "3  2023-05-17 04:46  Felipe Gordon              Inherently Deep    101308\n",
       "4  2023-05-17 04:47      Golf Trip                    L in Vain     92322"
      ]
     },
     "execution_count": 2,
     "metadata": {},
     "output_type": "execute_result"
    }
   ],
   "source": [
    "# load historical streaming music data\n",
    "df = pd.read_json('../data/raw/StreamingHistory_music_0.json')\n",
    "print(df.shape)\n",
    "df.head()"
   ]
  },
  {
   "cell_type": "code",
   "execution_count": 3,
   "id": "43af9a17-fe49-44e3-bb50-53c290816cb6",
   "metadata": {},
   "outputs": [
    {
     "data": {
      "text/html": [
       "<div>\n",
       "<style scoped>\n",
       "    .dataframe tbody tr th:only-of-type {\n",
       "        vertical-align: middle;\n",
       "    }\n",
       "\n",
       "    .dataframe tbody tr th {\n",
       "        vertical-align: top;\n",
       "    }\n",
       "\n",
       "    .dataframe thead th {\n",
       "        text-align: right;\n",
       "    }\n",
       "</style>\n",
       "<table border=\"1\" class=\"dataframe\">\n",
       "  <thead>\n",
       "    <tr style=\"text-align: right;\">\n",
       "      <th></th>\n",
       "      <th>endTime</th>\n",
       "      <th>artistName</th>\n",
       "      <th>trackName</th>\n",
       "      <th>msPlayed</th>\n",
       "    </tr>\n",
       "  </thead>\n",
       "  <tbody>\n",
       "    <tr>\n",
       "      <th>0</th>\n",
       "      <td>2023-05-16 15:43</td>\n",
       "      <td>John Lennon</td>\n",
       "      <td>Isolation - Remastered 2010</td>\n",
       "      <td>142789</td>\n",
       "    </tr>\n",
       "    <tr>\n",
       "      <th>1</th>\n",
       "      <td>2023-05-17 04:43</td>\n",
       "      <td>John Lennon</td>\n",
       "      <td>Isolation - Remastered 2010</td>\n",
       "      <td>29448</td>\n",
       "    </tr>\n",
       "    <tr>\n",
       "      <th>2</th>\n",
       "      <td>2023-05-17 04:44</td>\n",
       "      <td>John Lennon</td>\n",
       "      <td>Love - Remastered 2010</td>\n",
       "      <td>65613</td>\n",
       "    </tr>\n",
       "    <tr>\n",
       "      <th>3</th>\n",
       "      <td>2023-05-17 04:46</td>\n",
       "      <td>Felipe Gordon</td>\n",
       "      <td>Inherently Deep</td>\n",
       "      <td>101308</td>\n",
       "    </tr>\n",
       "    <tr>\n",
       "      <th>4</th>\n",
       "      <td>2023-05-17 04:47</td>\n",
       "      <td>Golf Trip</td>\n",
       "      <td>L in Vain</td>\n",
       "      <td>92322</td>\n",
       "    </tr>\n",
       "  </tbody>\n",
       "</table>\n",
       "</div>"
      ],
      "text/plain": [
       "            endTime     artistName                    trackName  msPlayed\n",
       "0  2023-05-16 15:43    John Lennon  Isolation - Remastered 2010    142789\n",
       "1  2023-05-17 04:43    John Lennon  Isolation - Remastered 2010     29448\n",
       "2  2023-05-17 04:44    John Lennon       Love - Remastered 2010     65613\n",
       "3  2023-05-17 04:46  Felipe Gordon              Inherently Deep    101308\n",
       "4  2023-05-17 04:47      Golf Trip                    L in Vain     92322"
      ]
     },
     "execution_count": 3,
     "metadata": {},
     "output_type": "execute_result"
    }
   ],
   "source": [
    "df = df.sort_values(by='endTime')\n",
    "df.head()"
   ]
  },
  {
   "cell_type": "markdown",
   "id": "0985a41d-30b8-4b88-8fc1-09e9728d65af",
   "metadata": {},
   "source": [
    "<span style=\"font-family:Helvetica Light\">\n",
    "\n",
    "Based on the data displayed above, I'm already noticing potential issue with the dataset's timezone. It seems unlikely that I'd be listening to music as early as 4 am. Let's delve deeper into this discrepancy with a graph."
   ]
  },
  {
   "cell_type": "code",
   "execution_count": 4,
   "id": "5ef9df5a-c3a9-41b2-a66c-d6ebdedabdbe",
   "metadata": {},
   "outputs": [
    {
     "data": {
      "image/png": "[encoded data removed]",
      "text/plain": [
       "<Figure size 600x400 with 1 Axes>"
      ]
     },
     "metadata": {},
     "output_type": "display_data"
    }
   ],
   "source": [
    "plt.figure(figsize=(6, 4)) \n",
    "\n",
    "df.endTime = pd.to_datetime(df.endTime) \n",
    "\n",
    "freq = df.groupby(df['endTime'].dt.hour).count()\n",
    "plt.plot(freq)\n",
    "plt.show()"
   ]
  },
  {
   "cell_type": "markdown",
   "id": "13a25065-bc62-460b-ae9a-4f4c9aa1cc15",
   "metadata": {},
   "source": [
    "<span style=\"font-family:Helvetica Light\">\n",
    "\n",
    "It appears the data are in UTC, while I reside in the Europe/Berlin timezone. Therefore, I'll need to convert it accordingly."
   ]
  },
  {
   "cell_type": "code",
   "execution_count": 5,
   "id": "5171c7f8-0f17-4341-b82e-060e1e3c399b",
   "metadata": {},
   "outputs": [
    {
     "data": {
      "text/html": [
       "<div>\n",
       "<style scoped>\n",
       "    .dataframe tbody tr th:only-of-type {\n",
       "        vertical-align: middle;\n",
       "    }\n",
       "\n",
       "    .dataframe tbody tr th {\n",
       "        vertical-align: top;\n",
       "    }\n",
       "\n",
       "    .dataframe thead th {\n",
       "        text-align: right;\n",
       "    }\n",
       "</style>\n",
       "<table border=\"1\" class=\"dataframe\">\n",
       "  <thead>\n",
       "    <tr style=\"text-align: right;\">\n",
       "      <th></th>\n",
       "      <th>endTime</th>\n",
       "      <th>artistName</th>\n",
       "      <th>trackName</th>\n",
       "      <th>msPlayed</th>\n",
       "    </tr>\n",
       "  </thead>\n",
       "  <tbody>\n",
       "    <tr>\n",
       "      <th>0</th>\n",
       "      <td>2023-05-16 17:43:00+02:00</td>\n",
       "      <td>John Lennon</td>\n",
       "      <td>Isolation - Remastered 2010</td>\n",
       "      <td>142789</td>\n",
       "    </tr>\n",
       "    <tr>\n",
       "      <th>1</th>\n",
       "      <td>2023-05-17 06:43:00+02:00</td>\n",
       "      <td>John Lennon</td>\n",
       "      <td>Isolation - Remastered 2010</td>\n",
       "      <td>29448</td>\n",
       "    </tr>\n",
       "    <tr>\n",
       "      <th>2</th>\n",
       "      <td>2023-05-17 06:44:00+02:00</td>\n",
       "      <td>John Lennon</td>\n",
       "      <td>Love - Remastered 2010</td>\n",
       "      <td>65613</td>\n",
       "    </tr>\n",
       "    <tr>\n",
       "      <th>3</th>\n",
       "      <td>2023-05-17 06:46:00+02:00</td>\n",
       "      <td>Felipe Gordon</td>\n",
       "      <td>Inherently Deep</td>\n",
       "      <td>101308</td>\n",
       "    </tr>\n",
       "    <tr>\n",
       "      <th>4</th>\n",
       "      <td>2023-05-17 06:47:00+02:00</td>\n",
       "      <td>Golf Trip</td>\n",
       "      <td>L in Vain</td>\n",
       "      <td>92322</td>\n",
       "    </tr>\n",
       "  </tbody>\n",
       "</table>\n",
       "</div>"
      ],
      "text/plain": [
       "                    endTime     artistName                    trackName  \\\n",
       "0 2023-05-16 17:43:00+02:00    John Lennon  Isolation - Remastered 2010   \n",
       "1 2023-05-17 06:43:00+02:00    John Lennon  Isolation - Remastered 2010   \n",
       "2 2023-05-17 06:44:00+02:00    John Lennon       Love - Remastered 2010   \n",
       "3 2023-05-17 06:46:00+02:00  Felipe Gordon              Inherently Deep   \n",
       "4 2023-05-17 06:47:00+02:00      Golf Trip                    L in Vain   \n",
       "\n",
       "   msPlayed  \n",
       "0    142789  \n",
       "1     29448  \n",
       "2     65613  \n",
       "3    101308  \n",
       "4     92322  "
      ]
     },
     "execution_count": 5,
     "metadata": {},
     "output_type": "execute_result"
    }
   ],
   "source": [
    "# localize the 'endTime' column to UTC\n",
    "df['endTime'] = df['endTime'].dt.tz_localize('UTC')\n",
    "\n",
    "# convert from UTC to Europe/Berlin timezone\n",
    "df['endTime'] = df['endTime'].dt.tz_convert('Europe/Berlin')\n",
    "\n",
    "df.head()"
   ]
  },
  {
   "cell_type": "code",
   "execution_count": 6,
   "id": "654a47c8-0bd7-41dc-8a9f-d89f130da47c",
   "metadata": {},
   "outputs": [
    {
     "data": {
      "text/html": [
       "<div>\n",
       "<style scoped>\n",
       "    .dataframe tbody tr th:only-of-type {\n",
       "        vertical-align: middle;\n",
       "    }\n",
       "\n",
       "    .dataframe tbody tr th {\n",
       "        vertical-align: top;\n",
       "    }\n",
       "\n",
       "    .dataframe thead th {\n",
       "        text-align: right;\n",
       "    }\n",
       "</style>\n",
       "<table border=\"1\" class=\"dataframe\">\n",
       "  <thead>\n",
       "    <tr style=\"text-align: right;\">\n",
       "      <th></th>\n",
       "      <th>endTime</th>\n",
       "      <th>artistName</th>\n",
       "      <th>trackName</th>\n",
       "      <th>msPlayed</th>\n",
       "      <th>sPlayed</th>\n",
       "      <th>mPlayed</th>\n",
       "      <th>hPlayed</th>\n",
       "      <th>hour</th>\n",
       "      <th>date</th>\n",
       "      <th>week</th>\n",
       "      <th>month</th>\n",
       "    </tr>\n",
       "  </thead>\n",
       "  <tbody>\n",
       "    <tr>\n",
       "      <th>0</th>\n",
       "      <td>2023-05-16 17:43:00+02:00</td>\n",
       "      <td>John Lennon</td>\n",
       "      <td>Isolation - Remastered 2010</td>\n",
       "      <td>142789</td>\n",
       "      <td>142.79</td>\n",
       "      <td>2.38</td>\n",
       "      <td>0.04</td>\n",
       "      <td>17</td>\n",
       "      <td>2023-05-16</td>\n",
       "      <td>2023-05-15</td>\n",
       "      <td>2023-05-01</td>\n",
       "    </tr>\n",
       "    <tr>\n",
       "      <th>1</th>\n",
       "      <td>2023-05-17 06:43:00+02:00</td>\n",
       "      <td>John Lennon</td>\n",
       "      <td>Isolation - Remastered 2010</td>\n",
       "      <td>29448</td>\n",
       "      <td>29.45</td>\n",
       "      <td>0.49</td>\n",
       "      <td>0.01</td>\n",
       "      <td>6</td>\n",
       "      <td>2023-05-17</td>\n",
       "      <td>2023-05-15</td>\n",
       "      <td>2023-05-01</td>\n",
       "    </tr>\n",
       "    <tr>\n",
       "      <th>2</th>\n",
       "      <td>2023-05-17 06:44:00+02:00</td>\n",
       "      <td>John Lennon</td>\n",
       "      <td>Love - Remastered 2010</td>\n",
       "      <td>65613</td>\n",
       "      <td>65.61</td>\n",
       "      <td>1.09</td>\n",
       "      <td>0.02</td>\n",
       "      <td>6</td>\n",
       "      <td>2023-05-17</td>\n",
       "      <td>2023-05-15</td>\n",
       "      <td>2023-05-01</td>\n",
       "    </tr>\n",
       "    <tr>\n",
       "      <th>3</th>\n",
       "      <td>2023-05-17 06:46:00+02:00</td>\n",
       "      <td>Felipe Gordon</td>\n",
       "      <td>Inherently Deep</td>\n",
       "      <td>101308</td>\n",
       "      <td>101.31</td>\n",
       "      <td>1.69</td>\n",
       "      <td>0.03</td>\n",
       "      <td>6</td>\n",
       "      <td>2023-05-17</td>\n",
       "      <td>2023-05-15</td>\n",
       "      <td>2023-05-01</td>\n",
       "    </tr>\n",
       "    <tr>\n",
       "      <th>4</th>\n",
       "      <td>2023-05-17 06:47:00+02:00</td>\n",
       "      <td>Golf Trip</td>\n",
       "      <td>L in Vain</td>\n",
       "      <td>92322</td>\n",
       "      <td>92.32</td>\n",
       "      <td>1.54</td>\n",
       "      <td>0.03</td>\n",
       "      <td>6</td>\n",
       "      <td>2023-05-17</td>\n",
       "      <td>2023-05-15</td>\n",
       "      <td>2023-05-01</td>\n",
       "    </tr>\n",
       "  </tbody>\n",
       "</table>\n",
       "</div>"
      ],
      "text/plain": [
       "                    endTime     artistName                    trackName  \\\n",
       "0 2023-05-16 17:43:00+02:00    John Lennon  Isolation - Remastered 2010   \n",
       "1 2023-05-17 06:43:00+02:00    John Lennon  Isolation - Remastered 2010   \n",
       "2 2023-05-17 06:44:00+02:00    John Lennon       Love - Remastered 2010   \n",
       "3 2023-05-17 06:46:00+02:00  Felipe Gordon              Inherently Deep   \n",
       "4 2023-05-17 06:47:00+02:00      Golf Trip                    L in Vain   \n",
       "\n",
       "   msPlayed  sPlayed  mPlayed  hPlayed  hour       date       week      month  \n",
       "0    142789   142.79     2.38     0.04    17 2023-05-16 2023-05-15 2023-05-01  \n",
       "1     29448    29.45     0.49     0.01     6 2023-05-17 2023-05-15 2023-05-01  \n",
       "2     65613    65.61     1.09     0.02     6 2023-05-17 2023-05-15 2023-05-01  \n",
       "3    101308   101.31     1.69     0.03     6 2023-05-17 2023-05-15 2023-05-01  \n",
       "4     92322    92.32     1.54     0.03     6 2023-05-17 2023-05-15 2023-05-01  "
      ]
     },
     "execution_count": 6,
     "metadata": {},
     "output_type": "execute_result"
    }
   ],
   "source": [
    "# converting milliseconds played to more readable formats\n",
    "df['sPlayed'] = (df['msPlayed'] / 1000).round(2)\n",
    "df['mPlayed'] = (df['sPlayed'] / 60).round(2)\n",
    "df['hPlayed'] = (df['mPlayed'] / 60).round(2)\n",
    "\n",
    "# additional time related transofmations \n",
    "df['hour'] = df['endTime'].dt.hour\n",
    "df['date'] = pd.to_datetime(df['endTime'].dt.date)\n",
    "df['week'] = df['date'].dt.to_period('W').dt.to_timestamp()\n",
    "df['month'] = df['date'].dt.to_period('M').dt.to_timestamp()\n",
    "\n",
    "df.head()"
   ]
  },
  {
   "cell_type": "code",
   "execution_count": 7,
   "id": "1de22b49-efe0-44d7-b242-8a08fac37c1e",
   "metadata": {},
   "outputs": [
    {
     "name": "stdout",
     "output_type": "stream",
     "text": [
      "(102, 4)\n"
     ]
    },
    {
     "data": {
      "text/html": [
       "<div>\n",
       "<style scoped>\n",
       "    .dataframe tbody tr th:only-of-type {\n",
       "        vertical-align: middle;\n",
       "    }\n",
       "\n",
       "    .dataframe tbody tr th {\n",
       "        vertical-align: top;\n",
       "    }\n",
       "\n",
       "    .dataframe thead th {\n",
       "        text-align: right;\n",
       "    }\n",
       "</style>\n",
       "<table border=\"1\" class=\"dataframe\">\n",
       "  <thead>\n",
       "    <tr style=\"text-align: right;\">\n",
       "      <th></th>\n",
       "      <th>endTime</th>\n",
       "      <th>podcastName</th>\n",
       "      <th>episodeName</th>\n",
       "      <th>msPlayed</th>\n",
       "    </tr>\n",
       "  </thead>\n",
       "  <tbody>\n",
       "    <tr>\n",
       "      <th>0</th>\n",
       "      <td>2023-05-17 16:00</td>\n",
       "      <td>Lex Fridman Podcast</td>\n",
       "      <td>#367 – Sam Altman: OpenAI CEO on GPT-4, ChatGP...</td>\n",
       "      <td>1806958</td>\n",
       "    </tr>\n",
       "    <tr>\n",
       "      <th>1</th>\n",
       "      <td>2023-05-21 08:38</td>\n",
       "      <td>Meditation Mountain</td>\n",
       "      <td>10 Minute Guided Meditation for Mindfulness</td>\n",
       "      <td>434688</td>\n",
       "    </tr>\n",
       "    <tr>\n",
       "      <th>2</th>\n",
       "      <td>2023-06-04 08:04</td>\n",
       "      <td>This Past Weekend w/ Theo Von</td>\n",
       "      <td>E436 Caleb Pressley</td>\n",
       "      <td>2165418</td>\n",
       "    </tr>\n",
       "    <tr>\n",
       "      <th>3</th>\n",
       "      <td>2023-06-09 10:23</td>\n",
       "      <td>anything goes with emma chamberlain</td>\n",
       "      <td>a talk with mac demarco [video]</td>\n",
       "      <td>401953</td>\n",
       "    </tr>\n",
       "    <tr>\n",
       "      <th>4</th>\n",
       "      <td>2023-06-09 11:41</td>\n",
       "      <td>anything goes with emma chamberlain</td>\n",
       "      <td>a talk with mac demarco [video]</td>\n",
       "      <td>1805573</td>\n",
       "    </tr>\n",
       "  </tbody>\n",
       "</table>\n",
       "</div>"
      ],
      "text/plain": [
       "            endTime                          podcastName  \\\n",
       "0  2023-05-17 16:00                  Lex Fridman Podcast   \n",
       "1  2023-05-21 08:38                  Meditation Mountain   \n",
       "2  2023-06-04 08:04        This Past Weekend w/ Theo Von   \n",
       "3  2023-06-09 10:23  anything goes with emma chamberlain   \n",
       "4  2023-06-09 11:41  anything goes with emma chamberlain   \n",
       "\n",
       "                                         episodeName  msPlayed  \n",
       "0  #367 – Sam Altman: OpenAI CEO on GPT-4, ChatGP...   1806958  \n",
       "1        10 Minute Guided Meditation for Mindfulness    434688  \n",
       "2                                E436 Caleb Pressley   2165418  \n",
       "3                    a talk with mac demarco [video]    401953  \n",
       "4                    a talk with mac demarco [video]   1805573  "
      ]
     },
     "execution_count": 7,
     "metadata": {},
     "output_type": "execute_result"
    }
   ],
   "source": [
    "# load historical streaming podcast data\n",
    "podcasts = pd.read_json('../data/raw/StreamingHistory_podcast_0.json')\n",
    "print(podcasts.shape)\n",
    "podcasts.head()"
   ]
  },
  {
   "cell_type": "code",
   "execution_count": 8,
   "id": "0b62c797-591e-476c-b6ba-f6656fbeabb4",
   "metadata": {},
   "outputs": [],
   "source": [
    "podcasts['endTime'] = pd.to_datetime(podcasts['endTime']) \n",
    "podcasts['endTime'] = podcasts['endTime'].dt.tz_localize('UTC')\n",
    "podcasts['endTime'] = podcasts['endTime'].dt.tz_convert('Europe/Berlin')\n",
    "\n",
    "podcasts['hPlayed'] = podcasts['msPlayed'] / (1000 * 60 * 60)"
   ]
  },
  {
   "cell_type": "code",
   "execution_count": 9,
   "id": "d6a98c8e-e8b3-4cd4-9ba8-b9d2e39ee86e",
   "metadata": {},
   "outputs": [
    {
     "data": {
      "text/html": [
       "<div>\n",
       "<style scoped>\n",
       "    .dataframe tbody tr th:only-of-type {\n",
       "        vertical-align: middle;\n",
       "    }\n",
       "\n",
       "    .dataframe tbody tr th {\n",
       "        vertical-align: top;\n",
       "    }\n",
       "\n",
       "    .dataframe thead th {\n",
       "        text-align: right;\n",
       "    }\n",
       "</style>\n",
       "<table border=\"1\" class=\"dataframe\">\n",
       "  <thead>\n",
       "    <tr style=\"text-align: right;\">\n",
       "      <th></th>\n",
       "      <th>artistName</th>\n",
       "      <th>trackName</th>\n",
       "      <th>artistId</th>\n",
       "      <th>trackId</th>\n",
       "      <th>trackPopularity</th>\n",
       "      <th>artistPopularity</th>\n",
       "      <th>noFollowers</th>\n",
       "      <th>artistGenres</th>\n",
       "      <th>danceability</th>\n",
       "      <th>energy</th>\n",
       "      <th>...</th>\n",
       "      <th>loudness</th>\n",
       "      <th>mode</th>\n",
       "      <th>speechiness</th>\n",
       "      <th>acousticness</th>\n",
       "      <th>instrumentalness</th>\n",
       "      <th>liveness</th>\n",
       "      <th>valence</th>\n",
       "      <th>tempo</th>\n",
       "      <th>duration_ms</th>\n",
       "      <th>time_signature</th>\n",
       "    </tr>\n",
       "  </thead>\n",
       "  <tbody>\n",
       "    <tr>\n",
       "      <th>0</th>\n",
       "      <td>John Lennon</td>\n",
       "      <td>Isolation - Remastered 2010</td>\n",
       "      <td>4x1nvY2FN8jxqAFA0DA02H</td>\n",
       "      <td>3sRQJYlA7P4oIRUwy8Im9r</td>\n",
       "      <td>43</td>\n",
       "      <td>66</td>\n",
       "      <td>5979523</td>\n",
       "      <td>['classic rock', 'rock']</td>\n",
       "      <td>0.571</td>\n",
       "      <td>0.0788</td>\n",
       "      <td>...</td>\n",
       "      <td>-15.284</td>\n",
       "      <td>1.0</td>\n",
       "      <td>0.0393</td>\n",
       "      <td>0.909</td>\n",
       "      <td>0.00921</td>\n",
       "      <td>0.0794</td>\n",
       "      <td>0.254</td>\n",
       "      <td>115.726</td>\n",
       "      <td>172253.0</td>\n",
       "      <td>4.0</td>\n",
       "    </tr>\n",
       "    <tr>\n",
       "      <th>1</th>\n",
       "      <td>John Lennon</td>\n",
       "      <td>Love - Remastered 2010</td>\n",
       "      <td>4x1nvY2FN8jxqAFA0DA02H</td>\n",
       "      <td>0SEmf7XdvzCmmEjtpZKIKl</td>\n",
       "      <td>50</td>\n",
       "      <td>66</td>\n",
       "      <td>5979523</td>\n",
       "      <td>['classic rock', 'rock']</td>\n",
       "      <td>0.613</td>\n",
       "      <td>0.0609</td>\n",
       "      <td>...</td>\n",
       "      <td>-21.297</td>\n",
       "      <td>1.0</td>\n",
       "      <td>0.0391</td>\n",
       "      <td>0.887</td>\n",
       "      <td>0.01970</td>\n",
       "      <td>0.0525</td>\n",
       "      <td>0.156</td>\n",
       "      <td>80.988</td>\n",
       "      <td>202147.0</td>\n",
       "      <td>4.0</td>\n",
       "    </tr>\n",
       "    <tr>\n",
       "      <th>2</th>\n",
       "      <td>Felipe Gordon</td>\n",
       "      <td>Inherently Deep</td>\n",
       "      <td>7rQKvsWUOJgXmInx2JuaXj</td>\n",
       "      <td>7uvLegwoUsnra3oZzimE4a</td>\n",
       "      <td>20</td>\n",
       "      <td>36</td>\n",
       "      <td>17379</td>\n",
       "      <td>['jazz house', 'lo-fi house']</td>\n",
       "      <td>0.803</td>\n",
       "      <td>0.5700</td>\n",
       "      <td>...</td>\n",
       "      <td>-8.236</td>\n",
       "      <td>0.0</td>\n",
       "      <td>0.0638</td>\n",
       "      <td>0.147</td>\n",
       "      <td>0.91500</td>\n",
       "      <td>0.1070</td>\n",
       "      <td>0.331</td>\n",
       "      <td>121.950</td>\n",
       "      <td>395204.0</td>\n",
       "      <td>4.0</td>\n",
       "    </tr>\n",
       "    <tr>\n",
       "      <th>3</th>\n",
       "      <td>Golf Trip</td>\n",
       "      <td>L in Vain</td>\n",
       "      <td>2cSZwherHAASXofK9ZFK2A</td>\n",
       "      <td>7GbiGMXMmtoAOznmgLDt4H</td>\n",
       "      <td>30</td>\n",
       "      <td>29</td>\n",
       "      <td>2729</td>\n",
       "      <td>[]</td>\n",
       "      <td>0.773</td>\n",
       "      <td>0.7270</td>\n",
       "      <td>...</td>\n",
       "      <td>-6.767</td>\n",
       "      <td>0.0</td>\n",
       "      <td>0.0417</td>\n",
       "      <td>0.182</td>\n",
       "      <td>0.03580</td>\n",
       "      <td>0.1130</td>\n",
       "      <td>0.950</td>\n",
       "      <td>108.003</td>\n",
       "      <td>254619.0</td>\n",
       "      <td>4.0</td>\n",
       "    </tr>\n",
       "    <tr>\n",
       "      <th>4</th>\n",
       "      <td>Loyle Carner</td>\n",
       "      <td>Ottolenghi</td>\n",
       "      <td>4oDjh8wNW5vDHyFRrDYC4k</td>\n",
       "      <td>64I9byMYBlS1ARsC3vtpgW</td>\n",
       "      <td>62</td>\n",
       "      <td>61</td>\n",
       "      <td>711297</td>\n",
       "      <td>['indie soul', 'london rap']</td>\n",
       "      <td>0.776</td>\n",
       "      <td>0.5930</td>\n",
       "      <td>...</td>\n",
       "      <td>-10.535</td>\n",
       "      <td>1.0</td>\n",
       "      <td>0.2520</td>\n",
       "      <td>0.327</td>\n",
       "      <td>0.00616</td>\n",
       "      <td>0.1860</td>\n",
       "      <td>0.247</td>\n",
       "      <td>94.970</td>\n",
       "      <td>197601.0</td>\n",
       "      <td>4.0</td>\n",
       "    </tr>\n",
       "  </tbody>\n",
       "</table>\n",
       "<p>5 rows × 21 columns</p>\n",
       "</div>"
      ],
      "text/plain": [
       "      artistName                    trackName                artistId  \\\n",
       "0    John Lennon  Isolation - Remastered 2010  4x1nvY2FN8jxqAFA0DA02H   \n",
       "1    John Lennon       Love - Remastered 2010  4x1nvY2FN8jxqAFA0DA02H   \n",
       "2  Felipe Gordon              Inherently Deep  7rQKvsWUOJgXmInx2JuaXj   \n",
       "3      Golf Trip                    L in Vain  2cSZwherHAASXofK9ZFK2A   \n",
       "4   Loyle Carner                   Ottolenghi  4oDjh8wNW5vDHyFRrDYC4k   \n",
       "\n",
       "                  trackId  trackPopularity  artistPopularity  noFollowers  \\\n",
       "0  3sRQJYlA7P4oIRUwy8Im9r               43                66      5979523   \n",
       "1  0SEmf7XdvzCmmEjtpZKIKl               50                66      5979523   \n",
       "2  7uvLegwoUsnra3oZzimE4a               20                36        17379   \n",
       "3  7GbiGMXMmtoAOznmgLDt4H               30                29         2729   \n",
       "4  64I9byMYBlS1ARsC3vtpgW               62                61       711297   \n",
       "\n",
       "                    artistGenres  danceability  energy  ...  loudness  mode  \\\n",
       "0       ['classic rock', 'rock']         0.571  0.0788  ...   -15.284   1.0   \n",
       "1       ['classic rock', 'rock']         0.613  0.0609  ...   -21.297   1.0   \n",
       "2  ['jazz house', 'lo-fi house']         0.803  0.5700  ...    -8.236   0.0   \n",
       "3                             []         0.773  0.7270  ...    -6.767   0.0   \n",
       "4   ['indie soul', 'london rap']         0.776  0.5930  ...   -10.535   1.0   \n",
       "\n",
       "   speechiness  acousticness  instrumentalness  liveness  valence    tempo  \\\n",
       "0       0.0393         0.909           0.00921    0.0794    0.254  115.726   \n",
       "1       0.0391         0.887           0.01970    0.0525    0.156   80.988   \n",
       "2       0.0638         0.147           0.91500    0.1070    0.331  121.950   \n",
       "3       0.0417         0.182           0.03580    0.1130    0.950  108.003   \n",
       "4       0.2520         0.327           0.00616    0.1860    0.247   94.970   \n",
       "\n",
       "   duration_ms  time_signature  \n",
       "0     172253.0             4.0  \n",
       "1     202147.0             4.0  \n",
       "2     395204.0             4.0  \n",
       "3     254619.0             4.0  \n",
       "4     197601.0             4.0  \n",
       "\n",
       "[5 rows x 21 columns]"
      ]
     },
     "execution_count": 9,
     "metadata": {},
     "output_type": "execute_result"
    }
   ],
   "source": [
    "# load track details extracted from spotify\n",
    "track_details = pd.read_csv('../data/track_details.csv')\n",
    "track_details.head()"
   ]
  },
  {
   "cell_type": "markdown",
   "id": "b0933a42-5016-4c22-a9a8-bb5973e9d6c5",
   "metadata": {},
   "source": [
    "<span style=\"font-family:Helvetica Light\">\n",
    "    \n",
    "## Configuring Chart Styles\n",
    "This section serves two main purposes:\n",
    "- _Color Definition_:\n",
    "  - Defining colors and color maps for all the charts, utilizing Spotify's brand color palette, specifically referencing the green shade provided in Spotify's brand guidelines.\n",
    "- *Style Unification*:\n",
    "    - Defining a function to unify the style across all charts, ensuring consistency in appearance.\n",
    "</span>"
   ]
  },
  {
   "cell_type": "code",
   "execution_count": 10,
   "id": "11a3a93e-6a5f-485d-9f4c-ffda74a9319c",
   "metadata": {},
   "outputs": [],
   "source": [
    "spotify_colors = ['#1DB954', '#191414']\n",
    "heat_pal = px.colors.sequential.YlGn"
   ]
  },
  {
   "cell_type": "code",
   "execution_count": 11,
   "id": "dcab24c2-686f-43c5-878e-7dc7fde19c3c",
   "metadata": {},
   "outputs": [
    {
     "data": {
      "text/plain": [
       "Renderers configuration\n",
       "-----------------------\n",
       "    Default renderer: 'plotly_mimetype+notebook'\n",
       "    Available renderers:\n",
       "        ['plotly_mimetype', 'jupyterlab', 'nteract', 'vscode',\n",
       "         'notebook', 'notebook_connected', 'kaggle', 'azure', 'colab',\n",
       "         'cocalc', 'databricks', 'json', 'png', 'jpeg', 'jpg', 'svg',\n",
       "         'pdf', 'browser', 'firefox', 'chrome', 'chromium', 'iframe',\n",
       "         'iframe_connected', 'sphinx_gallery', 'sphinx_gallery_png']"
      ]
     },
     "execution_count": 11,
     "metadata": {},
     "output_type": "execute_result"
    }
   ],
   "source": [
    "pio.renderers"
   ]
  },
  {
   "cell_type": "code",
   "execution_count": 13,
   "id": "7c41d8bc-c910-4969-b24b-7628a22f35b1",
   "metadata": {},
   "outputs": [],
   "source": [
    "def write(fig, name, facet=True, tickdefault=True):        \n",
    "\n",
    "    fig.update_layout(\n",
    "        template='plotly_white',\n",
    "        font_family='Helvetica'\n",
    "    )\n",
    "    \n",
    "    fig.update_yaxes(color='grey')\n",
    "    fig.update_xaxes(color='grey')\n",
    "\n",
    "    # use renderer set to \"svg\" to ensure the plotly chart is visible in github\n",
    "    if name == 'top_podcasts':\n",
    "        fig.show(renderer=\"jupyterlab\")\n",
    "    else:\n",
    "        fig.show(renderer=\"svg\")\n",
    "    \n",
    "    pio.write_image(fig, f'../images/{name}.png', format='png', scale=5)"
   ]
  },
  {
   "cell_type": "markdown",
   "id": "4c7522af-83a1-44d2-a6cb-89d4ca215e1f",
   "metadata": {},
   "source": [
    "<span style=\"font-family:Helvetica Light\">\n",
    "\n",
    "## 1. Listening Patterns\n",
    "### 1.1. Total Listening Time\n",
    "First, let's examine how much time I spent listening to music and podcasts over the whole year. This gives us a big-picture view of my listening habits."
   ]
  },
  {
   "cell_type": "code",
   "execution_count": 14,
   "id": "e4aa9aef-cec4-4c5f-b3bc-ab5171c66318",
   "metadata": {},
   "outputs": [
    {
     "name": "stdout",
     "output_type": "stream",
     "text": [
      "We are analyzing my streaming history from 2023-05-16 to 2024-05-17.\n"
     ]
    }
   ],
   "source": [
    "print(f'We are analyzing my streaming history from {df.endTime.min().date()} to {df.endTime.max().date()}.')"
   ]
  },
  {
   "cell_type": "code",
   "execution_count": 15,
   "id": "a2135e25-d3b4-413f-9c05-66e310021582",
   "metadata": {},
   "outputs": [
    {
     "name": "stdout",
     "output_type": "stream",
     "text": [
      "Minutes played in a year: 12,303.05\n",
      "Hours played in a year: 205.05\n"
     ]
    }
   ],
   "source": [
    "minutes_played = df.msPlayed.sum() / 60000\n",
    "hours_played = minutes_played / 60\n",
    "\n",
    "print(f'Minutes played in a year: {minutes_played:,.2f}')\n",
    "print(f'Hours played in a year: {hours_played:,.2f}')"
   ]
  },
  {
   "cell_type": "markdown",
   "id": "8ee06f10-eb71-4f0f-b873-fc2d42fcb5c7",
   "metadata": {},
   "source": [
    "<span style=\"font-family:Helvetica Light\">\n",
    "\n",
    "### 1.2. Monthly Listening Analysis\n",
    "Next, let's break it down month by month to see if there are any patterns or changes over time.\n"
   ]
  },
  {
   "cell_type": "code",
   "execution_count": 16,
   "id": "2b9c1bc4-620c-420e-9e93-d6e5041b9a56",
   "metadata": {},
   "outputs": [],
   "source": [
    "# aggregating data\n",
    "agg_dict = {'hPlayed': 'sum', 'trackName': 'count'}\n",
    "df_agg = df.groupby(['date', 'hour'], as_index=False).agg(agg_dict)\n",
    "\n",
    "# adding date features\n",
    "df_agg['dow'] = df_agg['date'].dt.dayofweek\n",
    "df_agg['dom'] = df_agg['date'].dt.day\n",
    "df_agg['day'] = df_agg['date'].dt.strftime('%a')\n",
    "\n",
    "df_agg = df_agg.sort_values(by=['dow', 'hour'], ascending=False)\n",
    "cols = df_agg['hour'].unique().tolist()\n",
    "\n",
    "# creating pivot table\n",
    "df_agg = pd.pivot_table(df_agg, index=['date', 'dow', 'day', 'dom'], \n",
    "                        columns='hour', values='hPlayed', aggfunc='sum').fillna(0).reset_index()\n",
    "hour_df = pd.melt(df_agg, id_vars=['date', 'dow', 'day', 'dom'], value_vars=cols)\n",
    "\n",
    "# adding week and month columns\n",
    "hour_df['week'] = hour_df['date'].dt.to_period('W').dt.to_timestamp()\n",
    "hour_df['month'] = hour_df['date'].dt.to_period('M').dt.to_timestamp()"
   ]
  },
  {
   "cell_type": "code",
   "execution_count": 17,
   "id": "cd3fa67c-587d-4789-8b52-aa710722b21a",
   "metadata": {},
   "outputs": [],
   "source": [
    "# calculating monthly usage\n",
    "df_monthly = hour_df.groupby(['month'], as_index=False).agg({'value': 'sum', 'date': 'nunique'})\n",
    "df_monthly['perc'] = 100 * (df_monthly['value'] / (24 * df_monthly['date']))\n",
    "\n",
    "# identifying min and max values for annotation\n",
    "min_perc = df_monthly['perc'].idxmin()\n",
    "max_perc = df_monthly['perc'].idxmax()\n",
    "\n",
    "# adding annotation text\n",
    "df_monthly['text'] = ''\n",
    "df_monthly.loc[[min_perc, max_perc], 'text'] = df_monthly.loc[[min_perc, max_perc], 'month'].dt.strftime('%b')"
   ]
  },
  {
   "cell_type": "code",
   "execution_count": 20,
   "id": "a3073a67-30b9-4260-ba64-4b8cfd8b6a97",
   "metadata": {},
   "outputs": [
    {
     "data": {
      "image/svg+xml": [
       "<svg class=\"main-svg\" xmlns=\"http://www.w3.org/2000/svg\" xmlns:xlink=\"http://www.w3.org/1999/xlink\" width=\"1000\" height=\"370\" style=\"\" viewBox=\"0 0 1000 370\"><rect x=\"0\" y=\"0\" width=\"1000\" height=\"370\" style=\"fill: rgb(255, 255, 255); fill-opacity: 1;\"/><defs id=\"defs-5c8abb\"><g class=\"clips\"><clipPath id=\"clip5c8abbxyplot\" class=\"plotclip\"><rect width=\"840\" height=\"230\"/></clipPath><clipPath class=\"axesclip\" id=\"clip5c8abbx\"><rect x=\"80\" y=\"0\" width=\"840\" height=\"370\"/></clipPath><clipPath class=\"axesclip\" id=\"clip5c8abby\"><rect x=\"0\" y=\"60\" width=\"1000\" height=\"230\"/></clipPath><clipPath class=\"axesclip\" id=\"clip5c8abbxy\"><rect x=\"80\" y=\"60\" width=\"840\" height=\"230\"/></clipPath></g><g class=\"gradients\"/><g class=\"patterns\"/></defs><g class=\"bglayer\"/><g class=\"layer-below\"><g class=\"imagelayer\"/><g class=\"shapelayer\"/></g><g class=\"cartesianlayer\"><g class=\"subplot xy\"><g class=\"layer-subplot\"><g class=\"shapelayer\"/><g class=\"imagelayer\"/></g><g class=\"minor-gridlayer\"><g class=\"x\"/><g class=\"y\"/></g><g class=\"gridlayer\"><g class=\"x\"><path class=\"xgrid crisp\" transform=\"translate(125.75,0)\" d=\"M0,60v230\" style=\"stroke: rgb(235, 240, 248); stroke-opacity: 1; stroke-width: 1px;\"/><path class=\"xgrid crisp\" transform=\"translate(250.5,0)\" d=\"M0,60v230\" style=\"stroke: rgb(235, 240, 248); stroke-opacity: 1; stroke-width: 1px;\"/><path class=\"xgrid crisp\" transform=\"translate(377.3,0)\" d=\"M0,60v230\" style=\"stroke: rgb(235, 240, 248); stroke-opacity: 1; stroke-width: 1px;\"/><path class=\"xgrid crisp\" transform=\"translate(502.05,0)\" d=\"M0,60v230\" style=\"stroke: rgb(235, 240, 248); stroke-opacity: 1; stroke-width: 1px;\"/><path class=\"xgrid crisp\" transform=\"translate(626.8,0)\" d=\"M0,60v230\" style=\"stroke: rgb(235, 240, 248); stroke-opacity: 1; stroke-width: 1px;\"/><path class=\"xgrid crisp\" transform=\"translate(749.5,0)\" d=\"M0,60v230\" style=\"stroke: rgb(235, 240, 248); stroke-opacity: 1; stroke-width: 1px;\"/><path class=\"xgrid crisp\" transform=\"translate(874.25,0)\" d=\"M0,60v230\" style=\"stroke: rgb(235, 240, 248); stroke-opacity: 1; stroke-width: 1px;\"/></g><g class=\"y\"><path class=\"ygrid crisp\" transform=\"translate(0,251.67)\" d=\"M80,0h840\" style=\"stroke: rgb(235, 240, 248); stroke-opacity: 1; stroke-width: 1px;\"/><path class=\"ygrid crisp\" transform=\"translate(0,213.33)\" d=\"M80,0h840\" style=\"stroke: rgb(235, 240, 248); stroke-opacity: 1; stroke-width: 1px;\"/><path class=\"ygrid crisp\" transform=\"translate(0,175)\" d=\"M80,0h840\" style=\"stroke: rgb(235, 240, 248); stroke-opacity: 1; stroke-width: 1px;\"/><path class=\"ygrid crisp\" transform=\"translate(0,136.67000000000002)\" d=\"M80,0h840\" style=\"stroke: rgb(235, 240, 248); stroke-opacity: 1; stroke-width: 1px;\"/><path class=\"ygrid crisp\" transform=\"translate(0,98.33)\" d=\"M80,0h840\" style=\"stroke: rgb(235, 240, 248); stroke-opacity: 1; stroke-width: 1px;\"/></g></g><g class=\"zerolinelayer\"><path class=\"yzl zl crisp\" transform=\"translate(0,290)\" d=\"M80,0h840\" style=\"stroke: rgb(235, 240, 248); stroke-opacity: 1; stroke-width: 2px;\"/></g><path class=\"xlines-below\"/><path class=\"ylines-below\"/><g class=\"overlines-below\"/><g class=\"xaxislayer-below\"/><g class=\"yaxislayer-below\"/><g class=\"overaxes-below\"/><g class=\"plot\" transform=\"translate(80,60)\" clip-path=\"url(#clip5c8abbxyplot)\"><g class=\"scatterlayer mlayer\"><g class=\"trace scatter tracef38ea9\" style=\"stroke-miterlimit: 2; opacity: 1;\"><g class=\"fills\"/><g class=\"errorbars\"/><g class=\"lines\"><path class=\"js-line\" d=\"M45.75,120.16Q89.63,67.54 109.15,70.51C131.76,73.95 146.08,144.6 170.5,159.36C189.28,170.72 212.85,168.06 233.9,167.07C255.12,166.07 277.45,162.97 297.3,153.24C319.34,142.44 338.29,119.98 358.65,101.92C379.89,83.08 400.77,43 422.05,42.28C442.37,41.59 461.67,80.21 483.4,92.64C503.44,104.11 525.63,108.41 546.8,115.93C567.89,123.42 589.19,135.93 610.19,137.65C630.08,139.28 649.36,128.22 669.5,127.66C690.24,127.08 713.71,142.28 732.9,134.72Q756.22,125.53 794.25,63.19\" style=\"vector-effect: non-scaling-stroke; fill: none; stroke: rgb(29, 185, 84); stroke-opacity: 1; stroke-width: 2.5px; opacity: 1;\"/></g><g class=\"points\"><path class=\"point\" transform=\"translate(45.75,120.16)\" d=\"M3,0A3,3 0 1,1 0,-3A3,3 0 0,1 3,0Z\" style=\"opacity: 1; stroke-width: 0px; fill: rgb(29, 185, 84); fill-opacity: 1;\"/><path class=\"point\" transform=\"translate(109.15,70.51)\" d=\"M3,0A3,3 0 1,1 0,-3A3,3 0 0,1 3,0Z\" style=\"opacity: 1; stroke-width: 0px; fill: rgb(29, 185, 84); fill-opacity: 1;\"/><path class=\"point\" transform=\"translate(170.5,159.36)\" d=\"M3,0A3,3 0 1,1 0,-3A3,3 0 0,1 3,0Z\" style=\"opacity: 1; stroke-width: 0px; fill: rgb(29, 185, 84); fill-opacity: 1;\"/><path class=\"point\" transform=\"translate(233.9,167.07)\" d=\"M3,0A3,3 0 1,1 0,-3A3,3 0 0,1 3,0Z\" style=\"opacity: 1; stroke-width: 0px; fill: rgb(29, 185, 84); fill-opacity: 1;\"/><path class=\"point\" transform=\"translate(297.3,153.24)\" d=\"M3,0A3,3 0 1,1 0,-3A3,3 0 0,1 3,0Z\" style=\"opacity: 1; stroke-width: 0px; fill: rgb(29, 185, 84); fill-opacity: 1;\"/><path class=\"point\" transform=\"translate(358.65,101.92)\" d=\"M3,0A3,3 0 1,1 0,-3A3,3 0 0,1 3,0Z\" style=\"opacity: 1; stroke-width: 0px; fill: rgb(29, 185, 84); fill-opacity: 1;\"/><path class=\"point\" transform=\"translate(422.05,42.28)\" d=\"M3,0A3,3 0 1,1 0,-3A3,3 0 0,1 3,0Z\" style=\"opacity: 1; stroke-width: 0px; fill: rgb(29, 185, 84); fill-opacity: 1;\"/><path class=\"point\" transform=\"translate(483.4,92.64)\" d=\"M3,0A3,3 0 1,1 0,-3A3,3 0 0,1 3,0Z\" style=\"opacity: 1; stroke-width: 0px; fill: rgb(29, 185, 84); fill-opacity: 1;\"/><path class=\"point\" transform=\"translate(546.8,115.93)\" d=\"M3,0A3,3 0 1,1 0,-3A3,3 0 0,1 3,0Z\" style=\"opacity: 1; stroke-width: 0px; fill: rgb(29, 185, 84); fill-opacity: 1;\"/><path class=\"point\" transform=\"translate(610.19,137.65)\" d=\"M3,0A3,3 0 1,1 0,-3A3,3 0 0,1 3,0Z\" style=\"opacity: 1; stroke-width: 0px; fill: rgb(29, 185, 84); fill-opacity: 1;\"/><path class=\"point\" transform=\"translate(669.5,127.66)\" d=\"M3,0A3,3 0 1,1 0,-3A3,3 0 0,1 3,0Z\" style=\"opacity: 1; stroke-width: 0px; fill: rgb(29, 185, 84); fill-opacity: 1;\"/><path class=\"point\" transform=\"translate(732.9,134.72)\" d=\"M3,0A3,3 0 1,1 0,-3A3,3 0 0,1 3,0Z\" style=\"opacity: 1; stroke-width: 0px; fill: rgb(29, 185, 84); fill-opacity: 1;\"/><path class=\"point\" transform=\"translate(794.25,63.19)\" d=\"M3,0A3,3 0 1,1 0,-3A3,3 0 0,1 3,0Z\" style=\"opacity: 1; stroke-width: 0px; fill: rgb(29, 185, 84); fill-opacity: 1;\"/></g><g class=\"text\"><g class=\"textpoint\"/><g class=\"textpoint\"/><g class=\"textpoint\"/><g class=\"textpoint\" transform=\"translate(0,-7.75)\"><text x=\"233.9\" y=\"167.07\" text-anchor=\"middle\" style=\"font-family: Helvetica; font-size: 12px; fill: rgb(42, 63, 95); fill-opacity: 1; white-space: pre;\">Aug</text></g><g class=\"textpoint\"/><g class=\"textpoint\"/><g class=\"textpoint\" transform=\"translate(0,-7.75)\"><text x=\"422.05\" y=\"42.28\" text-anchor=\"middle\" style=\"font-family: Helvetica; font-size: 12px; fill: rgb(42, 63, 95); fill-opacity: 1; white-space: pre;\">Nov</text></g><g class=\"textpoint\"/><g class=\"textpoint\"/><g class=\"textpoint\"/><g class=\"textpoint\"/><g class=\"textpoint\"/><g class=\"textpoint\"/></g></g></g></g><g class=\"overplot\"/><path class=\"xlines-above crisp\" d=\"M0,0\" style=\"fill: none;\"/><path class=\"ylines-above crisp\" d=\"M0,0\" style=\"fill: none;\"/><g class=\"overlines-above\"/><g class=\"xaxislayer-above\"><g class=\"xtick\"><text text-anchor=\"middle\" x=\"0\" y=\"303\" transform=\"translate(125.75,0)\" style=\"font-family: Helvetica; font-size: 12px; fill: rgb(128, 128, 128); fill-opacity: 1; white-space: pre; opacity: 1;\">May 23</text></g><g class=\"xtick\"><text text-anchor=\"middle\" x=\"0\" y=\"303\" style=\"font-family: Helvetica; font-size: 12px; fill: rgb(128, 128, 128); fill-opacity: 1; white-space: pre; opacity: 1;\" transform=\"translate(250.5,0)\">Jul 23</text></g><g class=\"xtick\"><text text-anchor=\"middle\" x=\"0\" y=\"303\" style=\"font-family: Helvetica; font-size: 12px; fill: rgb(128, 128, 128); fill-opacity: 1; white-space: pre; opacity: 1;\" transform=\"translate(377.3,0)\">Sep 23</text></g><g class=\"xtick\"><text text-anchor=\"middle\" x=\"0\" y=\"303\" style=\"font-family: Helvetica; font-size: 12px; fill: rgb(128, 128, 128); fill-opacity: 1; white-space: pre; opacity: 1;\" transform=\"translate(502.05,0)\">Nov 23</text></g><g class=\"xtick\"><text text-anchor=\"middle\" x=\"0\" y=\"303\" style=\"font-family: Helvetica; font-size: 12px; fill: rgb(128, 128, 128); fill-opacity: 1; white-space: pre; opacity: 1;\" transform=\"translate(626.8,0)\">Jan 24</text></g><g class=\"xtick\"><text text-anchor=\"middle\" x=\"0\" y=\"303\" style=\"font-family: Helvetica; font-size: 12px; fill: rgb(128, 128, 128); fill-opacity: 1; white-space: pre; opacity: 1;\" transform=\"translate(749.5,0)\">Mar 24</text></g><g class=\"xtick\"><text text-anchor=\"middle\" x=\"0\" y=\"303\" style=\"font-family: Helvetica; font-size: 12px; fill: rgb(128, 128, 128); fill-opacity: 1; white-space: pre; opacity: 1;\" transform=\"translate(874.25,0)\">May 24</text></g></g><g class=\"yaxislayer-above\"><g class=\"ytick\"><text text-anchor=\"end\" x=\"79\" y=\"4.199999999999999\" transform=\"translate(0,290)\" style=\"font-family: Helvetica; font-size: 12px; fill: rgb(128, 128, 128); fill-opacity: 1; white-space: pre; opacity: 1;\">0%</text></g><g class=\"ytick\"><text text-anchor=\"end\" x=\"79\" y=\"4.199999999999999\" style=\"font-family: Helvetica; font-size: 12px; fill: rgb(128, 128, 128); fill-opacity: 1; white-space: pre; opacity: 1;\" transform=\"translate(0,251.67)\">1%</text></g><g class=\"ytick\"><text text-anchor=\"end\" x=\"79\" y=\"4.199999999999999\" style=\"font-family: Helvetica; font-size: 12px; fill: rgb(128, 128, 128); fill-opacity: 1; white-space: pre; opacity: 1;\" transform=\"translate(0,213.33)\">2%</text></g><g class=\"ytick\"><text text-anchor=\"end\" x=\"79\" y=\"4.199999999999999\" style=\"font-family: Helvetica; font-size: 12px; fill: rgb(128, 128, 128); fill-opacity: 1; white-space: pre; opacity: 1;\" transform=\"translate(0,175)\">3%</text></g><g class=\"ytick\"><text text-anchor=\"end\" x=\"79\" y=\"4.199999999999999\" style=\"font-family: Helvetica; font-size: 12px; fill: rgb(128, 128, 128); fill-opacity: 1; white-space: pre; opacity: 1;\" transform=\"translate(0,136.67000000000002)\">4%</text></g><g class=\"ytick\"><text text-anchor=\"end\" x=\"79\" y=\"4.199999999999999\" style=\"font-family: Helvetica; font-size: 12px; fill: rgb(128, 128, 128); fill-opacity: 1; white-space: pre; opacity: 1;\" transform=\"translate(0,98.33)\">5%</text></g><g class=\"ytick\"><text text-anchor=\"end\" x=\"79\" y=\"4.199999999999999\" style=\"font-family: Helvetica; font-size: 12px; fill: rgb(128, 128, 128); fill-opacity: 1; white-space: pre; opacity: 1;\" transform=\"translate(0,60)\">6%</text></g></g><g class=\"overaxes-above\"/></g></g><g class=\"polarlayer\"/><g class=\"smithlayer\"/><g class=\"ternarylayer\"/><g class=\"geolayer\"/><g class=\"funnelarealayer\"/><g class=\"pielayer\"/><g class=\"iciclelayer\"/><g class=\"treemaplayer\"/><g class=\"sunburstlayer\"/><g class=\"glimages\"/><defs id=\"topdefs-5c8abb\"><g class=\"clips\"/></defs><g class=\"layer-above\"><g class=\"imagelayer\"/><g class=\"shapelayer\"/></g><g class=\"infolayer\"><g class=\"g-gtitle\"><text class=\"gtitle\" x=\"50\" y=\"30\" text-anchor=\"start\" dy=\"0em\" style=\"font-family: Helvetica; font-size: 17px; fill: rgb(42, 63, 95); opacity: 1; font-weight: normal; white-space: pre;\"><tspan style=\"font-weight:bold\">Spotify:</tspan><tspan style=\"font-style:italic\"> How much time did I spend on Spotify each month?</tspan></text></g><g class=\"g-xtitle\"/><g class=\"g-ytitle\"><text class=\"ytitle\" transform=\"rotate(-90,36.85625,175)\" x=\"36.85625\" y=\"175\" text-anchor=\"middle\" style=\"font-family: Helvetica; font-size: 14px; fill: rgb(128, 128, 128); opacity: 1; font-weight: normal; white-space: pre;\">% of total month time listening to music</text></g></g></svg>"
      ]
     },
     "metadata": {},
     "output_type": "display_data"
    }
   ],
   "source": [
    "# plotting\n",
    "fig = px.line(df_monthly, x='month', y='perc', line_shape='spline', text='text',\n",
    "              color_discrete_sequence=spotify_colors)\n",
    "fig.update_traces(mode='lines+markers+text', textposition='top center', line_width=2.5)\n",
    "fig.update_yaxes(rangemode='tozero', ticksuffix='%')\n",
    "fig.update_xaxes(tickformat='%b %y', nticks=7)\n",
    "fig.update_layout(\n",
    "    title='<b>Spotify:</b><i> How much time did I spend on Spotify each month?</i>',\n",
    "    yaxis_title='% of total month time listening to music',\n",
    "    xaxis_title='',\n",
    "    yaxis_range=[0, 6],\n",
    "    height=370,\n",
    "    width=1000\n",
    "\n",
    ")\n",
    "\n",
    "write(fig, 'monthly_analysis')"
   ]
  },
  {
   "cell_type": "markdown",
   "id": "143acbb7-0727-4350-8eb3-18f781e09230",
   "metadata": {},
   "source": [
    "<span style=\"font-family:Helvetica Light\">\n",
    "\n",
    "### 1.3. Weekly Listening Analysis\n",
    "\n",
    "Now, let's zoom in on each week to see when I listen to music the most and if my habits change on weekends."
   ]
  },
  {
   "cell_type": "code",
   "execution_count": 21,
   "id": "e29d586c-0fe0-48b9-8130-715116624cb4",
   "metadata": {},
   "outputs": [
    {
     "data": {
      "image/svg+xml": [
       "<svg class=\"main-svg\" xmlns=\"http://www.w3.org/2000/svg\" xmlns:xlink=\"http://www.w3.org/1999/xlink\" width=\"1000\" height=\"370\" style=\"\" viewBox=\"0 0 1000 370\"><rect x=\"0\" y=\"0\" width=\"1000\" height=\"370\" style=\"fill: rgb(255, 255, 255); fill-opacity: 1;\"/><defs id=\"defs-28485b\"><g class=\"clips\"><clipPath id=\"clip28485bxyplot\" class=\"plotclip\"><rect width=\"840\" height=\"230\"/></clipPath><clipPath class=\"axesclip\" id=\"clip28485bx\"><rect x=\"80\" y=\"0\" width=\"840\" height=\"370\"/></clipPath><clipPath class=\"axesclip\" id=\"clip28485by\"><rect x=\"0\" y=\"60\" width=\"1000\" height=\"230\"/></clipPath><clipPath class=\"axesclip\" id=\"clip28485bxy\"><rect x=\"80\" y=\"60\" width=\"840\" height=\"230\"/></clipPath></g><g class=\"gradients\"/><g class=\"patterns\"/></defs><g class=\"bglayer\"/><g class=\"layer-below\"><g class=\"imagelayer\"/><g class=\"shapelayer\"/></g><g class=\"cartesianlayer\"><g class=\"subplot xy\"><g class=\"layer-subplot\"><g class=\"shapelayer\"/><g class=\"imagelayer\"/></g><g class=\"minor-gridlayer\"><g class=\"x\"/><g class=\"y\"/></g><g class=\"gridlayer\"><g class=\"x\"><path class=\"xgrid crisp\" transform=\"translate(125.75,0)\" d=\"M0,60v230\" style=\"stroke: rgb(235, 240, 248); stroke-opacity: 1; stroke-width: 1px;\"/><path class=\"xgrid crisp\" transform=\"translate(250.5,0)\" d=\"M0,60v230\" style=\"stroke: rgb(235, 240, 248); stroke-opacity: 1; stroke-width: 1px;\"/><path class=\"xgrid crisp\" transform=\"translate(375.25,0)\" d=\"M0,60v230\" style=\"stroke: rgb(235, 240, 248); stroke-opacity: 1; stroke-width: 1px;\"/><path class=\"xgrid crisp\" transform=\"translate(500,0)\" d=\"M0,60v230\" style=\"stroke: rgb(235, 240, 248); stroke-opacity: 1; stroke-width: 1px;\"/><path class=\"xgrid crisp\" transform=\"translate(624.75,0)\" d=\"M0,60v230\" style=\"stroke: rgb(235, 240, 248); stroke-opacity: 1; stroke-width: 1px;\"/><path class=\"xgrid crisp\" transform=\"translate(749.5,0)\" d=\"M0,60v230\" style=\"stroke: rgb(235, 240, 248); stroke-opacity: 1; stroke-width: 1px;\"/><path class=\"xgrid crisp\" transform=\"translate(874.25,0)\" d=\"M0,60v230\" style=\"stroke: rgb(235, 240, 248); stroke-opacity: 1; stroke-width: 1px;\"/></g><g class=\"y\"/></g><g class=\"zerolinelayer\"><path class=\"yzl zl crisp\" transform=\"translate(0,290)\" d=\"M80,0h840\" style=\"stroke: rgb(235, 240, 248); stroke-opacity: 1; stroke-width: 2px;\"/></g><path class=\"xlines-below\"/><path class=\"ylines-below\"/><g class=\"overlines-below\"/><g class=\"xaxislayer-below\"/><g class=\"yaxislayer-below\"/><g class=\"overaxes-below\"/><g class=\"plot\" transform=\"translate(80,60)\" clip-path=\"url(#clip28485bxyplot)\"><g class=\"scatterlayer mlayer\"><g class=\"trace scatter tracec00192\" style=\"stroke-miterlimit: 2; opacity: 1;\"><g class=\"fills\"/><g class=\"errorbars\"/><g class=\"lines\"><path class=\"js-line\" d=\"M45.75,168.73Q128.74,149.81 170.5,145.46C211.91,141.14 253.7,141.42 295.25,142.55C336.86,143.68 378.82,156.64 420,152.25C462,147.77 503.12,115.33 544.75,115.03C586.29,114.73 627.51,144.39 669.5,150.31Q710.69,156.11 794.25,150.85\" style=\"vector-effect: non-scaling-stroke; fill: none; stroke: rgb(29, 185, 84); stroke-opacity: 1; stroke-width: 2px; opacity: 1;\"/></g><g class=\"points\"><path class=\"point\" transform=\"translate(45.75,168.73)\" d=\"M3,0A3,3 0 1,1 0,-3A3,3 0 0,1 3,0Z\" style=\"opacity: 1; stroke-width: 0px; fill: rgb(29, 185, 84); fill-opacity: 1;\"/><path class=\"point\" transform=\"translate(170.5,145.46)\" d=\"M3,0A3,3 0 1,1 0,-3A3,3 0 0,1 3,0Z\" style=\"opacity: 1; stroke-width: 0px; fill: rgb(29, 185, 84); fill-opacity: 1;\"/><path class=\"point\" transform=\"translate(295.25,142.55)\" d=\"M3,0A3,3 0 1,1 0,-3A3,3 0 0,1 3,0Z\" style=\"opacity: 1; stroke-width: 0px; fill: rgb(29, 185, 84); fill-opacity: 1;\"/><path class=\"point\" transform=\"translate(420,152.25)\" d=\"M3,0A3,3 0 1,1 0,-3A3,3 0 0,1 3,0Z\" style=\"opacity: 1; stroke-width: 0px; fill: rgb(29, 185, 84); fill-opacity: 1;\"/><path class=\"point\" transform=\"translate(544.75,115.03)\" d=\"M3,0A3,3 0 1,1 0,-3A3,3 0 0,1 3,0Z\" style=\"opacity: 1; stroke-width: 0px; fill: rgb(29, 185, 84); fill-opacity: 1;\"/><path class=\"point\" transform=\"translate(669.5,150.31)\" d=\"M3,0A3,3 0 1,1 0,-3A3,3 0 0,1 3,0Z\" style=\"opacity: 1; stroke-width: 0px; fill: rgb(29, 185, 84); fill-opacity: 1;\"/><path class=\"point\" transform=\"translate(794.25,150.85)\" d=\"M3,0A3,3 0 1,1 0,-3A3,3 0 0,1 3,0Z\" style=\"opacity: 1; stroke-width: 0px; fill: rgb(29, 185, 84); fill-opacity: 1;\"/></g><g class=\"text\"><g class=\"textpoint\" transform=\"translate(0,-7.75)\"><text x=\"45.75\" y=\"168.73\" text-anchor=\"middle\" style=\"font-family: Helvetica; font-size: 12px; fill: rgb(42, 63, 95); fill-opacity: 1; white-space: pre;\">0.5h</text></g><g class=\"textpoint\" transform=\"translate(0,-7.75)\"><text x=\"170.5\" y=\"145.46\" text-anchor=\"middle\" style=\"font-family: Helvetica; font-size: 12px; fill: rgb(42, 63, 95); fill-opacity: 1; white-space: pre;\">0.7h</text></g><g class=\"textpoint\" transform=\"translate(0,-7.75)\"><text x=\"295.25\" y=\"142.55\" text-anchor=\"middle\" style=\"font-family: Helvetica; font-size: 12px; fill: rgb(42, 63, 95); fill-opacity: 1; white-space: pre;\">0.8h</text></g><g class=\"textpoint\" transform=\"translate(0,-7.75)\"><text x=\"420\" y=\"152.25\" text-anchor=\"middle\" style=\"font-family: Helvetica; font-size: 12px; fill: rgb(42, 63, 95); fill-opacity: 1; white-space: pre;\">0.7h</text></g><g class=\"textpoint\" transform=\"translate(0,-7.75)\"><text x=\"544.75\" y=\"115.03\" text-anchor=\"middle\" style=\"font-family: Helvetica; font-size: 12px; fill: rgb(42, 63, 95); fill-opacity: 1; white-space: pre;\">1.0h</text></g><g class=\"textpoint\" transform=\"translate(0,-7.75)\"><text x=\"669.5\" y=\"150.31\" text-anchor=\"middle\" style=\"font-family: Helvetica; font-size: 12px; fill: rgb(42, 63, 95); fill-opacity: 1; white-space: pre;\">0.7h</text></g><g class=\"textpoint\" transform=\"translate(0,-7.75)\"><text x=\"794.25\" y=\"150.85\" text-anchor=\"middle\" style=\"font-family: Helvetica; font-size: 12px; fill: rgb(42, 63, 95); fill-opacity: 1; white-space: pre;\">0.7h</text></g></g></g></g></g><g class=\"overplot\"/><path class=\"xlines-above crisp\" d=\"M0,0\" style=\"fill: none;\"/><path class=\"ylines-above crisp\" d=\"M0,0\" style=\"fill: none;\"/><g class=\"overlines-above\"/><g class=\"xaxislayer-above\"><g class=\"xtick\"><text text-anchor=\"middle\" x=\"0\" y=\"303\" transform=\"translate(125.75,0)\" style=\"font-family: Helvetica; font-size: 12px; fill: rgb(128, 128, 128); fill-opacity: 1; white-space: pre; opacity: 1;\">Mon</text></g><g class=\"xtick\"><text text-anchor=\"middle\" x=\"0\" y=\"303\" transform=\"translate(250.5,0)\" style=\"font-family: Helvetica; font-size: 12px; fill: rgb(128, 128, 128); fill-opacity: 1; white-space: pre; opacity: 1;\">Tue</text></g><g class=\"xtick\"><text text-anchor=\"middle\" x=\"0\" y=\"303\" transform=\"translate(375.25,0)\" style=\"font-family: Helvetica; font-size: 12px; fill: rgb(128, 128, 128); fill-opacity: 1; white-space: pre; opacity: 1;\">Wed</text></g><g class=\"xtick\"><text text-anchor=\"middle\" x=\"0\" y=\"303\" transform=\"translate(500,0)\" style=\"font-family: Helvetica; font-size: 12px; fill: rgb(128, 128, 128); fill-opacity: 1; white-space: pre; opacity: 1;\">Thu</text></g><g class=\"xtick\"><text text-anchor=\"middle\" x=\"0\" y=\"303\" transform=\"translate(624.75,0)\" style=\"font-family: Helvetica; font-size: 12px; fill: rgb(128, 128, 128); fill-opacity: 1; white-space: pre; opacity: 1;\">Fri</text></g><g class=\"xtick\"><text text-anchor=\"middle\" x=\"0\" y=\"303\" transform=\"translate(749.5,0)\" style=\"font-family: Helvetica; font-size: 12px; fill: rgb(128, 128, 128); fill-opacity: 1; white-space: pre; opacity: 1;\">Sat</text></g><g class=\"xtick\"><text text-anchor=\"middle\" x=\"0\" y=\"303\" transform=\"translate(874.25,0)\" style=\"font-family: Helvetica; font-size: 12px; fill: rgb(128, 128, 128); fill-opacity: 1; white-space: pre; opacity: 1;\">Sun</text></g></g><g class=\"yaxislayer-above\"><g class=\"ytick\"><text text-anchor=\"end\" x=\"79\" y=\"4.199999999999999\" transform=\"translate(0,290)\" style=\"font-family: Helvetica; font-size: 12px; fill: rgb(128, 128, 128); fill-opacity: 1; white-space: pre; opacity: 1;\">0h</text></g><g class=\"ytick\"><text text-anchor=\"end\" x=\"79\" y=\"4.199999999999999\" style=\"font-family: Helvetica; font-size: 12px; fill: rgb(128, 128, 128); fill-opacity: 1; white-space: pre; opacity: 1;\" transform=\"translate(0,60)\">2h</text></g></g><g class=\"overaxes-above\"/></g></g><g class=\"polarlayer\"/><g class=\"smithlayer\"/><g class=\"ternarylayer\"/><g class=\"geolayer\"/><g class=\"funnelarealayer\"/><g class=\"pielayer\"/><g class=\"iciclelayer\"/><g class=\"treemaplayer\"/><g class=\"sunburstlayer\"/><g class=\"glimages\"/><defs id=\"topdefs-28485b\"><g class=\"clips\"/></defs><g class=\"layer-above\"><g class=\"imagelayer\"/><g class=\"shapelayer\"/></g><g class=\"infolayer\"><g class=\"g-gtitle\"><text class=\"gtitle\" x=\"50\" y=\"30\" text-anchor=\"start\" dy=\"0em\" style=\"font-family: Helvetica; font-size: 17px; fill: rgb(42, 63, 95); opacity: 1; font-weight: normal; white-space: pre;\"><tspan style=\"font-weight:bold\">Spotify:</tspan><tspan style=\"font-style:italic\"> When in the week do I listen to music the most?</tspan></text></g><g class=\"g-xtitle\"><text class=\"xtitle\" x=\"500\" y=\"330.8\" text-anchor=\"middle\" style=\"font-family: Helvetica; font-size: 14px; fill: rgb(128, 128, 128); opacity: 1; font-weight: normal; white-space: pre;\">Day of the week</text></g><g class=\"g-ytitle\"><text class=\"ytitle\" transform=\"rotate(-90,40.840625,175)\" x=\"40.840625\" y=\"175\" text-anchor=\"middle\" style=\"font-family: Helvetica; font-size: 14px; fill: rgb(128, 128, 128); opacity: 1; font-weight: normal; white-space: pre;\">Average hours listened per day</text></g></g></svg>"
      ]
     },
     "metadata": {},
     "output_type": "display_data"
    }
   ],
   "source": [
    "# aggregating data by date, day of the week, and day\n",
    "df_daily_sum = hour_df.groupby(['date', 'dow', 'day'], as_index=False)['value'].sum()\n",
    "\n",
    "# calculating the mean hours listened per day of the week\n",
    "df_daily_mean = df_daily_sum.groupby(['dow', 'day'], as_index=False)['value'].mean().sort_values(by='dow')\n",
    "\n",
    "# plotting\n",
    "fig = px.line(df_daily_mean, x='day', y='value', color_discrete_sequence=spotify_colors, line_shape='spline')\n",
    "fig.update_traces(mode='lines+markers+text', texttemplate='%{y:.1f}h', textposition='top center')\n",
    "fig.update_yaxes(rangemode='tozero', ticksuffix='h', nticks=2)\n",
    "fig.update_layout(\n",
    "    title='<b>Spotify:</b><i> When in the week do I listen to music the most?</i>',\n",
    "    yaxis_title='Average hours listened per day',\n",
    "    yaxis_range=[0, 2],\n",
    "    xaxis_title='Day of the week',\n",
    "    height=370,\n",
    "    width=1000\n",
    ")\n",
    "\n",
    "write(fig, 'weekly_analysis')"
   ]
  },
  {
   "cell_type": "code",
   "execution_count": 22,
   "id": "19c05c32-3402-4457-b54d-9bc492d68ede",
   "metadata": {},
   "outputs": [],
   "source": [
    "# assigning week period\n",
    "hour_df['week_period'] = hour_df['dow'].apply(lambda x: 'Weekend' if x >= 5 else 'Weekdays')\n",
    "\n",
    "# aggregating data\n",
    "df_weekend = hour_df.groupby(['hour', 'week_period'], as_index=False)['value'].mean().sort_values(by=['week_period', 'hour'])\n",
    "\n",
    "# converting hours to minutes for better readability\n",
    "df_weekend['hour_to_minutes'] = df_weekend['value'] * 60\n",
    "df_weekend['text'] = ''\n",
    "\n",
    "# adding annotation text for specific hours\n",
    "df_weekend.loc[(df_weekend['week_period'] == 'Weekdays') & (df_weekend['hour'].isin([8, 10, 18])), 'text'] = df_weekend['hour'].apply(lambda x: \"{:.0f}h\".format(x))\n",
    "df_weekend.loc[(df_weekend['week_period'] == 'Weekend') & (df_weekend['hour'].isin([10, 18, 21])), 'text'] = df_weekend['hour'].apply(lambda x: \"{:.0f}h\".format(x))"
   ]
  },
  {
   "cell_type": "code",
   "execution_count": 24,
   "id": "dda5a74c-4324-455a-b2d4-5a0b131f6299",
   "metadata": {},
   "outputs": [
    {
     "data": {
      "image/svg+xml": [
       "<svg class=\"main-svg\" xmlns=\"http://www.w3.org/2000/svg\" xmlns:xlink=\"http://www.w3.org/1999/xlink\" width=\"1000\" height=\"370\" style=\"\" viewBox=\"0 0 1000 370\"><rect x=\"0\" y=\"0\" width=\"1000\" height=\"370\" style=\"fill: rgb(255, 255, 255); fill-opacity: 1;\"/><defs id=\"defs-dcf0be\"><g class=\"clips\"><clipPath id=\"clipdcf0bexyplot\" class=\"plotclip\"><rect width=\"840\" height=\"230\"/></clipPath><clipPath class=\"axesclip\" id=\"clipdcf0bex\"><rect x=\"80\" y=\"0\" width=\"840\" height=\"370\"/></clipPath><clipPath class=\"axesclip\" id=\"clipdcf0bey\"><rect x=\"0\" y=\"60\" width=\"1000\" height=\"230\"/></clipPath><clipPath class=\"axesclip\" id=\"clipdcf0bexy\"><rect x=\"80\" y=\"60\" width=\"840\" height=\"230\"/></clipPath></g><g class=\"gradients\"/><g class=\"patterns\"/></defs><g class=\"bglayer\"/><g class=\"layer-below\"><g class=\"imagelayer\"/><g class=\"shapelayer\"/></g><g class=\"cartesianlayer\"><g class=\"subplot xy\"><g class=\"layer-subplot\"><g class=\"shapelayer\"/><g class=\"imagelayer\"/></g><g class=\"minor-gridlayer\"><g class=\"x\"/><g class=\"y\"/></g><g class=\"gridlayer\"><g class=\"x\"><path class=\"xgrid crisp\" transform=\"translate(288.47,0)\" d=\"M0,60v230\" style=\"stroke: rgb(235, 240, 248); stroke-opacity: 1; stroke-width: 1px;\"/><path class=\"xgrid crisp\" transform=\"translate(451.18,0)\" d=\"M0,60v230\" style=\"stroke: rgb(235, 240, 248); stroke-opacity: 1; stroke-width: 1px;\"/><path class=\"xgrid crisp\" transform=\"translate(613.9,0)\" d=\"M0,60v230\" style=\"stroke: rgb(235, 240, 248); stroke-opacity: 1; stroke-width: 1px;\"/><path class=\"xgrid crisp\" transform=\"translate(776.62,0)\" d=\"M0,60v230\" style=\"stroke: rgb(235, 240, 248); stroke-opacity: 1; stroke-width: 1px;\"/></g><g class=\"y\"><path class=\"ygrid crisp\" transform=\"translate(0,198.85)\" d=\"M80,0h840\" style=\"stroke: rgb(235, 240, 248); stroke-opacity: 1; stroke-width: 1px;\"/><path class=\"ygrid crisp\" transform=\"translate(0,107.7)\" d=\"M80,0h840\" style=\"stroke: rgb(235, 240, 248); stroke-opacity: 1; stroke-width: 1px;\"/></g></g><g class=\"zerolinelayer\"><path class=\"xzl zl crisp\" transform=\"translate(125.75,0)\" d=\"M0,60v230\" style=\"stroke: rgb(235, 240, 248); stroke-opacity: 1; stroke-width: 2px;\"/><path class=\"yzl zl crisp\" transform=\"translate(0,290)\" d=\"M80,0h840\" style=\"stroke: rgb(235, 240, 248); stroke-opacity: 1; stroke-width: 2px;\"/></g><path class=\"xlines-below\"/><path class=\"ylines-below\"/><g class=\"overlines-below\"/><g class=\"xaxislayer-below\"/><g class=\"yaxislayer-below\"/><g class=\"overaxes-below\"/><g class=\"plot\" transform=\"translate(80,60)\" clip-path=\"url(#clipdcf0bexyplot)\"><g class=\"scatterlayer mlayer\"><g class=\"trace scatter trace881a1c\" style=\"stroke-miterlimit: 2; opacity: 1;\"><g class=\"fills\"/><g class=\"errorbars\"/><g class=\"lines\"><path class=\"js-line\" d=\"M45.75,230Q63.83,230.39 78.29,230C107.22,229.23 181.31,238.07 208.47,223.06C226.35,213.18 228.22,184.29 241.01,176.91C250.74,171.3 264.46,181.42 273.55,173.98C290.56,160.05 289.37,73.29 306.1,64.2C315.21,59.25 328.19,75.51 338.64,73.8C349.95,71.95 360.41,50.78 371.18,50.99C382.11,51.21 393.67,65.18 403.73,75.8C415.69,88.43 423.54,119.11 436.27,123.69C446.01,127.2 458.06,117.94 468.82,114.22C479.76,110.44 490.38,104.63 501.36,101.14C512.08,97.73 523.98,99.6 533.9,93.41C546.18,85.74 554.16,58.04 566.45,53.79C576.36,50.37 588.26,57.78 598.99,60.99C609.96,64.28 621.22,67.16 631.53,73.4C643.05,80.37 654.14,89.98 664.08,102.21C676.29,117.23 684.87,142.76 696.62,159.17C706.79,173.37 716.99,189.36 729.16,195.99C739.12,201.42 751.27,196.96 761.71,200.92Q773.04,205.22 794.25,222\" style=\"vector-effect: non-scaling-stroke; fill: none; stroke: rgb(29, 185, 84); stroke-opacity: 1; stroke-width: 2.5px; opacity: 1;\"/></g><g class=\"points\"><path class=\"point\" transform=\"translate(45.75,230)\" d=\"M3,0A3,3 0 1,1 0,-3A3,3 0 0,1 3,0Z\" style=\"opacity: 1; stroke-width: 0px; fill: rgb(29, 185, 84); fill-opacity: 1;\"/><path class=\"point\" transform=\"translate(78.29,230)\" d=\"M3,0A3,3 0 1,1 0,-3A3,3 0 0,1 3,0Z\" style=\"opacity: 1; stroke-width: 0px; fill: rgb(29, 185, 84); fill-opacity: 1;\"/><path class=\"point\" transform=\"translate(208.47,223.06)\" d=\"M3,0A3,3 0 1,1 0,-3A3,3 0 0,1 3,0Z\" style=\"opacity: 1; stroke-width: 0px; fill: rgb(29, 185, 84); fill-opacity: 1;\"/><path class=\"point\" transform=\"translate(241.01,176.91)\" d=\"M3,0A3,3 0 1,1 0,-3A3,3 0 0,1 3,0Z\" style=\"opacity: 1; stroke-width: 0px; fill: rgb(29, 185, 84); fill-opacity: 1;\"/><path class=\"point\" transform=\"translate(273.55,173.98)\" d=\"M3,0A3,3 0 1,1 0,-3A3,3 0 0,1 3,0Z\" style=\"opacity: 1; stroke-width: 0px; fill: rgb(29, 185, 84); fill-opacity: 1;\"/><path class=\"point\" transform=\"translate(306.1,64.2)\" d=\"M3,0A3,3 0 1,1 0,-3A3,3 0 0,1 3,0Z\" style=\"opacity: 1; stroke-width: 0px; fill: rgb(29, 185, 84); fill-opacity: 1;\"/><path class=\"point\" transform=\"translate(338.64,73.8)\" d=\"M3,0A3,3 0 1,1 0,-3A3,3 0 0,1 3,0Z\" style=\"opacity: 1; stroke-width: 0px; fill: rgb(29, 185, 84); fill-opacity: 1;\"/><path class=\"point\" transform=\"translate(371.18,50.99)\" d=\"M3,0A3,3 0 1,1 0,-3A3,3 0 0,1 3,0Z\" style=\"opacity: 1; stroke-width: 0px; fill: rgb(29, 185, 84); fill-opacity: 1;\"/><path class=\"point\" transform=\"translate(403.73,75.8)\" d=\"M3,0A3,3 0 1,1 0,-3A3,3 0 0,1 3,0Z\" style=\"opacity: 1; stroke-width: 0px; fill: rgb(29, 185, 84); fill-opacity: 1;\"/><path class=\"point\" transform=\"translate(436.27,123.69)\" d=\"M3,0A3,3 0 1,1 0,-3A3,3 0 0,1 3,0Z\" style=\"opacity: 1; stroke-width: 0px; fill: rgb(29, 185, 84); fill-opacity: 1;\"/><path class=\"point\" transform=\"translate(468.82,114.22)\" d=\"M3,0A3,3 0 1,1 0,-3A3,3 0 0,1 3,0Z\" style=\"opacity: 1; stroke-width: 0px; fill: rgb(29, 185, 84); fill-opacity: 1;\"/><path class=\"point\" transform=\"translate(501.36,101.14)\" d=\"M3,0A3,3 0 1,1 0,-3A3,3 0 0,1 3,0Z\" style=\"opacity: 1; stroke-width: 0px; fill: rgb(29, 185, 84); fill-opacity: 1;\"/><path class=\"point\" transform=\"translate(533.9,93.41)\" d=\"M3,0A3,3 0 1,1 0,-3A3,3 0 0,1 3,0Z\" style=\"opacity: 1; stroke-width: 0px; fill: rgb(29, 185, 84); fill-opacity: 1;\"/><path class=\"point\" transform=\"translate(566.45,53.79)\" d=\"M3,0A3,3 0 1,1 0,-3A3,3 0 0,1 3,0Z\" style=\"opacity: 1; stroke-width: 0px; fill: rgb(29, 185, 84); fill-opacity: 1;\"/><path class=\"point\" transform=\"translate(598.99,60.99)\" d=\"M3,0A3,3 0 1,1 0,-3A3,3 0 0,1 3,0Z\" style=\"opacity: 1; stroke-width: 0px; fill: rgb(29, 185, 84); fill-opacity: 1;\"/><path class=\"point\" transform=\"translate(631.53,73.4)\" d=\"M3,0A3,3 0 1,1 0,-3A3,3 0 0,1 3,0Z\" style=\"opacity: 1; stroke-width: 0px; fill: rgb(29, 185, 84); fill-opacity: 1;\"/><path class=\"point\" transform=\"translate(664.08,102.21)\" d=\"M3,0A3,3 0 1,1 0,-3A3,3 0 0,1 3,0Z\" style=\"opacity: 1; stroke-width: 0px; fill: rgb(29, 185, 84); fill-opacity: 1;\"/><path class=\"point\" transform=\"translate(696.62,159.17)\" d=\"M3,0A3,3 0 1,1 0,-3A3,3 0 0,1 3,0Z\" style=\"opacity: 1; stroke-width: 0px; fill: rgb(29, 185, 84); fill-opacity: 1;\"/><path class=\"point\" transform=\"translate(729.16,195.99)\" d=\"M3,0A3,3 0 1,1 0,-3A3,3 0 0,1 3,0Z\" style=\"opacity: 1; stroke-width: 0px; fill: rgb(29, 185, 84); fill-opacity: 1;\"/><path class=\"point\" transform=\"translate(761.71,200.92)\" d=\"M3,0A3,3 0 1,1 0,-3A3,3 0 0,1 3,0Z\" style=\"opacity: 1; stroke-width: 0px; fill: rgb(29, 185, 84); fill-opacity: 1;\"/><path class=\"point\" transform=\"translate(794.25,222)\" d=\"M3,0A3,3 0 1,1 0,-3A3,3 0 0,1 3,0Z\" style=\"opacity: 1; stroke-width: 0px; fill: rgb(29, 185, 84); fill-opacity: 1;\"/></g><g class=\"text\"><g class=\"textpoint\"/><g class=\"textpoint\"/><g class=\"textpoint\"/><g class=\"textpoint\"/><g class=\"textpoint\"/><g class=\"textpoint\" transform=\"translate(0,-7.75)\"><text x=\"306.1\" y=\"64.2\" text-anchor=\"middle\" style=\"font-family: Helvetica; font-size: 12px; fill: rgb(42, 63, 95); fill-opacity: 1; white-space: pre;\">8h</text></g><g class=\"textpoint\"/><g class=\"textpoint\" transform=\"translate(0,-7.75)\"><text x=\"371.18\" y=\"50.99\" text-anchor=\"middle\" style=\"font-family: Helvetica; font-size: 12px; fill: rgb(42, 63, 95); fill-opacity: 1; white-space: pre;\">10h</text></g><g class=\"textpoint\"/><g class=\"textpoint\"/><g class=\"textpoint\"/><g class=\"textpoint\"/><g class=\"textpoint\"/><g class=\"textpoint\"/><g class=\"textpoint\"/><g class=\"textpoint\" transform=\"translate(0,-7.75)\"><text x=\"631.53\" y=\"73.4\" text-anchor=\"middle\" style=\"font-family: Helvetica; font-size: 12px; fill: rgb(42, 63, 95); fill-opacity: 1; white-space: pre;\">18h</text></g><g class=\"textpoint\"/><g class=\"textpoint\"/><g class=\"textpoint\"/><g class=\"textpoint\"/><g class=\"textpoint\"/></g></g><g class=\"trace scatter trace371937\" style=\"stroke-miterlimit: 2; opacity: 1;\"><g class=\"fills\"/><g class=\"errorbars\"/><g class=\"lines\"><path class=\"js-line\" d=\"M45.75,228.91Q63.38,216.27 78.29,213.96C106.82,209.53 179.84,233.61 208.47,230C223.25,228.13 231.09,224.69 241.01,217.24C253.27,208.03 263.48,191.28 273.55,174.95C285.49,155.6 295.88,132.04 306.1,107.49C317.77,79.44 322.75,26.5 338.64,15.25C347.81,8.76 360.5,13.34 371.18,15.25C382.21,17.22 394.62,17.49 403.73,27.28C420.45,45.25 419.88,120.02 436.27,139.58C445.4,150.47 459.26,158.77 468.82,155.62C482.19,151.21 487.68,104.06 501.36,92.55C510.84,84.57 524.14,78.97 533.9,82.34C546.58,86.72 555.74,129.91 566.45,129.73C577.44,129.54 587.98,78.9 598.99,78.69C609.69,78.49 618.91,116.22 631.53,125.72C641.31,133.08 653.09,134.42 664.08,136.66C674.79,138.85 686.83,133.85 696.62,139.21C709.21,146.1 718.31,167.9 729.16,182.24C740.01,196.58 749.12,219.52 761.71,225.26Q771.5,229.73 794.25,223.07\" style=\"vector-effect: non-scaling-stroke; fill: none; stroke: rgb(25, 20, 20); stroke-opacity: 1; stroke-width: 2.5px; opacity: 1;\"/></g><g class=\"points\"><path class=\"point\" transform=\"translate(45.75,228.91)\" d=\"M3,0A3,3 0 1,1 0,-3A3,3 0 0,1 3,0Z\" style=\"opacity: 1; stroke-width: 0px; fill: rgb(25, 20, 20); fill-opacity: 1;\"/><path class=\"point\" transform=\"translate(78.29,213.96)\" d=\"M3,0A3,3 0 1,1 0,-3A3,3 0 0,1 3,0Z\" style=\"opacity: 1; stroke-width: 0px; fill: rgb(25, 20, 20); fill-opacity: 1;\"/><path class=\"point\" transform=\"translate(208.47,230)\" d=\"M3,0A3,3 0 1,1 0,-3A3,3 0 0,1 3,0Z\" style=\"opacity: 1; stroke-width: 0px; fill: rgb(25, 20, 20); fill-opacity: 1;\"/><path class=\"point\" transform=\"translate(241.01,217.24)\" d=\"M3,0A3,3 0 1,1 0,-3A3,3 0 0,1 3,0Z\" style=\"opacity: 1; stroke-width: 0px; fill: rgb(25, 20, 20); fill-opacity: 1;\"/><path class=\"point\" transform=\"translate(273.55,174.95)\" d=\"M3,0A3,3 0 1,1 0,-3A3,3 0 0,1 3,0Z\" style=\"opacity: 1; stroke-width: 0px; fill: rgb(25, 20, 20); fill-opacity: 1;\"/><path class=\"point\" transform=\"translate(306.1,107.49)\" d=\"M3,0A3,3 0 1,1 0,-3A3,3 0 0,1 3,0Z\" style=\"opacity: 1; stroke-width: 0px; fill: rgb(25, 20, 20); fill-opacity: 1;\"/><path class=\"point\" transform=\"translate(338.64,15.25)\" d=\"M3,0A3,3 0 1,1 0,-3A3,3 0 0,1 3,0Z\" style=\"opacity: 1; stroke-width: 0px; fill: rgb(25, 20, 20); fill-opacity: 1;\"/><path class=\"point\" transform=\"translate(371.18,15.25)\" d=\"M3,0A3,3 0 1,1 0,-3A3,3 0 0,1 3,0Z\" style=\"opacity: 1; stroke-width: 0px; fill: rgb(25, 20, 20); fill-opacity: 1;\"/><path class=\"point\" transform=\"translate(403.73,27.28)\" d=\"M3,0A3,3 0 1,1 0,-3A3,3 0 0,1 3,0Z\" style=\"opacity: 1; stroke-width: 0px; fill: rgb(25, 20, 20); fill-opacity: 1;\"/><path class=\"point\" transform=\"translate(436.27,139.58)\" d=\"M3,0A3,3 0 1,1 0,-3A3,3 0 0,1 3,0Z\" style=\"opacity: 1; stroke-width: 0px; fill: rgb(25, 20, 20); fill-opacity: 1;\"/><path class=\"point\" transform=\"translate(468.82,155.62)\" d=\"M3,0A3,3 0 1,1 0,-3A3,3 0 0,1 3,0Z\" style=\"opacity: 1; stroke-width: 0px; fill: rgb(25, 20, 20); fill-opacity: 1;\"/><path class=\"point\" transform=\"translate(501.36,92.55)\" d=\"M3,0A3,3 0 1,1 0,-3A3,3 0 0,1 3,0Z\" style=\"opacity: 1; stroke-width: 0px; fill: rgb(25, 20, 20); fill-opacity: 1;\"/><path class=\"point\" transform=\"translate(533.9,82.34)\" d=\"M3,0A3,3 0 1,1 0,-3A3,3 0 0,1 3,0Z\" style=\"opacity: 1; stroke-width: 0px; fill: rgb(25, 20, 20); fill-opacity: 1;\"/><path class=\"point\" transform=\"translate(566.45,129.73)\" d=\"M3,0A3,3 0 1,1 0,-3A3,3 0 0,1 3,0Z\" style=\"opacity: 1; stroke-width: 0px; fill: rgb(25, 20, 20); fill-opacity: 1;\"/><path class=\"point\" transform=\"translate(598.99,78.69)\" d=\"M3,0A3,3 0 1,1 0,-3A3,3 0 0,1 3,0Z\" style=\"opacity: 1; stroke-width: 0px; fill: rgb(25, 20, 20); fill-opacity: 1;\"/><path class=\"point\" transform=\"translate(631.53,125.72)\" d=\"M3,0A3,3 0 1,1 0,-3A3,3 0 0,1 3,0Z\" style=\"opacity: 1; stroke-width: 0px; fill: rgb(25, 20, 20); fill-opacity: 1;\"/><path class=\"point\" transform=\"translate(664.08,136.66)\" d=\"M3,0A3,3 0 1,1 0,-3A3,3 0 0,1 3,0Z\" style=\"opacity: 1; stroke-width: 0px; fill: rgb(25, 20, 20); fill-opacity: 1;\"/><path class=\"point\" transform=\"translate(696.62,139.21)\" d=\"M3,0A3,3 0 1,1 0,-3A3,3 0 0,1 3,0Z\" style=\"opacity: 1; stroke-width: 0px; fill: rgb(25, 20, 20); fill-opacity: 1;\"/><path class=\"point\" transform=\"translate(729.16,182.24)\" d=\"M3,0A3,3 0 1,1 0,-3A3,3 0 0,1 3,0Z\" style=\"opacity: 1; stroke-width: 0px; fill: rgb(25, 20, 20); fill-opacity: 1;\"/><path class=\"point\" transform=\"translate(761.71,225.26)\" d=\"M3,0A3,3 0 1,1 0,-3A3,3 0 0,1 3,0Z\" style=\"opacity: 1; stroke-width: 0px; fill: rgb(25, 20, 20); fill-opacity: 1;\"/><path class=\"point\" transform=\"translate(794.25,223.07)\" d=\"M3,0A3,3 0 1,1 0,-3A3,3 0 0,1 3,0Z\" style=\"opacity: 1; stroke-width: 0px; fill: rgb(25, 20, 20); fill-opacity: 1;\"/></g><g class=\"text\"><g class=\"textpoint\"/><g class=\"textpoint\"/><g class=\"textpoint\"/><g class=\"textpoint\"/><g class=\"textpoint\"/><g class=\"textpoint\"/><g class=\"textpoint\"/><g class=\"textpoint\" transform=\"translate(0,-7.75)\"><text x=\"371.18\" y=\"15.25\" text-anchor=\"middle\" style=\"font-family: Helvetica; font-size: 12px; fill: rgb(42, 63, 95); fill-opacity: 1; white-space: pre;\">10h</text></g><g class=\"textpoint\"/><g class=\"textpoint\"/><g class=\"textpoint\"/><g class=\"textpoint\"/><g class=\"textpoint\"/><g class=\"textpoint\"/><g class=\"textpoint\"/><g class=\"textpoint\" transform=\"translate(0,-7.75)\"><text x=\"631.53\" y=\"125.72\" text-anchor=\"middle\" style=\"font-family: Helvetica; font-size: 12px; fill: rgb(42, 63, 95); fill-opacity: 1; white-space: pre;\">18h</text></g><g class=\"textpoint\"/><g class=\"textpoint\"/><g class=\"textpoint\" transform=\"translate(0,-7.75)\"><text x=\"729.16\" y=\"182.24\" text-anchor=\"middle\" style=\"font-family: Helvetica; font-size: 12px; fill: rgb(42, 63, 95); fill-opacity: 1; white-space: pre;\">21h</text></g><g class=\"textpoint\"/><g class=\"textpoint\"/></g></g></g></g><g class=\"overplot\"/><path class=\"xlines-above crisp\" d=\"M0,0\" style=\"fill: none;\"/><path class=\"ylines-above crisp\" d=\"M0,0\" style=\"fill: none;\"/><g class=\"overlines-above\"/><g class=\"xaxislayer-above\"><g class=\"xtick\"><text text-anchor=\"start\" x=\"0\" y=\"303\" transform=\"translate(125.75,0) rotate(45,0,297)\" style=\"font-family: Helvetica; font-size: 12px; fill: rgb(128, 128, 128); fill-opacity: 1; white-space: pre; opacity: 1;\">0:00</text></g><g class=\"xtick\"><text text-anchor=\"start\" x=\"0\" y=\"303\" style=\"font-family: Helvetica; font-size: 12px; fill: rgb(128, 128, 128); fill-opacity: 1; white-space: pre; opacity: 1;\" transform=\"translate(288.47,0) rotate(45,0,297)\">5:00</text></g><g class=\"xtick\"><text text-anchor=\"start\" x=\"0\" y=\"303\" style=\"font-family: Helvetica; font-size: 12px; fill: rgb(128, 128, 128); fill-opacity: 1; white-space: pre; opacity: 1;\" transform=\"translate(451.18,0) rotate(45,0,297)\">10:00</text></g><g class=\"xtick\"><text text-anchor=\"start\" x=\"0\" y=\"303\" style=\"font-family: Helvetica; font-size: 12px; fill: rgb(128, 128, 128); fill-opacity: 1; white-space: pre; opacity: 1;\" transform=\"translate(613.9,0) rotate(45,0,297)\">15:00</text></g><g class=\"xtick\"><text text-anchor=\"start\" x=\"0\" y=\"303\" style=\"font-family: Helvetica; font-size: 12px; fill: rgb(128, 128, 128); fill-opacity: 1; white-space: pre; opacity: 1;\" transform=\"translate(776.62,0) rotate(45,0,297)\">20:00</text></g></g><g class=\"yaxislayer-above\"><g class=\"ytick\"><text text-anchor=\"end\" x=\"79\" y=\"4.199999999999999\" transform=\"translate(0,290)\" style=\"font-family: Helvetica; font-size: 12px; fill: rgb(128, 128, 128); fill-opacity: 1; white-space: pre; opacity: 1;\">0min</text></g><g class=\"ytick\"><text text-anchor=\"end\" x=\"79\" y=\"4.199999999999999\" style=\"font-family: Helvetica; font-size: 12px; fill: rgb(128, 128, 128); fill-opacity: 1; white-space: pre; opacity: 1;\" transform=\"translate(0,198.85)\">2min</text></g><g class=\"ytick\"><text text-anchor=\"end\" x=\"79\" y=\"4.199999999999999\" style=\"font-family: Helvetica; font-size: 12px; fill: rgb(128, 128, 128); fill-opacity: 1; white-space: pre; opacity: 1;\" transform=\"translate(0,107.7)\">4min</text></g></g><g class=\"overaxes-above\"/></g></g><g class=\"polarlayer\"/><g class=\"smithlayer\"/><g class=\"ternarylayer\"/><g class=\"geolayer\"/><g class=\"funnelarealayer\"/><g class=\"pielayer\"/><g class=\"iciclelayer\"/><g class=\"treemaplayer\"/><g class=\"sunburstlayer\"/><g class=\"glimages\"/><defs id=\"topdefs-dcf0be\"><g class=\"clips\"/><clipPath id=\"legenddcf0be\"><rect width=\"285\" height=\"29\" x=\"0\" y=\"0\"/></clipPath></defs><g class=\"layer-above\"><g class=\"imagelayer\"/><g class=\"shapelayer\"/></g><g class=\"infolayer\"><g class=\"legend\" pointer-events=\"all\" transform=\"translate(80,313)\"><rect class=\"bg\" shape-rendering=\"crispEdges\" width=\"285\" height=\"29\" x=\"0\" y=\"0\" style=\"stroke: rgb(68, 68, 68); stroke-opacity: 1; fill: rgb(255, 255, 255); fill-opacity: 1; stroke-width: 0px;\"/><g class=\"scrollbox\" transform=\"\" clip-path=\"url(#legenddcf0be)\"><text class=\"legendtitletext\" text-anchor=\"start\" x=\"2\" y=\"18.2\" style=\"font-family: Helvetica; font-size: 14px; fill: rgb(42, 63, 95); fill-opacity: 1; white-space: pre;\">Week period</text><g class=\"groups\" transform=\"\"><g class=\"traces\" transform=\"translate(88.359375,14.5)\" style=\"opacity: 1;\"><text class=\"legendtext\" text-anchor=\"start\" x=\"40\" y=\"4.680000000000001\" style=\"font-family: Helvetica; font-size: 12px; fill: rgb(42, 63, 95); fill-opacity: 1; white-space: pre;\">Weekdays</text><g class=\"layers\" style=\"opacity: 1;\"><g class=\"legendfill\"/><g class=\"legendlines\"><path class=\"js-line\" d=\"M5,0h30\" style=\"fill: none; stroke: rgb(29, 185, 84); stroke-opacity: 1; stroke-width: 2.5px;\"/></g><g class=\"legendsymbols\"><g class=\"legendpoints\"><path class=\"scatterpts\" transform=\"translate(20,0)\" d=\"M3,0A3,3 0 1,1 0,-3A3,3 0 0,1 3,0Z\" style=\"opacity: 1; stroke-width: 0px; fill: rgb(29, 185, 84); fill-opacity: 1;\"/></g></g></g><rect class=\"legendtoggle\" x=\"0\" y=\"-9.5\" width=\"98.3125\" height=\"19\" style=\"fill: rgb(0, 0, 0); fill-opacity: 0;\"/></g></g><g class=\"groups\" transform=\"translate(100.8125,0)\"><g class=\"traces\" transform=\"translate(88.359375,14.5)\" style=\"opacity: 1;\"><text class=\"legendtext\" text-anchor=\"start\" x=\"40\" y=\"4.680000000000001\" style=\"font-family: Helvetica; font-size: 12px; fill: rgb(42, 63, 95); fill-opacity: 1; white-space: pre;\">Weekend</text><g class=\"layers\" style=\"opacity: 1;\"><g class=\"legendfill\"/><g class=\"legendlines\"><path class=\"js-line\" d=\"M5,0h30\" style=\"fill: none; stroke: rgb(25, 20, 20); stroke-opacity: 1; stroke-width: 2.5px;\"/></g><g class=\"legendsymbols\"><g class=\"legendpoints\"><path class=\"scatterpts\" transform=\"translate(20,0)\" d=\"M3,0A3,3 0 1,1 0,-3A3,3 0 0,1 3,0Z\" style=\"opacity: 1; stroke-width: 0px; fill: rgb(25, 20, 20); fill-opacity: 1;\"/></g></g></g><rect class=\"legendtoggle\" x=\"0\" y=\"-9.5\" width=\"92.984375\" height=\"19\" style=\"fill: rgb(0, 0, 0); fill-opacity: 0;\"/></g></g></g><rect class=\"scrollbar\" rx=\"20\" ry=\"3\" width=\"0\" height=\"0\" x=\"0\" y=\"0\" style=\"fill: rgb(128, 139, 164); fill-opacity: 1;\"/></g><g class=\"g-gtitle\"><text class=\"gtitle\" x=\"50\" y=\"30\" text-anchor=\"start\" dy=\"0em\" style=\"font-family: Helvetica; font-size: 17px; fill: rgb(42, 63, 95); opacity: 1; font-weight: normal; white-space: pre;\"><tspan style=\"font-weight:bold\">Spotify:</tspan><tspan style=\"font-style:italic\"> Do my habits change during the weekend?</tspan></text></g><g class=\"g-xtitle\"/><g class=\"g-ytitle\"><text class=\"ytitle\" transform=\"rotate(-90,28.184375000000003,175)\" x=\"28.184375000000003\" y=\"175\" text-anchor=\"middle\" style=\"font-family: Helvetica; font-size: 14px; fill: rgb(128, 128, 128); opacity: 1; font-weight: normal; white-space: pre;\">Average time listening to music (min)</text></g></g></svg>"
      ]
     },
     "metadata": {},
     "output_type": "display_data"
    }
   ],
   "source": [
    "# plotting\n",
    "fig = px.line(df_weekend, x='hour', y='hour_to_minutes', color='week_period', \n",
    "              text='text',line_shape='spline', color_discrete_sequence=spotify_colors)\n",
    "fig.update_traces(mode='lines+markers+text', textposition='top center', line_width=2.5)\n",
    "fig.update_yaxes(rangemode='tozero', ticksuffix='min', nticks=5)\n",
    "fig.update_xaxes(title='', ticksuffix=':00', tickangle=45)\n",
    "fig.update_layout(\n",
    "    title='<b>Spotify:</b><i> Do my habits change during the weekend?</i>',\n",
    "    legend_title='Week period',\n",
    "    legend_orientation='h',\n",
    "    yaxis_title='Average time listening to music (min)',\n",
    "    height=370,\n",
    "    width=1000\n",
    ")\n",
    "\n",
    "write(fig, 'weekday_vs_weekend')"
   ]
  },
  {
   "cell_type": "markdown",
   "id": "bf096208-dabe-4dc4-80cb-d8b04342c402",
   "metadata": {},
   "source": [
    "<span style=\"font-family:Helvetica Light\">\n",
    "\n",
    "### 1.4. Daily Listening Analysis\n",
    "\n",
    "I'll take an even closer look at each day to see how I use Spotify throughout the day and night."
   ]
  },
  {
   "cell_type": "code",
   "execution_count": 25,
   "id": "2f735518-f560-4f1c-b239-801acf2a0878",
   "metadata": {},
   "outputs": [
    {
     "data": {
      "text/html": [
       "<div>\n",
       "<style scoped>\n",
       "    .dataframe tbody tr th:only-of-type {\n",
       "        vertical-align: middle;\n",
       "    }\n",
       "\n",
       "    .dataframe tbody tr th {\n",
       "        vertical-align: top;\n",
       "    }\n",
       "\n",
       "    .dataframe thead th {\n",
       "        text-align: right;\n",
       "    }\n",
       "</style>\n",
       "<table border=\"1\" class=\"dataframe\">\n",
       "  <thead>\n",
       "    <tr style=\"text-align: right;\">\n",
       "      <th></th>\n",
       "      <th>hour</th>\n",
       "      <th>value</th>\n",
       "    </tr>\n",
       "  </thead>\n",
       "  <tbody>\n",
       "    <tr>\n",
       "      <th>0</th>\n",
       "      <td>0</td>\n",
       "      <td>0.000107</td>\n",
       "    </tr>\n",
       "    <tr>\n",
       "      <th>1</th>\n",
       "      <td>1</td>\n",
       "      <td>0.001571</td>\n",
       "    </tr>\n",
       "    <tr>\n",
       "      <th>2</th>\n",
       "      <td>5</td>\n",
       "      <td>0.001857</td>\n",
       "    </tr>\n",
       "    <tr>\n",
       "      <th>3</th>\n",
       "      <td>6</td>\n",
       "      <td>0.015464</td>\n",
       "    </tr>\n",
       "    <tr>\n",
       "      <th>4</th>\n",
       "      <td>7</td>\n",
       "      <td>0.020393</td>\n",
       "    </tr>\n",
       "    <tr>\n",
       "      <th>5</th>\n",
       "      <td>8</td>\n",
       "      <td>0.056393</td>\n",
       "    </tr>\n",
       "    <tr>\n",
       "      <th>6</th>\n",
       "      <td>9</td>\n",
       "      <td>0.062857</td>\n",
       "    </tr>\n",
       "    <tr>\n",
       "      <th>7</th>\n",
       "      <td>10</td>\n",
       "      <td>0.068964</td>\n",
       "    </tr>\n",
       "    <tr>\n",
       "      <th>8</th>\n",
       "      <td>11</td>\n",
       "      <td>0.061143</td>\n",
       "    </tr>\n",
       "    <tr>\n",
       "      <th>9</th>\n",
       "      <td>12</td>\n",
       "      <td>0.037321</td>\n",
       "    </tr>\n",
       "    <tr>\n",
       "      <th>10</th>\n",
       "      <td>13</td>\n",
       "      <td>0.038286</td>\n",
       "    </tr>\n",
       "    <tr>\n",
       "      <th>11</th>\n",
       "      <td>14</td>\n",
       "      <td>0.047964</td>\n",
       "    </tr>\n",
       "    <tr>\n",
       "      <th>12</th>\n",
       "      <td>15</td>\n",
       "      <td>0.051036</td>\n",
       "    </tr>\n",
       "    <tr>\n",
       "      <th>13</th>\n",
       "      <td>16</td>\n",
       "      <td>0.057000</td>\n",
       "    </tr>\n",
       "    <tr>\n",
       "      <th>14</th>\n",
       "      <td>17</td>\n",
       "      <td>0.060071</td>\n",
       "    </tr>\n",
       "    <tr>\n",
       "      <th>15</th>\n",
       "      <td>18</td>\n",
       "      <td>0.052143</td>\n",
       "    </tr>\n",
       "    <tr>\n",
       "      <th>16</th>\n",
       "      <td>19</td>\n",
       "      <td>0.043357</td>\n",
       "    </tr>\n",
       "    <tr>\n",
       "      <th>17</th>\n",
       "      <td>20</td>\n",
       "      <td>0.027857</td>\n",
       "    </tr>\n",
       "    <tr>\n",
       "      <th>18</th>\n",
       "      <td>21</td>\n",
       "      <td>0.013786</td>\n",
       "    </tr>\n",
       "    <tr>\n",
       "      <th>19</th>\n",
       "      <td>22</td>\n",
       "      <td>0.008250</td>\n",
       "    </tr>\n",
       "    <tr>\n",
       "      <th>20</th>\n",
       "      <td>23</td>\n",
       "      <td>0.002821</td>\n",
       "    </tr>\n",
       "  </tbody>\n",
       "</table>\n",
       "</div>"
      ],
      "text/plain": [
       "   hour     value\n",
       "0     0  0.000107\n",
       "1     1  0.001571\n",
       "2     5  0.001857\n",
       "3     6  0.015464\n",
       "4     7  0.020393\n",
       "5     8  0.056393\n",
       "6     9  0.062857\n",
       "7    10  0.068964\n",
       "8    11  0.061143\n",
       "9    12  0.037321\n",
       "10   13  0.038286\n",
       "11   14  0.047964\n",
       "12   15  0.051036\n",
       "13   16  0.057000\n",
       "14   17  0.060071\n",
       "15   18  0.052143\n",
       "16   19  0.043357\n",
       "17   20  0.027857\n",
       "18   21  0.013786\n",
       "19   22  0.008250\n",
       "20   23  0.002821"
      ]
     },
     "execution_count": 25,
     "metadata": {},
     "output_type": "execute_result"
    }
   ],
   "source": [
    "df_hour = hour_df.groupby(['hour'], as_index=False).agg({'value':'mean'}).sort_values(by=['hour'])\n",
    "df_hour.head(25)"
   ]
  },
  {
   "cell_type": "markdown",
   "id": "f5fb6f2d-3712-4697-953b-76030a015842",
   "metadata": {},
   "source": [
    "<span style=\"font-family:Helvetica Light\">\n",
    "\n",
    "It seems that I'm not listening to any music between 1 and 5, so we need to fill in zeros for those hours."
   ]
  },
  {
   "cell_type": "code",
   "execution_count": 26,
   "id": "98ad9682-69e2-4419-b5bb-241df32b4b36",
   "metadata": {},
   "outputs": [],
   "source": [
    "# create a DataFrame containing all hours of the day\n",
    "all_hours = pd.DataFrame({'hour': range(24)})\n",
    "\n",
    "# merge the existing DataFrame with all_hours\n",
    "df_hour = pd.merge(all_hours, df_hour, on='hour', how='left')\n",
    "\n",
    "# fill missing values with 0\n",
    "df_hour['value'].fillna(0, inplace=True)\n",
    "\n",
    "df_hour['hour_to_minutes'] = df_hour['value']*60\n",
    "df_hour['hour_to_minutes'] = df_hour['hour_to_minutes']*5"
   ]
  },
  {
   "cell_type": "code",
   "execution_count": 27,
   "id": "3fc18411-af8e-4018-ae5a-cc29fedc522c",
   "metadata": {},
   "outputs": [
    {
     "data": {
      "image/svg+xml": [
       "<svg class=\"main-svg\" xmlns=\"http://www.w3.org/2000/svg\" xmlns:xlink=\"http://www.w3.org/1999/xlink\" width=\"800\" height=\"600\" style=\"\" viewBox=\"0 0 800 600\"><rect x=\"0\" y=\"0\" width=\"800\" height=\"600\" style=\"fill: rgb(255, 255, 255); fill-opacity: 1;\"/><defs id=\"defs-fadce1\"><g class=\"clips\"><clipPath id=\"clipfadce1polar-for-traces\"><path d=\"M210,0A210,210 0,1,0 -210,-2.5717582782094416e-14A210,210 0,1,0 210,5.143516556418883e-14Z\" transform=\"translate(210,210)\"/></clipPath></g><g class=\"gradients\"/><g class=\"patterns\"/></defs><g class=\"bglayer\"/><g class=\"layer-below\"><g class=\"imagelayer\"/><g class=\"shapelayer\"/></g><g class=\"cartesianlayer\"/><g class=\"polarlayer\"><g class=\"polar\"><g class=\"polarsublayer draglayer\"/><g class=\"polarsublayer plotbg\"><path d=\"M210,0A210,210 0,1,0 -210,-2.5717582782094416e-14A210,210 0,1,0 210,5.143516556418883e-14Z\" transform=\"translate(400,310)\" style=\"fill: rgb(229, 236, 246); fill-opacity: 1;\"/></g><g class=\"polarsublayer backplot\"><g class=\"maplayer\"/></g><g class=\"polarsublayer angular-grid\" style=\"fill: none;\"><path class=\"angularaxisgrid\" d=\"M400,310L400,100\" style=\"stroke: rgb(235, 240, 248); stroke-opacity: 1; stroke-width: 1px;\"/><path class=\"angularaxisgrid\" d=\"M400,310L454.3519994715293,107.15557647929566\" style=\"stroke: rgb(235, 240, 248); stroke-opacity: 1; stroke-width: 1px;\"/><path class=\"angularaxisgrid\" d=\"M400,310L505,128.13466520526788\" style=\"stroke: rgb(235, 240, 248); stroke-opacity: 1; stroke-width: 1px;\"/><path class=\"angularaxisgrid\" d=\"M400,310L548.492424049175,161.50757595082504\" style=\"stroke: rgb(235, 240, 248); stroke-opacity: 1; stroke-width: 1px;\"/><path class=\"angularaxisgrid\" d=\"M400,310L581.8653347947321,205\" style=\"stroke: rgb(235, 240, 248); stroke-opacity: 1; stroke-width: 1px;\"/><path class=\"angularaxisgrid\" d=\"M400,310L602.8444235207044,255.64800052847065\" style=\"stroke: rgb(235, 240, 248); stroke-opacity: 1; stroke-width: 1px;\"/><path class=\"angularaxisgrid\" d=\"M400,310L610,310\" style=\"stroke: rgb(235, 240, 248); stroke-opacity: 1; stroke-width: 1px;\"/><path class=\"angularaxisgrid\" d=\"M400,310L602.8444235207044,364.3519994715294\" style=\"stroke: rgb(235, 240, 248); stroke-opacity: 1; stroke-width: 1px;\"/><path class=\"angularaxisgrid\" d=\"M400,310L581.8653347947321,415\" style=\"stroke: rgb(235, 240, 248); stroke-opacity: 1; stroke-width: 1px;\"/><path class=\"angularaxisgrid\" d=\"M400,310L548.492424049175,458.49242404917493\" style=\"stroke: rgb(235, 240, 248); stroke-opacity: 1; stroke-width: 1px;\"/><path class=\"angularaxisgrid\" d=\"M400,310L505,491.8653347947321\" style=\"stroke: rgb(235, 240, 248); stroke-opacity: 1; stroke-width: 1px;\"/><path class=\"angularaxisgrid\" d=\"M400,310L454.3519994715294,512.8444235207044\" style=\"stroke: rgb(235, 240, 248); stroke-opacity: 1; stroke-width: 1px;\"/><path class=\"angularaxisgrid\" d=\"M400,310L400,520\" style=\"stroke: rgb(235, 240, 248); stroke-opacity: 1; stroke-width: 1px;\"/><path class=\"angularaxisgrid\" d=\"M400,310L345.64800052847073,512.8444235207044\" style=\"stroke: rgb(235, 240, 248); stroke-opacity: 1; stroke-width: 1px;\"/><path class=\"angularaxisgrid\" d=\"M400,310L294.99999999999994,491.8653347947321\" style=\"stroke: rgb(235, 240, 248); stroke-opacity: 1; stroke-width: 1px;\"/><path class=\"angularaxisgrid\" d=\"M400,310L251.50757595082504,458.492424049175\" style=\"stroke: rgb(235, 240, 248); stroke-opacity: 1; stroke-width: 1px;\"/><path class=\"angularaxisgrid\" d=\"M400,310L218.1346652052679,415.00000000000006\" style=\"stroke: rgb(235, 240, 248); stroke-opacity: 1; stroke-width: 1px;\"/><path class=\"angularaxisgrid\" d=\"M400,310L197.15557647929566,364.3519994715293\" style=\"stroke: rgb(235, 240, 248); stroke-opacity: 1; stroke-width: 1px;\"/><path class=\"angularaxisgrid\" d=\"M400,310L190,310\" style=\"stroke: rgb(235, 240, 248); stroke-opacity: 1; stroke-width: 1px;\"/><path class=\"angularaxisgrid\" d=\"M400,310L197.15557647929563,255.64800052847073\" style=\"stroke: rgb(235, 240, 248); stroke-opacity: 1; stroke-width: 1px;\"/><path class=\"angularaxisgrid\" d=\"M400,310L218.1346652052679,204.99999999999997\" style=\"stroke: rgb(235, 240, 248); stroke-opacity: 1; stroke-width: 1px;\"/><path class=\"angularaxisgrid\" d=\"M400,310L251.507575950825,161.50757595082504\" style=\"stroke: rgb(235, 240, 248); stroke-opacity: 1; stroke-width: 1px;\"/><path class=\"angularaxisgrid\" d=\"M400,310L294.9999999999999,128.1346652052679\" style=\"stroke: rgb(235, 240, 248); stroke-opacity: 1; stroke-width: 1px;\"/><path class=\"angularaxisgrid\" d=\"M400,310L345.6480005284707,107.15557647929566\" style=\"stroke: rgb(235, 240, 248); stroke-opacity: 1; stroke-width: 1px;\"/></g><g class=\"polarsublayer radial-grid\" transform=\"translate(400,310)\" style=\"fill: none;\"/><g class=\"polarsublayer frontplot\" transform=\"translate(190,100)\" clip-path=\"url(#clipfadce1polar-for-traces)\"><g class=\"barlayer\"><g class=\"trace bars\" style=\"opacity: 1;\"><g class=\"points\"><g class=\"point\" style=\"vector-effect: non-scaling-stroke; stroke-miterlimit: 2;\"><path d=\"M210,210L210.06988114217768,209.73920002690195A0.26999999999999996,0.26999999999999996 0,0,0 210,209.73L210,210A0,0 0,0,1 210,210Z\" style=\"opacity: 1; stroke-width: 0.1px; fill: rgb(252, 254, 215); fill-opacity: 1; stroke: rgb(255, 255, 255); stroke-opacity: 1;\"/></g><g class=\"point\" style=\"vector-effect: non-scaling-stroke; stroke-miterlimit: 2;\"><path d=\"M210,210L211.98,206.57053940101363A3.960000000000001,3.960000000000001 0,0,0 211.024923418606,206.17493372789528L210,210A0,0 0,0,1 210,210Z\" style=\"opacity: 1; stroke-width: 0.1px; fill: rgb(250, 253, 201); fill-opacity: 1; stroke: rgb(255, 255, 255); stroke-opacity: 1;\"/></g><g class=\"point\" style=\"vector-effect: non-scaling-stroke; stroke-miterlimit: 2;\"><path d=\"M0,0Z\" style=\"opacity: 1; stroke-width: 0.1px; fill: rgb(247, 252, 188); fill-opacity: 1; stroke: rgb(255, 255, 255); stroke-opacity: 1;\"/></g><g class=\"point\" style=\"vector-effect: non-scaling-stroke; stroke-miterlimit: 2;\"><path d=\"M0,0Z\" style=\"opacity: 1; stroke-width: 0.1px; fill: rgb(239, 249, 179); fill-opacity: 1; stroke: rgb(255, 255, 255); stroke-opacity: 1;\"/></g><g class=\"point\" style=\"vector-effect: non-scaling-stroke; stroke-miterlimit: 2;\"><path d=\"M0,0Z\" style=\"opacity: 1; stroke-width: 0.1px; fill: rgb(229, 245, 172); fill-opacity: 1; stroke: rgb(255, 255, 255); stroke-opacity: 1;\"/></g><g class=\"point\" style=\"vector-effect: non-scaling-stroke; stroke-miterlimit: 2;\"><path d=\"M210,210L214.68,210A4.680000000000001,4.680000000000001 0,0,0 214.52053286703284,208.7887268689202L210,210A0,0 0,0,1 210,210Z\" style=\"opacity: 1; stroke-width: 0.1px; fill: rgb(220, 241, 165); fill-opacity: 1; stroke: rgb(255, 255, 255); stroke-opacity: 1;\"/></g><g class=\"point\" style=\"vector-effect: non-scaling-stroke; stroke-miterlimit: 2;\"><path d=\"M210,210L247.642129450485,220.08617818764523A38.97,38.97 0,0,0 248.97,210L210,210A0,0 0,0,1 210,210Z\" style=\"opacity: 1; stroke-width: 0.1px; fill: rgb(207, 236, 158); fill-opacity: 1; stroke: rgb(255, 255, 255); stroke-opacity: 1;\"/></g><g class=\"point\" style=\"vector-effect: non-scaling-stroke; stroke-miterlimit: 2;\"><path d=\"M210,210L254.5050455004823,235.69500000000002A51.39,51.39 0,0,0 259.6389282129952,223.30071072781854L210,210A0,0 0,0,1 210,210Z\" style=\"opacity: 1; stroke-width: 0.1px; fill: rgb(193, 230, 152); fill-opacity: 1; stroke: rgb(255, 255, 255); stroke-opacity: 1;\"/></g><g class=\"point\" style=\"vector-effect: non-scaling-stroke; stroke-miterlimit: 2;\"><path d=\"M210,210L310.4869446744203,310.4869446744203A142.11,142.11 0,0,0 333.0708701318066,281.05499999999995L210,210A0,0 0,0,1 210,210Z\" style=\"opacity: 1; stroke-width: 0.1px; fill: rgb(178, 223, 144); fill-opacity: 1; stroke: rgb(255, 255, 255); stroke-opacity: 1;\"/></g><g class=\"point\" style=\"vector-effect: non-scaling-stroke; stroke-miterlimit: 2;\"><path d=\"M210,210L289.2,347.17842395945513A158.4,158.4 0,0,0 322.00571413994913,322.00571413994913L210,210A0,0 0,0,1 210,210Z\" style=\"opacity: 1; stroke-width: 0.1px; fill: rgb(162, 216, 138); fill-opacity: 1; stroke: rgb(255, 255, 255); stroke-opacity: 1;\"/></g><g class=\"point\" style=\"vector-effect: non-scaling-stroke; stroke-miterlimit: 2;\"><path d=\"M210,210L254.98016184836706,377.8682493507772A173.79000000000002,173.79000000000002 0,0,0 296.895,360.50655492369765L210,210A0,0 0,0,1 210,210Z\" style=\"opacity: 1; stroke-width: 0.1px; fill: rgb(146, 209, 131); fill-opacity: 1; stroke: rgb(255, 255, 255); stroke-opacity: 1;\"/></g><g class=\"point\" style=\"vector-effect: non-scaling-stroke; stroke-miterlimit: 2;\"><path d=\"M210,210L210,364.08A154.07999999999998,154.07999999999998 0,0,0 249.87883846939644,358.82985131461965L210,210A0,0 0,0,1 210,210Z\" style=\"opacity: 1; stroke-width: 0.1px; fill: rgb(129, 202, 125); fill-opacity: 1; stroke: rgb(255, 255, 255); stroke-opacity: 1;\"/></g><g class=\"point\" style=\"vector-effect: non-scaling-stroke; stroke-miterlimit: 2;\"><path d=\"M210,210L185.6580688081079,300.8453239624869A94.04999999999998,94.04999999999998 0,0,0 210,304.04999999999995L210,210A0,0 0,0,1 210,210Z\" style=\"opacity: 1; stroke-width: 0.1px; fill: rgb(111, 193, 116); fill-opacity: 1; stroke: rgb(255, 255, 255); stroke-opacity: 1;\"/></g><g class=\"point\" style=\"vector-effect: non-scaling-stroke; stroke-miterlimit: 2;\"><path d=\"M210,210L161.76000000000002,293.55413095712265A96.48000000000002,96.48000000000002 0,0,0 185.02913852850884,303.1925237203693L210,210A0,0 0,0,1 210,210Z\" style=\"opacity: 1; stroke-width: 0.1px; fill: rgb(93, 185, 107); fill-opacity: 1; stroke: rgb(255, 255, 255); stroke-opacity: 1;\"/></g><g class=\"point\" style=\"vector-effect: non-scaling-stroke; stroke-miterlimit: 2;\"><path d=\"M210,210L124.53200335798195,295.46799664201797A120.87000000000002,120.87000000000002 0,0,0 149.56499999999997,314.6764905554251L210,210A0,0 0,0,1 210,210Z\" style=\"opacity: 1; stroke-width: 0.1px; fill: rgb(76, 176, 99); fill-opacity: 1; stroke: rgb(255, 255, 255); stroke-opacity: 1;\"/></g><g class=\"point\" style=\"vector-effect: non-scaling-stroke; stroke-miterlimit: 2;\"><path d=\"M210,210L98.62047281928335,274.30500000000006A128.61,128.61 0,0,0 119.05899687159813,300.9410031284019L210,210A0,0 0,0,1 210,210Z\" style=\"opacity: 1; stroke-width: 0.1px; fill: rgb(62, 167, 90); fill-opacity: 1; stroke: rgb(255, 255, 255); stroke-opacity: 1;\"/></g><g class=\"point\" style=\"vector-effect: non-scaling-stroke; stroke-miterlimit: 2;\"><path d=\"M210,210L71.25441431183825,247.1767676385262A143.64000000000001,143.64000000000001 0,0,0 85.60411100040324,281.82000000000005L210,210A0,0 0,0,1 210,210Z\" style=\"opacity: 1; stroke-width: 0.1px; fill: rgb(51, 153, 81); fill-opacity: 1; stroke: rgb(255, 255, 255); stroke-opacity: 1;\"/></g><g class=\"point\" style=\"vector-effect: non-scaling-stroke; stroke-miterlimit: 2;\"><path d=\"M210,210L58.619999999999976,210.00000000000003A151.38000000000002,151.38000000000002 0,0,0 63.77814841636081,249.18002704761957L210,210A0,0 0,0,1 210,210Z\" style=\"opacity: 1; stroke-width: 0.1px; fill: rgb(42, 141, 73); fill-opacity: 1; stroke: rgb(255, 255, 255); stroke-opacity: 1;\"/></g><g class=\"point\" style=\"vector-effect: non-scaling-stroke; stroke-miterlimit: 2;\"><path d=\"M210,210L83.0773464256164,175.9911774735288A131.4,131.4 0,0,0 78.6,210.00000000000003L210,210A0,0 0,0,1 210,210Z\" style=\"opacity: 1; stroke-width: 0.1px; fill: rgb(32, 130, 66); fill-opacity: 1; stroke: rgb(255, 255, 255); stroke-opacity: 1;\"/></g><g class=\"point\" style=\"vector-effect: non-scaling-stroke; stroke-miterlimit: 2;\"><path d=\"M210,210L115.37806438251219,155.37000000000006A109.25999999999999,109.25999999999999 0,0,0 104.46294421965639,181.72143113209864L210,210A0,0 0,0,1 210,210Z\" style=\"opacity: 1; stroke-width: 0.1px; fill: rgb(21, 121, 62); fill-opacity: 1; stroke: rgb(255, 255, 255); stroke-opacity: 1;\"/></g><g class=\"point\" style=\"vector-effect: non-scaling-stroke; stroke-miterlimit: 2;\"><path d=\"M210,210L160.36110396070436,160.36110396070438A70.2,70.2 0,0,0 149.2050166543324,174.89999999999998L210,210A0,0 0,0,1 210,210Z\" style=\"opacity: 1; stroke-width: 0.1px; fill: rgb(9, 111, 58); fill-opacity: 1; stroke: rgb(255, 255, 255); stroke-opacity: 1;\"/></g><g class=\"point\" style=\"vector-effect: non-scaling-stroke; stroke-miterlimit: 2;\"><path d=\"M210,210L192.63,179.9142774725286A34.74,34.74 0,0,0 185.43511042157934,185.43511042157934L210,210A0,0 0,0,1 210,210Z\" style=\"opacity: 1; stroke-width: 0.1px; fill: rgb(0, 102, 54); fill-opacity: 1; stroke: rgb(255, 255, 255); stroke-opacity: 1;\"/></g><g class=\"point\" style=\"vector-effect: non-scaling-stroke; stroke-miterlimit: 2;\"><path d=\"M210,210L204.61915205231858,189.91840207145026A20.790000000000003,20.790000000000003 0,0,0 199.605,191.99533185532152L210,210A0,0 0,0,1 210,210Z\" style=\"opacity: 1; stroke-width: 0.1px; fill: rgb(0, 91, 50); fill-opacity: 1; stroke: rgb(255, 255, 255); stroke-opacity: 1;\"/></g><g class=\"point\" style=\"vector-effect: non-scaling-stroke; stroke-miterlimit: 2;\"><path d=\"M210,210L210,202.89A7.11,7.11 0,0,0 208.15979658932108,203.13226737508472L210,210A0,0 0,0,1 210,210Z\" style=\"opacity: 1; stroke-width: 0.1px; fill: rgb(0, 80, 45); fill-opacity: 1; stroke: rgb(255, 255, 255); stroke-opacity: 1;\"/></g></g></g></g><g class=\"scatterlayer\"/></g><g class=\"polarsublayer angular-line\"><path d=\"M210,0A210,210 0,1,0 -210,-2.5717582782094416e-14A210,210 0,1,0 210,5.143516556418883e-14Z\" transform=\"translate(400,310)\" stroke-width=\"1\" style=\"fill: none; stroke: rgb(235, 240, 248); stroke-opacity: 1;\"/></g><g class=\"polarsublayer radial-line\"><line x1=\"0\" y1=\"0\" x2=\"210\" y2=\"0\" transform=\"translate(400,310)\" stroke-width=\"0\" style=\"fill: none; stroke: rgb(235, 240, 248); stroke-opacity: 1;\"/></g><g class=\"polarsublayer angular-axis\"><g class=\"angularaxistick\"><text text-anchor=\"middle\" x=\"1.7757378587636624e-16\" y=\"-5.300000000000001\" transform=\"translate(400,100)\" style=\"font-family: Helvetica; font-size: 12px; fill: rgb(0, 0, 0); fill-opacity: 1; white-space: pre; opacity: 1;\">00:00</text></g><g class=\"angularaxistick\"><text text-anchor=\"start\" x=\"0.7505752307973103\" y=\"-4.032366889901476\" transform=\"translate(454.3519994715293,107.15557647929566)\" style=\"font-family: Helvetica; font-size: 12px; fill: rgb(0, 0, 0); fill-opacity: 1; white-space: pre; opacity: 1;\">01:00</text></g><g class=\"angularaxistick\"><text text-anchor=\"start\" x=\"1.45\" y=\"-2.4899346400575264\" transform=\"translate(505,128.13466520526788)\" style=\"font-family: Helvetica; font-size: 12px; fill: rgb(0, 0, 0); fill-opacity: 1; white-space: pre; opacity: 1;\">02:00</text></g><g class=\"angularaxistick\"><text text-anchor=\"start\" x=\"2.050609665440988\" y=\"-0.7778174593052025\" transform=\"translate(548.492424049175,161.50757595082504)\" style=\"font-family: Helvetica; font-size: 12px; fill: rgb(0, 0, 0); fill-opacity: 1; white-space: pre; opacity: 1;\">03:00</text></g><g class=\"angularaxistick\"><text text-anchor=\"start\" x=\"2.511473670974872\" y=\"0.9873066958946413\" transform=\"translate(581.8653347947321,205)\" style=\"font-family: Helvetica; font-size: 12px; fill: rgb(0, 0, 0); fill-opacity: 1; white-space: pre; opacity: 1;\">04:00</text></g><g class=\"angularaxistick\"><text text-anchor=\"start\" x=\"2.8011848962382984\" y=\"2.6851475313707263\" transform=\"translate(602.8444235207044,255.64800052847065)\" style=\"font-family: Helvetica; font-size: 12px; fill: rgb(0, 0, 0); fill-opacity: 1; white-space: pre; opacity: 1;\">05:00</text></g><g class=\"angularaxistick\"><text text-anchor=\"start\" x=\"2.9000000000000004\" y=\"4.199999999999999\" transform=\"translate(610,310)\" style=\"font-family: Helvetica; font-size: 12px; fill: rgb(0, 0, 0); fill-opacity: 1; white-space: pre; opacity: 1;\">06:00</text></g><g class=\"angularaxistick\"><text text-anchor=\"start\" x=\"2.801184896238298\" y=\"7.913292242441647\" transform=\"translate(602.8444235207044,364.3519994715294)\" style=\"font-family: Helvetica; font-size: 12px; fill: rgb(0, 0, 0); fill-opacity: 1; white-space: pre; opacity: 1;\">07:00</text></g><g class=\"angularaxistick\"><text text-anchor=\"start\" x=\"2.5114736709748726\" y=\"11.08730669589464\" transform=\"translate(581.8653347947321,415)\" style=\"font-family: Helvetica; font-size: 12px; fill: rgb(0, 0, 0); fill-opacity: 1; white-space: pre; opacity: 1;\">08:00</text></g><g class=\"angularaxistick\"><text text-anchor=\"start\" x=\"2.050609665440988\" y=\"13.505739520663056\" transform=\"translate(548.492424049175,458.49242404917493)\" style=\"font-family: Helvetica; font-size: 12px; fill: rgb(0, 0, 0); fill-opacity: 1; white-space: pre; opacity: 1;\">09:00</text></g><g class=\"angularaxistick\"><text text-anchor=\"start\" x=\"1.45\" y=\"15.003778516388136\" transform=\"translate(505,491.8653347947321)\" style=\"font-family: Helvetica; font-size: 12px; fill: rgb(0, 0, 0); fill-opacity: 1; white-space: pre; opacity: 1;\">10:00</text></g><g class=\"angularaxistick\"><text text-anchor=\"start\" x=\"0.7505752307973109\" y=\"15.479334801137705\" transform=\"translate(454.3519994715294,512.8444235207044)\" style=\"font-family: Helvetica; font-size: 12px; fill: rgb(0, 0, 0); fill-opacity: 1; white-space: pre; opacity: 1;\">11:00</text></g><g class=\"angularaxistick\"><text text-anchor=\"middle\" x=\"1.7757378587636624e-16\" y=\"14.9\" transform=\"translate(400,520)\" style=\"font-family: Helvetica; font-size: 12px; fill: rgb(0, 0, 0); fill-opacity: 1; white-space: pre; opacity: 1;\">12:00</text></g><g class=\"angularaxistick\"><text text-anchor=\"end\" x=\"-0.7505752307973093\" y=\"15.479334801137705\" transform=\"translate(345.64800052847073,512.8444235207044)\" style=\"font-family: Helvetica; font-size: 12px; fill: rgb(0, 0, 0); fill-opacity: 1; white-space: pre; opacity: 1;\">13:00</text></g><g class=\"angularaxistick\"><text text-anchor=\"end\" x=\"-1.4500000000000008\" y=\"15.003778516388135\" transform=\"translate(294.99999999999994,491.8653347947321)\" style=\"font-family: Helvetica; font-size: 12px; fill: rgb(0, 0, 0); fill-opacity: 1; white-space: pre; opacity: 1;\">14:00</text></g><g class=\"angularaxistick\"><text text-anchor=\"end\" x=\"-2.0506096654409878\" y=\"13.505739520663058\" transform=\"translate(251.50757595082504,458.492424049175)\" style=\"font-family: Helvetica; font-size: 12px; fill: rgb(0, 0, 0); fill-opacity: 1; white-space: pre; opacity: 1;\">15:00</text></g><g class=\"angularaxistick\"><text text-anchor=\"end\" x=\"-2.5114736709748717\" y=\"11.087306695894647\" transform=\"translate(218.1346652052679,415.00000000000006)\" style=\"font-family: Helvetica; font-size: 12px; fill: rgb(0, 0, 0); fill-opacity: 1; white-space: pre; opacity: 1;\">16:00</text></g><g class=\"angularaxistick\"><text text-anchor=\"end\" x=\"-2.8011848962382984\" y=\"7.913292242441643\" transform=\"translate(197.15557647929566,364.3519994715293)\" style=\"font-family: Helvetica; font-size: 12px; fill: rgb(0, 0, 0); fill-opacity: 1; white-space: pre; opacity: 1;\">17:00</text></g><g class=\"angularaxistick\"><text text-anchor=\"end\" x=\"-2.9000000000000004\" y=\"4.200000000000001\" transform=\"translate(190,310)\" style=\"font-family: Helvetica; font-size: 12px; fill: rgb(0, 0, 0); fill-opacity: 1; white-space: pre; opacity: 1;\">18:00</text></g><g class=\"angularaxistick\"><text text-anchor=\"end\" x=\"-2.801184896238299\" y=\"2.685147531370729\" transform=\"translate(197.15557647929563,255.64800052847073)\" style=\"font-family: Helvetica; font-size: 12px; fill: rgb(0, 0, 0); fill-opacity: 1; white-space: pre; opacity: 1;\">19:00</text></g><g class=\"angularaxistick\"><text text-anchor=\"end\" x=\"-2.511473670974872\" y=\"0.9873066958946408\" transform=\"translate(218.1346652052679,204.99999999999997)\" style=\"font-family: Helvetica; font-size: 12px; fill: rgb(0, 0, 0); fill-opacity: 1; white-space: pre; opacity: 1;\">20:00</text></g><g class=\"angularaxistick\"><text text-anchor=\"end\" x=\"-2.0506096654409887\" y=\"-0.7778174593052021\" transform=\"translate(251.507575950825,161.50757595082504)\" style=\"font-family: Helvetica; font-size: 12px; fill: rgb(0, 0, 0); fill-opacity: 1; white-space: pre; opacity: 1;\">21:00</text></g><g class=\"angularaxistick\"><text text-anchor=\"end\" x=\"-1.4500000000000015\" y=\"-2.4899346400575233\" transform=\"translate(294.9999999999999,128.1346652052679)\" style=\"font-family: Helvetica; font-size: 12px; fill: rgb(0, 0, 0); fill-opacity: 1; white-space: pre; opacity: 1;\">22:00</text></g><g class=\"angularaxistick\"><text text-anchor=\"end\" x=\"-0.7505752307973099\" y=\"-4.032366889901477\" transform=\"translate(345.6480005284707,107.15557647929566)\" style=\"font-family: Helvetica; font-size: 12px; fill: rgb(0, 0, 0); fill-opacity: 1; white-space: pre; opacity: 1;\">23:00</text></g></g><g class=\"polarsublayer radial-axis\" display=\"none\"/></g></g><g class=\"smithlayer\"/><g class=\"ternarylayer\"/><g class=\"geolayer\"/><g class=\"funnelarealayer\"/><g class=\"pielayer\"/><g class=\"iciclelayer\"/><g class=\"treemaplayer\"/><g class=\"sunburstlayer\"/><g class=\"glimages\"/><defs id=\"topdefs-fadce1\"><g class=\"clips\"/></defs><g class=\"layer-above\"><g class=\"imagelayer\"/><g class=\"shapelayer\"/></g><g class=\"infolayer\"><g class=\"g-gtitle\"><text class=\"gtitle\" x=\"40\" y=\"50\" text-anchor=\"start\" dy=\"0em\" style=\"font-family: Helvetica; font-size: 17px; fill: rgb(42, 63, 95); opacity: 1; font-weight: normal; white-space: pre;\"><tspan style=\"font-weight:bold\">Spotify:</tspan><tspan style=\"font-style:italic\"> Listening clock</tspan></text></g><g class=\"g-polartitle\"/></g></svg>"
      ]
     },
     "metadata": {},
     "output_type": "display_data"
    }
   ],
   "source": [
    "palette = sns.color_palette(\"YlGn\", 24).as_hex() #RdYlBu\n",
    "\n",
    "fig = go.Figure(go.Barpolar(\n",
    "    r=df_hour.hour_to_minutes,\n",
    "    theta=np.linspace(0, 360, 24, endpoint=False),\n",
    "    width=15,\n",
    "    marker_color=palette,\n",
    "    marker_line_color='white',\n",
    "    marker_line_width=0.10,\n",
    "    offset=0\n",
    "))\n",
    "\n",
    "num_slices=24\n",
    "angular_tickvals = [(i) * 360 / num_slices for i in range(num_slices)]\n",
    "labels = [time(i, 0).strftime(\"%H:%M\") for i in df_hour.hour]\n",
    "\n",
    "fig.update_layout(\n",
    "    title='<b>Spotify:</b><i> Listening clock</i>',\n",
    "    template=None,\n",
    "    polar = dict(\n",
    "        bgcolor='#e5ecf6',\n",
    "        radialaxis = dict(range=[0, 25], \n",
    "                          showticklabels=False,\n",
    "                          ticks='', \n",
    "                          nticks=1,\n",
    "                          color='grey', \n",
    "                          linewidth=0),\n",
    "        angularaxis = dict(showticklabels=True, \n",
    "                           ticks='',\n",
    "                           tickfont_size = 12,\n",
    "                           tickfont_color = 'black',\n",
    "                           rotation = 90,\n",
    "                           direction = \"clockwise\",\n",
    "                           color='white', \n",
    "                           tickmode='array',\n",
    "                           tickvals=angular_tickvals,\n",
    "                           ticktext=labels,\n",
    "                           )\n",
    "        \n",
    "    ),\n",
    "    height=600,\n",
    "    width=800\n",
    ")\n",
    "\n",
    "write(fig, 'daily_listening_clock')"
   ]
  },
  {
   "cell_type": "markdown",
   "id": "48b7ab1b-4cd4-4532-880c-b0899b4086b7",
   "metadata": {},
   "source": [
    "<span style=\"font-family:Helvetica Light\">\n",
    "\n",
    "## 2. Content Analysis\n",
    "Let's analyze how much of my listening time is dedicated to music versus podcasts, discover which podcasts I listened to the most, and identify my favorite artists and tracks of the year.\n",
    "### 2.1. Content Proportion\n",
    "\n",
    "</span>"
   ]
  },
  {
   "cell_type": "code",
   "execution_count": 28,
   "id": "54710f9b-30f2-42a9-b1ea-445004b76444",
   "metadata": {},
   "outputs": [
    {
     "data": {
      "text/plain": [
       "streamType\n",
       "music      4940\n",
       "podcast     102\n",
       "dtype: int64"
      ]
     },
     "execution_count": 28,
     "metadata": {},
     "output_type": "execute_result"
    }
   ],
   "source": [
    "merged_df = pd.concat([df, podcasts])\n",
    "merged_df['streamType'] = np.where(merged_df['podcastName'].isna(), 'music', 'podcast')\n",
    "merged_df.groupby('streamType').size()"
   ]
  },
  {
   "cell_type": "code",
   "execution_count": 29,
   "id": "01884a86-77ac-42e1-b68f-0acd2af68a6e",
   "metadata": {},
   "outputs": [
    {
     "data": {
      "text/plain": [
       "streamType\n",
       "music      204.020000\n",
       "podcast     22.830856\n",
       "Name: hPlayed, dtype: float64"
      ]
     },
     "execution_count": 29,
     "metadata": {},
     "output_type": "execute_result"
    }
   ],
   "source": [
    "merged_df.groupby('streamType')['hPlayed'].sum()"
   ]
  },
  {
   "cell_type": "code",
   "execution_count": 33,
   "id": "f2dfc619-f17b-49e0-ada8-10a61041b4c5",
   "metadata": {},
   "outputs": [
    {
     "data": {
      "image/svg+xml": [
       "<svg class=\"main-svg\" xmlns=\"http://www.w3.org/2000/svg\" xmlns:xlink=\"http://www.w3.org/1999/xlink\" width=\"700\" height=\"550\" style=\"\" viewBox=\"0 0 700 550\"><rect x=\"0\" y=\"0\" width=\"700\" height=\"550\" style=\"fill: rgb(255, 255, 255); fill-opacity: 1;\"/><defs id=\"defs-115968\"><g class=\"clips\"/><g class=\"gradients\"/><g class=\"patterns\"/></defs><g class=\"bglayer\"/><g class=\"layer-below\"><g class=\"imagelayer\"/><g class=\"shapelayer\"/></g><g class=\"cartesianlayer\"/><g class=\"polarlayer\"/><g class=\"smithlayer\"/><g class=\"ternarylayer\"/><g class=\"geolayer\"/><g class=\"funnelarealayer\"/><g class=\"pielayer\"><g class=\"trace\" stroke-linejoin=\"round\" style=\"opacity: 1;\"><g class=\"slice\"><path class=\"surface\" d=\"M376.33391041201116,258.3214831737128l-155.29660720577127,-27.38298186286203a157.69230769230768,157.69230769230768 0 1 1 13.843954974428499,97.08241573462485Z\" style=\"pointer-events: all; stroke-width: 0; fill: rgb(29, 185, 84); fill-opacity: 1; stroke: rgb(68, 68, 68); stroke-opacity: 1;\"/><g class=\"slicetext\"><text data-notex=\"1\" class=\"slicetext\" transform=\"translate(454.39042776536314,251.19062179656748)\" text-anchor=\"middle\" x=\"0\" y=\"0\" style=\"font-family: Helvetica; font-size: 12px; fill: rgb(255, 255, 255); fill-opacity: 1; white-space: pre;\">music: 90%</text></g></g><g class=\"slice\"><path class=\"surface\" d=\"M329.5,265l-141.45265223134254,69.69943387176329a157.69230769230768,157.69230769230768 0 0 1 -13.843954974428726,-97.08241573462533Z\" style=\"pointer-events: all; stroke-width: 0; fill: rgb(25, 20, 20); fill-opacity: 1; stroke: rgb(68, 68, 68); stroke-opacity: 1;\"/><g class=\"slicetext\"><text data-notex=\"1\" class=\"slicetext\" transform=\"translate(210.4148576701396,285.9815443513941)\" text-anchor=\"middle\" x=\"0\" y=\"0\" style=\"font-family: Helvetica; font-size: 12px; fill: rgb(255, 255, 255); fill-opacity: 1; white-space: pre;\">podcast: 10%</text></g></g></g></g><g class=\"iciclelayer\"/><g class=\"treemaplayer\"/><g class=\"sunburstlayer\"/><g class=\"glimages\"/><defs id=\"topdefs-115968\"><g class=\"clips\"/><clipPath id=\"legend115968\"><rect width=\"99\" height=\"67\" x=\"0\" y=\"0\"/></clipPath></defs><g class=\"layer-above\"><g class=\"imagelayer\"/><g class=\"shapelayer\"/></g><g class=\"infolayer\"><g class=\"legend\" pointer-events=\"all\" transform=\"translate(588.98,60)\"><rect class=\"bg\" shape-rendering=\"crispEdges\" width=\"99\" height=\"67\" x=\"0\" y=\"0\" style=\"stroke: rgb(68, 68, 68); stroke-opacity: 1; fill: rgb(255, 255, 255); fill-opacity: 1; stroke-width: 0px;\"/><g class=\"scrollbox\" transform=\"\" clip-path=\"url(#legend115968)\"><text class=\"legendtitletext\" text-anchor=\"start\" x=\"2\" y=\"18.2\" style=\"font-family: Helvetica; font-size: 14px; fill: rgb(42, 63, 95); fill-opacity: 1; white-space: pre;\">Streaming type</text><g class=\"groups\"><g class=\"traces\" transform=\"translate(0,32.7)\" style=\"opacity: 1;\"><text class=\"legendtext\" text-anchor=\"start\" x=\"40\" y=\"4.680000000000001\" style=\"font-family: Helvetica; font-size: 12px; fill: rgb(42, 63, 95); fill-opacity: 1; white-space: pre;\">music</text><g class=\"layers\" style=\"opacity: 1;\"><g class=\"legendfill\"/><g class=\"legendlines\"/><g class=\"legendsymbols\"><g class=\"legendpoints\"><path class=\"legendpie\" d=\"M6,6H-6V-6H6Z\" transform=\"translate(20,0)\" style=\"stroke-width: 0; fill: rgb(29, 185, 84); fill-opacity: 1; stroke: rgb(68, 68, 68); stroke-opacity: 1;\"/></g></g></g><rect class=\"legendtoggle\" x=\"0\" y=\"-9.5\" width=\"82.03125\" height=\"19\" style=\"fill: rgb(0, 0, 0); fill-opacity: 0;\"/></g><g class=\"traces\" transform=\"translate(0,51.7)\" style=\"opacity: 1;\"><text class=\"legendtext\" text-anchor=\"start\" x=\"40\" y=\"4.680000000000001\" style=\"font-family: Helvetica; font-size: 12px; fill: rgb(42, 63, 95); fill-opacity: 1; white-space: pre;\">podcast</text><g class=\"layers\" style=\"opacity: 1;\"><g class=\"legendfill\"/><g class=\"legendlines\"/><g class=\"legendsymbols\"><g class=\"legendpoints\"><path class=\"legendpie\" d=\"M6,6H-6V-6H6Z\" transform=\"translate(20,0)\" style=\"stroke-width: 0; fill: rgb(25, 20, 20); fill-opacity: 1; stroke: rgb(68, 68, 68); stroke-opacity: 1;\"/></g></g></g><rect class=\"legendtoggle\" x=\"0\" y=\"-9.5\" width=\"82.03125\" height=\"19\" style=\"fill: rgb(0, 0, 0); fill-opacity: 0;\"/></g></g></g><rect class=\"scrollbar\" rx=\"20\" ry=\"3\" width=\"0\" height=\"0\" x=\"0\" y=\"0\" style=\"fill: rgb(128, 139, 164); fill-opacity: 1;\"/></g><g class=\"g-gtitle\"><text class=\"gtitle\" x=\"35\" y=\"30\" text-anchor=\"start\" dy=\"0em\" style=\"font-family: Helvetica; font-size: 17px; fill: rgb(42, 63, 95); opacity: 1; font-weight: normal; white-space: pre;\"><tspan style=\"font-weight:bold\">Spotify:</tspan><tspan style=\"font-style:italic\"> What is the proportion of music vs podcasts?</tspan></text></g></g></svg>"
      ]
     },
     "metadata": {},
     "output_type": "display_data"
    }
   ],
   "source": [
    "fig = px.pie(merged_df, values='hPlayed', names='streamType', color_discrete_sequence=spotify_colors)\n",
    "\n",
    "fig.update_traces(textposition='inside', \n",
    "                  textinfo='percent+label',\n",
    "                  pull=[0.3, 0], \n",
    "                  rotation=280, \n",
    "                  texttemplate=\"%{label}: %{percent:.0%}\")\n",
    "\n",
    "\n",
    "fig.update_layout(\n",
    "    title='<b>Spotify:</b><i> What is the proportion of music vs podcasts?</i>',\n",
    "    legend_title='Streaming type',\n",
    "    height=550,\n",
    "    width=700\n",
    ")\n",
    "\n",
    "write(fig, 'music_vs_podcasts')"
   ]
  },
  {
   "cell_type": "markdown",
   "id": "11d52ef2-1f1c-423b-91a9-48456fecc805",
   "metadata": {},
   "source": [
    "<span style=\"font-family:Helvetica Light\">\n",
    "    \n",
    "### 2.2. Top Podcasts\n",
    "\n",
    "</span>"
   ]
  },
  {
   "cell_type": "code",
   "execution_count": 34,
   "id": "21f84453-a154-407c-8497-37e4316fefe1",
   "metadata": {},
   "outputs": [
    {
     "data": {
      "text/html": [
       "<div>\n",
       "<style scoped>\n",
       "    .dataframe tbody tr th:only-of-type {\n",
       "        vertical-align: middle;\n",
       "    }\n",
       "\n",
       "    .dataframe tbody tr th {\n",
       "        vertical-align: top;\n",
       "    }\n",
       "\n",
       "    .dataframe thead th {\n",
       "        text-align: right;\n",
       "    }\n",
       "</style>\n",
       "<table border=\"1\" class=\"dataframe\">\n",
       "  <thead>\n",
       "    <tr style=\"text-align: right;\">\n",
       "      <th></th>\n",
       "      <th>podcastName</th>\n",
       "      <th>podcastId</th>\n",
       "      <th>imageUrl</th>\n",
       "    </tr>\n",
       "  </thead>\n",
       "  <tbody>\n",
       "    <tr>\n",
       "      <th>0</th>\n",
       "      <td>Lex Fridman Podcast</td>\n",
       "      <td>2MAi0BvDc6GTFvKFPXnkCL</td>\n",
       "      <td>https://i.scdn.co/image/ab6765630000ba8a563ebb...</td>\n",
       "    </tr>\n",
       "    <tr>\n",
       "      <th>1</th>\n",
       "      <td>Meditation Mountain</td>\n",
       "      <td>6rmydpcCvLzN4744S1fCsW</td>\n",
       "      <td>https://i.scdn.co/image/ab6765630000ba8a4beb4a...</td>\n",
       "    </tr>\n",
       "    <tr>\n",
       "      <th>2</th>\n",
       "      <td>The Joe Rogan Experience</td>\n",
       "      <td>4rOoJ6Egrf8K2IrywzwOMk</td>\n",
       "      <td>https://i.scdn.co/image/ab6765630000ba8a20741e...</td>\n",
       "    </tr>\n",
       "    <tr>\n",
       "      <th>3</th>\n",
       "      <td>anything goes with emma chamberlain</td>\n",
       "      <td>5VzFvh1JlEhBMS6ZHZ8CNO</td>\n",
       "      <td>https://i.scdn.co/image/ab6765630000ba8a072189...</td>\n",
       "    </tr>\n",
       "    <tr>\n",
       "      <th>4</th>\n",
       "      <td>The Joe Rogan Experience</td>\n",
       "      <td>4rOoJ6Egrf8K2IrywzwOMk</td>\n",
       "      <td>https://i.scdn.co/image/ab6765630000ba8a20741e...</td>\n",
       "    </tr>\n",
       "  </tbody>\n",
       "</table>\n",
       "</div>"
      ],
      "text/plain": [
       "                           podcastName               podcastId  \\\n",
       "0                  Lex Fridman Podcast  2MAi0BvDc6GTFvKFPXnkCL   \n",
       "1                  Meditation Mountain  6rmydpcCvLzN4744S1fCsW   \n",
       "2             The Joe Rogan Experience  4rOoJ6Egrf8K2IrywzwOMk   \n",
       "3  anything goes with emma chamberlain  5VzFvh1JlEhBMS6ZHZ8CNO   \n",
       "4             The Joe Rogan Experience  4rOoJ6Egrf8K2IrywzwOMk   \n",
       "\n",
       "                                            imageUrl  \n",
       "0  https://i.scdn.co/image/ab6765630000ba8a563ebb...  \n",
       "1  https://i.scdn.co/image/ab6765630000ba8a4beb4a...  \n",
       "2  https://i.scdn.co/image/ab6765630000ba8a20741e...  \n",
       "3  https://i.scdn.co/image/ab6765630000ba8a072189...  \n",
       "4  https://i.scdn.co/image/ab6765630000ba8a20741e...  "
      ]
     },
     "execution_count": 34,
     "metadata": {},
     "output_type": "execute_result"
    }
   ],
   "source": [
    "# load show details extracted from spotify\n",
    "show_details = pd.read_csv('../data/show_details.csv')\n",
    "show_details.head()"
   ]
  },
  {
   "cell_type": "code",
   "execution_count": 35,
   "id": "b560d4e1-28da-4aa0-a0bf-8ee316c2a7d6",
   "metadata": {},
   "outputs": [],
   "source": [
    "podcasts = pd.merge(podcasts, show_details, on='podcastName', how='left')\n",
    "\n",
    "top_podcasts = podcasts.groupby(['podcastName', 'imageUrl'], as_index=False).agg({'hPlayed':'sum', 'episodeName': 'nunique'})\n",
    "\n",
    "top_podcasts.sort_values(by='hPlayed', ascending=False, ignore_index=True, inplace=True)\n",
    "top_podcasts_by_hrs = top_podcasts.head(10).reset_index(drop=True)"
   ]
  },
  {
   "cell_type": "code",
   "execution_count": 36,
   "id": "0bd036a9-83bd-46d9-a0b0-193e45fa8c1f",
   "metadata": {},
   "outputs": [
    {
     "data": {
      "text/html": [
       "<div>\n",
       "<style scoped>\n",
       "    .dataframe tbody tr th:only-of-type {\n",
       "        vertical-align: middle;\n",
       "    }\n",
       "\n",
       "    .dataframe tbody tr th {\n",
       "        vertical-align: top;\n",
       "    }\n",
       "\n",
       "    .dataframe thead th {\n",
       "        text-align: right;\n",
       "    }\n",
       "</style>\n",
       "<table border=\"1\" class=\"dataframe\">\n",
       "  <thead>\n",
       "    <tr style=\"text-align: right;\">\n",
       "      <th></th>\n",
       "      <th>podcastName</th>\n",
       "      <th>imageUrl</th>\n",
       "      <th>hPlayed</th>\n",
       "      <th>episodeName</th>\n",
       "    </tr>\n",
       "  </thead>\n",
       "  <tbody>\n",
       "    <tr>\n",
       "      <th>0</th>\n",
       "      <td>The Diary Of A CEO with Steven Bartlett</td>\n",
       "      <td>https://i.scdn.co/image/ab6765630000ba8af82cef...</td>\n",
       "      <td>65.911058</td>\n",
       "      <td>17</td>\n",
       "    </tr>\n",
       "    <tr>\n",
       "      <th>1</th>\n",
       "      <td>anything goes with emma chamberlain</td>\n",
       "      <td>https://i.scdn.co/image/ab6765630000ba8a072189...</td>\n",
       "      <td>58.904816</td>\n",
       "      <td>12</td>\n",
       "    </tr>\n",
       "    <tr>\n",
       "      <th>2</th>\n",
       "      <td>Huberman Lab</td>\n",
       "      <td>https://i.scdn.co/image/ab6765630000ba8aaa4830...</td>\n",
       "      <td>14.937915</td>\n",
       "      <td>4</td>\n",
       "    </tr>\n",
       "    <tr>\n",
       "      <th>3</th>\n",
       "      <td>Lex Fridman Podcast</td>\n",
       "      <td>https://i.scdn.co/image/ab6765630000ba8a563ebb...</td>\n",
       "      <td>7.594739</td>\n",
       "      <td>3</td>\n",
       "    </tr>\n",
       "    <tr>\n",
       "      <th>4</th>\n",
       "      <td>The Sleep Zone Podcast</td>\n",
       "      <td>https://i.scdn.co/image/ab6765630000ba8a37c0d8...</td>\n",
       "      <td>0.130145</td>\n",
       "      <td>1</td>\n",
       "    </tr>\n",
       "    <tr>\n",
       "      <th>5</th>\n",
       "      <td>Meditation Mountain</td>\n",
       "      <td>https://i.scdn.co/image/ab6765630000ba8a4beb4a...</td>\n",
       "      <td>0.120747</td>\n",
       "      <td>1</td>\n",
       "    </tr>\n",
       "    <tr>\n",
       "      <th>6</th>\n",
       "      <td>Today, Explained</td>\n",
       "      <td>https://i.scdn.co/image/ab6765630000ba8adfc0a3...</td>\n",
       "      <td>0.007716</td>\n",
       "      <td>1</td>\n",
       "    </tr>\n",
       "    <tr>\n",
       "      <th>7</th>\n",
       "      <td>The Joe Rogan Experience</td>\n",
       "      <td>https://i.scdn.co/image/ab6765630000ba8a20741e...</td>\n",
       "      <td>0.001176</td>\n",
       "      <td>1</td>\n",
       "    </tr>\n",
       "  </tbody>\n",
       "</table>\n",
       "</div>"
      ],
      "text/plain": [
       "                               podcastName  \\\n",
       "0  The Diary Of A CEO with Steven Bartlett   \n",
       "1      anything goes with emma chamberlain   \n",
       "2                             Huberman Lab   \n",
       "3                      Lex Fridman Podcast   \n",
       "4                   The Sleep Zone Podcast   \n",
       "5                      Meditation Mountain   \n",
       "6                         Today, Explained   \n",
       "7                 The Joe Rogan Experience   \n",
       "\n",
       "                                            imageUrl    hPlayed  episodeName  \n",
       "0  https://i.scdn.co/image/ab6765630000ba8af82cef...  65.911058           17  \n",
       "1  https://i.scdn.co/image/ab6765630000ba8a072189...  58.904816           12  \n",
       "2  https://i.scdn.co/image/ab6765630000ba8aaa4830...  14.937915            4  \n",
       "3  https://i.scdn.co/image/ab6765630000ba8a563ebb...   7.594739            3  \n",
       "4  https://i.scdn.co/image/ab6765630000ba8a37c0d8...   0.130145            1  \n",
       "5  https://i.scdn.co/image/ab6765630000ba8a4beb4a...   0.120747            1  \n",
       "6  https://i.scdn.co/image/ab6765630000ba8adfc0a3...   0.007716            1  \n",
       "7  https://i.scdn.co/image/ab6765630000ba8a20741e...   0.001176            1  "
      ]
     },
     "execution_count": 36,
     "metadata": {},
     "output_type": "execute_result"
    }
   ],
   "source": [
    "top_podcasts_by_hrs.head(10)"
   ]
  },
  {
   "cell_type": "code",
   "execution_count": 37,
   "id": "1d0eafa8-f3bb-4c08-b734-5287db916003",
   "metadata": {},
   "outputs": [
    {
     "data": {
      "application/vnd.plotly.v1+json": {
       "config": {
        "plotlyServerURL": "https://plot.ly"
       },
       "data": [
        {
         "alignmentgroup": "True",
         "hovertemplate": "hPlayed=%{x}<br>podcastName=%{y}<extra></extra>",
         "legendgroup": "",
         "marker": {
          "color": "rgba(0, 0, 0, 0)",
          "pattern": {
           "shape": ""
          }
         },
         "name": "",
         "offsetgroup": "",
         "orientation": "h",
         "showlegend": false,
         "textposition": "auto",
         "type": "bar",
         "x": [
          65.91105777777778,
          58.90481555555556,
          14.937915,
          7.594739166666667,
          0.130145,
          0.12074666666666667,
          0.007715555555555555,
          0.0011755555555555556
         ],
         "xaxis": "x",
         "y": [
          "The Diary Of A CEO with Steven Bartlett",
          "anything goes with emma chamberlain",
          "Huberman Lab",
          "Lex Fridman Podcast",
          "The Sleep Zone Podcast",
          "Meditation Mountain",
          "Today, Explained",
          "The Joe Rogan Experience"
         ],
         "yaxis": "y"
        }
       ],
       "layout": {
        "barmode": "relative",
        "font": {
         "family": "Helvetica"
        },
        "height": 500,
        "images": [
         {
          "layer": "above",
          "opacity": 1,
          "sizex": 5,
          "sizey": 5,
          "sizing": "contain",
          "source": "https://i.scdn.co/image/ab6765630000ba8af82cef9bcb8430f86a8ed8e0",
          "x": 65.91105777777778,
          "xanchor": "center",
          "xref": "x",
          "y": 0,
          "yanchor": "middle",
          "yref": "y"
         },
         {
          "layer": "above",
          "opacity": 1,
          "sizex": 5,
          "sizey": 5,
          "sizing": "contain",
          "source": "https://i.scdn.co/image/ab6765630000ba8a072189d0d34bfdf9dc87e4b5",
          "x": 58.90481555555556,
          "xanchor": "center",
          "xref": "x",
          "y": 1,
          "yanchor": "middle",
          "yref": "y"
         },
         {
          "layer": "above",
          "opacity": 1,
          "sizex": 5,
          "sizey": 5,
          "sizing": "contain",
          "source": "https://i.scdn.co/image/ab6765630000ba8aaa4830256e4b613f07287208",
          "x": 14.937915,
          "xanchor": "center",
          "xref": "x",
          "y": 2,
          "yanchor": "middle",
          "yref": "y"
         },
         {
          "layer": "above",
          "opacity": 1,
          "sizex": 5,
          "sizey": 5,
          "sizing": "contain",
          "source": "https://i.scdn.co/image/ab6765630000ba8a563ebb538d297875b10114b7",
          "x": 7.594739166666667,
          "xanchor": "center",
          "xref": "x",
          "y": 3,
          "yanchor": "middle",
          "yref": "y"
         },
         {
          "layer": "above",
          "opacity": 1,
          "sizex": 5,
          "sizey": 5,
          "sizing": "contain",
          "source": "https://i.scdn.co/image/ab6765630000ba8a37c0d80278a441f9689d021c",
          "x": 0.130145,
          "xanchor": "center",
          "xref": "x",
          "y": 4,
          "yanchor": "middle",
          "yref": "y"
         },
         {
          "layer": "above",
          "opacity": 1,
          "sizex": 5,
          "sizey": 5,
          "sizing": "contain",
          "source": "https://i.scdn.co/image/ab6765630000ba8a4beb4ab2b9d7a6143c3a9c63",
          "x": 0.12074666666666667,
          "xanchor": "center",
          "xref": "x",
          "y": 5,
          "yanchor": "middle",
          "yref": "y"
         },
         {
          "layer": "above",
          "opacity": 1,
          "sizex": 5,
          "sizey": 5,
          "sizing": "contain",
          "source": "https://i.scdn.co/image/ab6765630000ba8adfc0a3d7959906e9ae5c3fc9",
          "x": 0.007715555555555555,
          "xanchor": "center",
          "xref": "x",
          "y": 6,
          "yanchor": "middle",
          "yref": "y"
         },
         {
          "layer": "above",
          "opacity": 1,
          "sizex": 5,
          "sizey": 5,
          "sizing": "contain",
          "source": "https://i.scdn.co/image/ab6765630000ba8a20741e027668636723359069",
          "x": 0.0011755555555555556,
          "xanchor": "center",
          "xref": "x",
          "y": 7,
          "yanchor": "middle",
          "yref": "y"
         }
        ],
        "legend": {
         "tracegroupgap": 0
        },
        "margin": {
         "t": 60
        },
        "template": {
         "data": {
          "bar": [
           {
            "error_x": {
             "color": "#2a3f5f"
            },
            "error_y": {
             "color": "#2a3f5f"
            },
            "marker": {
             "line": {
              "color": "white",
              "width": 0.5
             },
             "pattern": {
              "fillmode": "overlay",
              "size": 10,
              "solidity": 0.2
             }
            },
            "type": "bar"
           }
          ],
          "barpolar": [
           {
            "marker": {
             "line": {
              "color": "white",
              "width": 0.5
             },
             "pattern": {
              "fillmode": "overlay",
              "size": 10,
              "solidity": 0.2
             }
            },
            "type": "barpolar"
           }
          ],
          "carpet": [
           {
            "aaxis": {
             "endlinecolor": "#2a3f5f",
             "gridcolor": "#C8D4E3",
             "linecolor": "#C8D4E3",
             "minorgridcolor": "#C8D4E3",
             "startlinecolor": "#2a3f5f"
            },
            "baxis": {
             "endlinecolor": "#2a3f5f",
             "gridcolor": "#C8D4E3",
             "linecolor": "#C8D4E3",
             "minorgridcolor": "#C8D4E3",
             "startlinecolor": "#2a3f5f"
            },
            "type": "carpet"
           }
          ],
          "choropleth": [
           {
            "colorbar": {
             "outlinewidth": 0,
             "ticks": ""
            },
            "type": "choropleth"
           }
          ],
          "contour": [
           {
            "colorbar": {
             "outlinewidth": 0,
             "ticks": ""
            },
            "colorscale": [
             [
              0,
              "#0d0887"
             ],
             [
              0.1111111111111111,
              "#46039f"
             ],
             [
              0.2222222222222222,
              "#7201a8"
             ],
             [
              0.3333333333333333,
              "#9c179e"
             ],
             [
              0.4444444444444444,
              "#bd3786"
             ],
             [
              0.5555555555555556,
              "#d8576b"
             ],
             [
              0.6666666666666666,
              "#ed7953"
             ],
             [
              0.7777777777777778,
              "#fb9f3a"
             ],
             [
              0.8888888888888888,
              "#fdca26"
             ],
             [
              1,
              "#f0f921"
             ]
            ],
            "type": "contour"
           }
          ],
          "contourcarpet": [
           {
            "colorbar": {
             "outlinewidth": 0,
             "ticks": ""
            },
            "type": "contourcarpet"
           }
          ],
          "heatmap": [
           {
            "colorbar": {
             "outlinewidth": 0,
             "ticks": ""
            },
            "colorscale": [
             [
              0,
              "#0d0887"
             ],
             [
              0.1111111111111111,
              "#46039f"
             ],
             [
              0.2222222222222222,
              "#7201a8"
             ],
             [
              0.3333333333333333,
              "#9c179e"
             ],
             [
              0.4444444444444444,
              "#bd3786"
             ],
             [
              0.5555555555555556,
              "#d8576b"
             ],
             [
              0.6666666666666666,
              "#ed7953"
             ],
             [
              0.7777777777777778,
              "#fb9f3a"
             ],
             [
              0.8888888888888888,
              "#fdca26"
             ],
             [
              1,
              "#f0f921"
             ]
            ],
            "type": "heatmap"
           }
          ],
          "heatmapgl": [
           {
            "colorbar": {
             "outlinewidth": 0,
             "ticks": ""
            },
            "colorscale": [
             [
              0,
              "#0d0887"
             ],
             [
              0.1111111111111111,
              "#46039f"
             ],
             [
              0.2222222222222222,
              "#7201a8"
             ],
             [
              0.3333333333333333,
              "#9c179e"
             ],
             [
              0.4444444444444444,
              "#bd3786"
             ],
             [
              0.5555555555555556,
              "#d8576b"
             ],
             [
              0.6666666666666666,
              "#ed7953"
             ],
             [
              0.7777777777777778,
              "#fb9f3a"
             ],
             [
              0.8888888888888888,
              "#fdca26"
             ],
             [
              1,
              "#f0f921"
             ]
            ],
            "type": "heatmapgl"
           }
          ],
          "histogram": [
           {
            "marker": {
             "pattern": {
              "fillmode": "overlay",
              "size": 10,
              "solidity": 0.2
             }
            },
            "type": "histogram"
           }
          ],
          "histogram2d": [
           {
            "colorbar": {
             "outlinewidth": 0,
             "ticks": ""
            },
            "colorscale": [
             [
              0,
              "#0d0887"
             ],
             [
              0.1111111111111111,
              "#46039f"
             ],
             [
              0.2222222222222222,
              "#7201a8"
             ],
             [
              0.3333333333333333,
              "#9c179e"
             ],
             [
              0.4444444444444444,
              "#bd3786"
             ],
             [
              0.5555555555555556,
              "#d8576b"
             ],
             [
              0.6666666666666666,
              "#ed7953"
             ],
             [
              0.7777777777777778,
              "#fb9f3a"
             ],
             [
              0.8888888888888888,
              "#fdca26"
             ],
             [
              1,
              "#f0f921"
             ]
            ],
            "type": "histogram2d"
           }
          ],
          "histogram2dcontour": [
           {
            "colorbar": {
             "outlinewidth": 0,
             "ticks": ""
            },
            "colorscale": [
             [
              0,
              "#0d0887"
             ],
             [
              0.1111111111111111,
              "#46039f"
             ],
             [
              0.2222222222222222,
              "#7201a8"
             ],
             [
              0.3333333333333333,
              "#9c179e"
             ],
             [
              0.4444444444444444,
              "#bd3786"
             ],
             [
              0.5555555555555556,
              "#d8576b"
             ],
             [
              0.6666666666666666,
              "#ed7953"
             ],
             [
              0.7777777777777778,
              "#fb9f3a"
             ],
             [
              0.8888888888888888,
              "#fdca26"
             ],
             [
              1,
              "#f0f921"
             ]
            ],
            "type": "histogram2dcontour"
           }
          ],
          "mesh3d": [
           {
            "colorbar": {
             "outlinewidth": 0,
             "ticks": ""
            },
            "type": "mesh3d"
           }
          ],
          "parcoords": [
           {
            "line": {
             "colorbar": {
              "outlinewidth": 0,
              "ticks": ""
             }
            },
            "type": "parcoords"
           }
          ],
          "pie": [
           {
            "automargin": true,
            "type": "pie"
           }
          ],
          "scatter": [
           {
            "fillpattern": {
             "fillmode": "overlay",
             "size": 10,
             "solidity": 0.2
            },
            "type": "scatter"
           }
          ],
          "scatter3d": [
           {
            "line": {
             "colorbar": {
              "outlinewidth": 0,
              "ticks": ""
             }
            },
            "marker": {
             "colorbar": {
              "outlinewidth": 0,
              "ticks": ""
             }
            },
            "type": "scatter3d"
           }
          ],
          "scattercarpet": [
           {
            "marker": {
             "colorbar": {
              "outlinewidth": 0,
              "ticks": ""
             }
            },
            "type": "scattercarpet"
           }
          ],
          "scattergeo": [
           {
            "marker": {
             "colorbar": {
              "outlinewidth": 0,
              "ticks": ""
             }
            },
            "type": "scattergeo"
           }
          ],
          "scattergl": [
           {
            "marker": {
             "colorbar": {
              "outlinewidth": 0,
              "ticks": ""
             }
            },
            "type": "scattergl"
           }
          ],
          "scattermapbox": [
           {
            "marker": {
             "colorbar": {
              "outlinewidth": 0,
              "ticks": ""
             }
            },
            "type": "scattermapbox"
           }
          ],
          "scatterpolar": [
           {
            "marker": {
             "colorbar": {
              "outlinewidth": 0,
              "ticks": ""
             }
            },
            "type": "scatterpolar"
           }
          ],
          "scatterpolargl": [
           {
            "marker": {
             "colorbar": {
              "outlinewidth": 0,
              "ticks": ""
             }
            },
            "type": "scatterpolargl"
           }
          ],
          "scatterternary": [
           {
            "marker": {
             "colorbar": {
              "outlinewidth": 0,
              "ticks": ""
             }
            },
            "type": "scatterternary"
           }
          ],
          "surface": [
           {
            "colorbar": {
             "outlinewidth": 0,
             "ticks": ""
            },
            "colorscale": [
             [
              0,
              "#0d0887"
             ],
             [
              0.1111111111111111,
              "#46039f"
             ],
             [
              0.2222222222222222,
              "#7201a8"
             ],
             [
              0.3333333333333333,
              "#9c179e"
             ],
             [
              0.4444444444444444,
              "#bd3786"
             ],
             [
              0.5555555555555556,
              "#d8576b"
             ],
             [
              0.6666666666666666,
              "#ed7953"
             ],
             [
              0.7777777777777778,
              "#fb9f3a"
             ],
             [
              0.8888888888888888,
              "#fdca26"
             ],
             [
              1,
              "#f0f921"
             ]
            ],
            "type": "surface"
           }
          ],
          "table": [
           {
            "cells": {
             "fill": {
              "color": "#EBF0F8"
             },
             "line": {
              "color": "white"
             }
            },
            "header": {
             "fill": {
              "color": "#C8D4E3"
             },
             "line": {
              "color": "white"
             }
            },
            "type": "table"
           }
          ]
         },
         "layout": {
          "annotationdefaults": {
           "arrowcolor": "#2a3f5f",
           "arrowhead": 0,
           "arrowwidth": 1
          },
          "autotypenumbers": "strict",
          "coloraxis": {
           "colorbar": {
            "outlinewidth": 0,
            "ticks": ""
           }
          },
          "colorscale": {
           "diverging": [
            [
             0,
             "#8e0152"
            ],
            [
             0.1,
             "#c51b7d"
            ],
            [
             0.2,
             "#de77ae"
            ],
            [
             0.3,
             "#f1b6da"
            ],
            [
             0.4,
             "#fde0ef"
            ],
            [
             0.5,
             "#f7f7f7"
            ],
            [
             0.6,
             "#e6f5d0"
            ],
            [
             0.7,
             "#b8e186"
            ],
            [
             0.8,
             "#7fbc41"
            ],
            [
             0.9,
             "#4d9221"
            ],
            [
             1,
             "#276419"
            ]
           ],
           "sequential": [
            [
             0,
             "#0d0887"
            ],
            [
             0.1111111111111111,
             "#46039f"
            ],
            [
             0.2222222222222222,
             "#7201a8"
            ],
            [
             0.3333333333333333,
             "#9c179e"
            ],
            [
             0.4444444444444444,
             "#bd3786"
            ],
            [
             0.5555555555555556,
             "#d8576b"
            ],
            [
             0.6666666666666666,
             "#ed7953"
            ],
            [
             0.7777777777777778,
             "#fb9f3a"
            ],
            [
             0.8888888888888888,
             "#fdca26"
            ],
            [
             1,
             "#f0f921"
            ]
           ],
           "sequentialminus": [
            [
             0,
             "#0d0887"
            ],
            [
             0.1111111111111111,
             "#46039f"
            ],
            [
             0.2222222222222222,
             "#7201a8"
            ],
            [
             0.3333333333333333,
             "#9c179e"
            ],
            [
             0.4444444444444444,
             "#bd3786"
            ],
            [
             0.5555555555555556,
             "#d8576b"
            ],
            [
             0.6666666666666666,
             "#ed7953"
            ],
            [
             0.7777777777777778,
             "#fb9f3a"
            ],
            [
             0.8888888888888888,
             "#fdca26"
            ],
            [
             1,
             "#f0f921"
            ]
           ]
          },
          "colorway": [
           "#636efa",
           "#EF553B",
           "#00cc96",
           "#ab63fa",
           "#FFA15A",
           "#19d3f3",
           "#FF6692",
           "#B6E880",
           "#FF97FF",
           "#FECB52"
          ],
          "font": {
           "color": "#2a3f5f"
          },
          "geo": {
           "bgcolor": "white",
           "lakecolor": "white",
           "landcolor": "white",
           "showlakes": true,
           "showland": true,
           "subunitcolor": "#C8D4E3"
          },
          "hoverlabel": {
           "align": "left"
          },
          "hovermode": "closest",
          "mapbox": {
           "style": "light"
          },
          "paper_bgcolor": "white",
          "plot_bgcolor": "white",
          "polar": {
           "angularaxis": {
            "gridcolor": "#EBF0F8",
            "linecolor": "#EBF0F8",
            "ticks": ""
           },
           "bgcolor": "white",
           "radialaxis": {
            "gridcolor": "#EBF0F8",
            "linecolor": "#EBF0F8",
            "ticks": ""
           }
          },
          "scene": {
           "xaxis": {
            "backgroundcolor": "white",
            "gridcolor": "#DFE8F3",
            "gridwidth": 2,
            "linecolor": "#EBF0F8",
            "showbackground": true,
            "ticks": "",
            "zerolinecolor": "#EBF0F8"
           },
           "yaxis": {
            "backgroundcolor": "white",
            "gridcolor": "#DFE8F3",
            "gridwidth": 2,
            "linecolor": "#EBF0F8",
            "showbackground": true,
            "ticks": "",
            "zerolinecolor": "#EBF0F8"
           },
           "zaxis": {
            "backgroundcolor": "white",
            "gridcolor": "#DFE8F3",
            "gridwidth": 2,
            "linecolor": "#EBF0F8",
            "showbackground": true,
            "ticks": "",
            "zerolinecolor": "#EBF0F8"
           }
          },
          "shapedefaults": {
           "line": {
            "color": "#2a3f5f"
           }
          },
          "ternary": {
           "aaxis": {
            "gridcolor": "#DFE8F3",
            "linecolor": "#A2B1C6",
            "ticks": ""
           },
           "baxis": {
            "gridcolor": "#DFE8F3",
            "linecolor": "#A2B1C6",
            "ticks": ""
           },
           "bgcolor": "white",
           "caxis": {
            "gridcolor": "#DFE8F3",
            "linecolor": "#A2B1C6",
            "ticks": ""
           }
          },
          "title": {
           "x": 0.05
          },
          "xaxis": {
           "automargin": true,
           "gridcolor": "#EBF0F8",
           "linecolor": "#EBF0F8",
           "ticks": "",
           "title": {
            "standoff": 15
           },
           "zerolinecolor": "#EBF0F8",
           "zerolinewidth": 2
          },
          "yaxis": {
           "automargin": true,
           "gridcolor": "#EBF0F8",
           "linecolor": "#EBF0F8",
           "ticks": "",
           "title": {
            "standoff": 15
           },
           "zerolinecolor": "#EBF0F8",
           "zerolinewidth": 2
          }
         }
        },
        "title": {
         "text": "<b>Spotify:</b><i> What were my top podcasts of the year?</i>"
        },
        "width": 1000,
        "xaxis": {
         "anchor": "y",
         "color": "grey",
         "domain": [
          0,
          1
         ],
         "range": [
          -4,
          70
         ],
         "rangemode": "tozero",
         "tickfont": {
          "size": 14
         },
         "title": {
          "text": "Hours Listened"
         },
         "type": "linear"
        },
        "yaxis": {
         "anchor": "x",
         "autorange": true,
         "color": "grey",
         "domain": [
          0,
          1
         ],
         "range": [
          7.5,
          -0.5
         ],
         "tickfont": {
          "size": 14
         },
         "title": {
          "text": "Top 10 most listened podcasts"
         },
         "type": "category",
         "zeroline": false
        }
       }
      },
      "image/png": "[encoded data removed]"
     },
     "metadata": {},
     "output_type": "display_data"
    }
   ],
   "source": [
    "fig = px.bar(top_podcasts_by_hrs, y='podcastName', x='hPlayed', facet_col_spacing=0.1,\n",
    "                color_discrete_sequence=spotify_colors)\n",
    "\n",
    "fig.update_yaxes(autorange='reversed', zeroline=False, tickfont_size=14)\n",
    "fig.update_xaxes(rangemode='tozero', range=[-4, 70], tickfont_size=14)\n",
    "\n",
    "\n",
    "fig.update_layout(\n",
    "    title='<b>Spotify:</b><i> What were my top podcasts of the year?</i>',\n",
    "    xaxis_title='Hours Listened',\n",
    "    yaxis_title='Top 10 most listened podcasts',\n",
    "    height=500,\n",
    "    width=1000\n",
    ")\n",
    "\n",
    "# adjusting the size of images\n",
    "multiplier = 5\n",
    "\n",
    "for i, row in top_podcasts_by_hrs.iterrows():\n",
    "    fig.update_traces(marker_color=\"rgba(0,0,0,0)\")\n",
    "    image = row['imageUrl']\n",
    "    fig.add_layout_image(\n",
    "        dict(\n",
    "            source=f'{image}',\n",
    "            xref=\"x\",\n",
    "            yref=\"y\",\n",
    "            xanchor=\"center\",\n",
    "            yanchor=\"middle\",\n",
    "            x=row[\"hPlayed\"],\n",
    "            y=i,\n",
    "            sizex=multiplier, \n",
    "            sizey=multiplier, \n",
    "            sizing=\"contain\",\n",
    "            opacity=1,\n",
    "            layer=\"above\"\n",
    "        )\n",
    "    )\n",
    "\n",
    "write(fig, 'top_podcasts')"
   ]
  },
  {
   "cell_type": "markdown",
   "id": "8abb9c2d-9bde-4259-9717-4ed492f3483d",
   "metadata": {},
   "source": [
    "<span style=\"font-family:Helvetica Light\">\n",
    "    \n",
    "### 2.3. Top Tracks and Artists\n",
    "\n",
    "</span>"
   ]
  },
  {
   "cell_type": "code",
   "execution_count": 38,
   "id": "dd7dc433-9cc2-4c9f-b398-023a7e0e039c",
   "metadata": {},
   "outputs": [
    {
     "name": "stdout",
     "output_type": "stream",
     "text": [
      "(4940, 30)\n"
     ]
    }
   ],
   "source": [
    "df = pd.merge(df, track_details, on=['artistName', 'trackName'], how='left')\n",
    "print(df.shape)"
   ]
  },
  {
   "cell_type": "code",
   "execution_count": 41,
   "id": "17498e25-d6fb-4b45-ad88-c29c4982a857",
   "metadata": {},
   "outputs": [],
   "source": [
    "# group by month, trackName, and artistName for track data\n",
    "df_track = df.groupby(['month', 'trackName', 'artistName'], as_index=False).agg({'hPlayed': 'sum', 'trackId': 'count'})\n",
    "df_track['category'] = 'Top Track'\n",
    "\n",
    "# group by month and artistName for artist data\n",
    "df_artist = df.groupby(['month', 'artistName'], as_index=False).agg({'hPlayed': 'sum', 'trackId': 'count'})\n",
    "df_artist['trackName'] = ''\n",
    "df_artist['category'] = 'Top Artist'\n",
    "\n",
    "df_top = pd.concat([df_track, df_artist]).reset_index(drop=True)\n",
    "\n",
    "# rank within each category and month\n",
    "df_top['rank'] = df_top.groupby(['category', 'month'])['trackId'].rank(ascending=False, method='first')\n",
    "\n",
    "# calculate total songs per category and month\n",
    "df_top['total_songs'] = df_top.groupby(['category', 'month'])['trackId'].transform('sum')\n",
    "\n",
    "# create 'info' column\n",
    "# - for 'Top Track' category: combines track name and artist name (e.g., \"Le jardin - La Femme\")\n",
    "# - for 'Top Artist' category: contains only the artist name (e.g., \"Mac Miller\")\n",
    "df_top['info'] = df_top.apply(lambda x: f\"{x['trackName']} - {x['artistName']}\" if 'Track' in x['category'] else x['artistName'], axis=1)\n",
    "\n",
    "# adjust 'trackId' for 'Top Artist' category to represent percentage\n",
    "df_top.loc[df_top['category'] == 'Top Artist', 'trackId'] = 100 * df_top['trackId'] / df_top['total_songs']"
   ]
  },
  {
   "cell_type": "code",
   "execution_count": 42,
   "id": "9a441d7d-0e74-4ea1-95e5-5a4c0bc0bd75",
   "metadata": {},
   "outputs": [],
   "source": [
    "df_top = df_top.loc[df_top['rank'] == 1]"
   ]
  },
  {
   "cell_type": "code",
   "execution_count": 45,
   "id": "b7b222e7-81f5-4e72-9b24-9989f51596b2",
   "metadata": {},
   "outputs": [
    {
     "data": {
      "image/svg+xml": [
       "<svg class=\"main-svg\" xmlns=\"http://www.w3.org/2000/svg\" xmlns:xlink=\"http://www.w3.org/1999/xlink\" width=\"1000\" height=\"450\" style=\"\" viewBox=\"0 0 1000 450\"><rect x=\"0\" y=\"0\" width=\"1000\" height=\"450\" style=\"fill: rgb(255, 255, 255); fill-opacity: 1;\"/><defs id=\"defs-4d1657\"><g class=\"clips\"><clipPath id=\"clip4d1657xyplot\" class=\"plotclip\"><rect width=\"378\" height=\"310\"/></clipPath><clipPath id=\"clip4d1657x2y2plot\" class=\"plotclip\"><rect width=\"377.99999999999994\" height=\"310\"/></clipPath><clipPath class=\"axesclip\" id=\"clip4d1657x\"><rect x=\"80\" y=\"0\" width=\"378\" height=\"450\"/></clipPath><clipPath class=\"axesclip\" id=\"clip4d1657y\"><rect x=\"0\" y=\"60\" width=\"1000\" height=\"310\"/></clipPath><clipPath class=\"axesclip\" id=\"clip4d1657xy\"><rect x=\"80\" y=\"60\" width=\"378\" height=\"310\"/></clipPath><clipPath class=\"axesclip\" id=\"clip4d1657y2\"><rect x=\"0\" y=\"60\" width=\"1000\" height=\"310\"/></clipPath><clipPath class=\"axesclip\" id=\"clip4d1657xy2\"><rect x=\"80\" y=\"60\" width=\"378\" height=\"310\"/></clipPath><clipPath class=\"axesclip\" id=\"clip4d1657x2\"><rect x=\"542\" y=\"0\" width=\"377.99999999999994\" height=\"450\"/></clipPath><clipPath class=\"axesclip\" id=\"clip4d1657x2y\"><rect x=\"542\" y=\"60\" width=\"377.99999999999994\" height=\"310\"/></clipPath><clipPath class=\"axesclip\" id=\"clip4d1657x2y2\"><rect x=\"542\" y=\"60\" width=\"377.99999999999994\" height=\"310\"/></clipPath></g><g class=\"gradients\"/><g class=\"patterns\"/></defs><g class=\"bglayer\"/><g class=\"layer-below\"><g class=\"imagelayer\"/><g class=\"shapelayer\"/></g><g class=\"cartesianlayer\"><g class=\"subplot xy\"><g class=\"layer-subplot\"><g class=\"shapelayer\"/><g class=\"imagelayer\"/></g><g class=\"minor-gridlayer\"><g class=\"x\"/><g class=\"y\"/></g><g class=\"gridlayer\"><g class=\"x\"><path class=\"xgrid crisp\" transform=\"translate(174.5,0)\" d=\"M0,60v310\" style=\"stroke: rgb(235, 240, 248); stroke-opacity: 1; stroke-width: 1px;\"/><path class=\"xgrid crisp\" transform=\"translate(269,0)\" d=\"M0,60v310\" style=\"stroke: rgb(235, 240, 248); stroke-opacity: 1; stroke-width: 1px;\"/><path class=\"xgrid crisp\" transform=\"translate(363.5,0)\" d=\"M0,60v310\" style=\"stroke: rgb(235, 240, 248); stroke-opacity: 1; stroke-width: 1px;\"/></g><g class=\"y\"/></g><g class=\"zerolinelayer\"><path class=\"xzl zl crisp\" transform=\"translate(80,0)\" d=\"M0,60v310\" style=\"stroke: rgb(235, 240, 248); stroke-opacity: 1; stroke-width: 2px;\"/></g><path class=\"xlines-below\"/><path class=\"ylines-below\"/><g class=\"overlines-below\"/><g class=\"xaxislayer-below\"/><g class=\"yaxislayer-below\"/><g class=\"overaxes-below\"/><g class=\"plot\" transform=\"translate(80,60)\" clip-path=\"url(#clip4d1657xyplot)\"><g class=\"barlayer mlayer\"><g class=\"trace bars\" style=\"opacity: 1;\"><g class=\"points\"><g class=\"point\"><path d=\"M0,307.72V289.52H37.8V307.72Z\" style=\"vector-effect: non-scaling-stroke; opacity: 1; stroke-width: 0.5px; fill: rgb(29, 185, 84); fill-opacity: 1; stroke: rgb(255, 255, 255); stroke-opacity: 1;\"/><text class=\"bartext bartext-outside\" text-anchor=\"middle\" data-notex=\"1\" x=\"0\" y=\"0\" style=\"font-family: Helvetica; font-size: 10px; fill: rgb(42, 63, 95); fill-opacity: 1; white-space: pre;\" transform=\"translate(95.83125,301.87)\">Brazil - Declan McKenna</text></g><g class=\"point\"><path d=\"M0,283.39V265.19H113.4V283.39Z\" style=\"vector-effect: non-scaling-stroke; opacity: 1; stroke-width: 0.5px; fill: rgb(29, 185, 84); fill-opacity: 1; stroke: rgb(255, 255, 255); stroke-opacity: 1;\"/><text class=\"bartext bartext-outside\" text-anchor=\"middle\" data-notex=\"1\" x=\"0\" y=\"0\" style=\"font-family: Helvetica; font-size: 10px; fill: rgb(42, 63, 95); fill-opacity: 1; white-space: pre;\" transform=\"translate(190.540625,277.53999999999996)\">When I'm in Your Arms - Cleo Sol</text></g><g class=\"point\"><path d=\"M0,259.85V241.64H66.15V259.85Z\" style=\"vector-effect: non-scaling-stroke; opacity: 1; stroke-width: 0.5px; fill: rgb(29, 185, 84); fill-opacity: 1; stroke: rgb(255, 255, 255); stroke-opacity: 1;\"/><text class=\"bartext bartext-outside\" text-anchor=\"middle\" data-notex=\"1\" x=\"0\" y=\"0\" style=\"font-family: Helvetica; font-size: 10px; fill: rgb(42, 63, 95); fill-opacity: 1; white-space: pre;\" transform=\"translate(114.728125,253.995)\">Mecca - Wild Beasts</text></g><g class=\"point\"><path d=\"M0,235.52V217.31H28.35V235.52Z\" style=\"vector-effect: non-scaling-stroke; opacity: 1; stroke-width: 0.5px; fill: rgb(29, 185, 84); fill-opacity: 1; stroke: rgb(255, 255, 255); stroke-opacity: 1;\"/><text class=\"bartext bartext-outside\" text-anchor=\"middle\" data-notex=\"1\" x=\"0\" y=\"0\" style=\"font-family: Helvetica; font-size: 10px; fill: rgb(42, 63, 95); fill-opacity: 1; white-space: pre;\" transform=\"translate(132.13125,229.66500000000002)\">OH! TENGO SUERTE - Masayoshi Takanaka</text></g><g class=\"point\"><path d=\"M0,211.19V192.98H75.6V211.19Z\" style=\"vector-effect: non-scaling-stroke; opacity: 1; stroke-width: 0.5px; fill: rgb(29, 185, 84); fill-opacity: 1; stroke: rgb(255, 255, 255); stroke-opacity: 1;\"/><text class=\"bartext bartext-outside\" text-anchor=\"middle\" data-notex=\"1\" x=\"0\" y=\"0\" style=\"font-family: Helvetica; font-size: 10px; fill: rgb(42, 63, 95); fill-opacity: 1; white-space: pre;\" transform=\"translate(126.13125,205.33499999999998)\">Le jardin - La Femme</text></g><g class=\"point\"><path d=\"M0,187.65V169.44H75.6V187.65Z\" style=\"vector-effect: non-scaling-stroke; opacity: 1; stroke-width: 0.5px; fill: rgb(29, 185, 84); fill-opacity: 1; stroke: rgb(255, 255, 255); stroke-opacity: 1;\"/><text class=\"bartext bartext-outside\" text-anchor=\"middle\" data-notex=\"1\" x=\"0\" y=\"0\" style=\"font-family: Helvetica; font-size: 10px; fill: rgb(42, 63, 95); fill-opacity: 1; white-space: pre;\" transform=\"translate(190.88125,181.79500000000002)\">Every Time the Sun Comes Up - Sharon Van Etten</text></g><g class=\"point\"><path d=\"M0,163.32V145.11H56.7V163.32Z\" style=\"vector-effect: non-scaling-stroke; opacity: 1; stroke-width: 0.5px; fill: rgb(29, 185, 84); fill-opacity: 1; stroke: rgb(255, 255, 255); stroke-opacity: 1;\"/><text class=\"bartext bartext-outside\" text-anchor=\"middle\" data-notex=\"1\" x=\"0\" y=\"0\" style=\"font-family: Helvetica; font-size: 10px; fill: rgb(42, 63, 95); fill-opacity: 1; white-space: pre;\" transform=\"translate(89.16875,157.465)\">Change - Djo</text></g><g class=\"point\"><path d=\"M0,139.77V121.57H103.95V139.77Z\" style=\"vector-effect: non-scaling-stroke; opacity: 1; stroke-width: 0.5px; fill: rgb(29, 185, 84); fill-opacity: 1; stroke: rgb(255, 255, 255); stroke-opacity: 1;\"/><text class=\"bartext bartext-outside\" text-anchor=\"middle\" data-notex=\"1\" x=\"0\" y=\"0\" style=\"font-family: Helvetica; font-size: 10px; fill: rgb(42, 63, 95); fill-opacity: 1; white-space: pre;\" transform=\"translate(155.028125,133.92000000000002)\">labour - Paris Paloma</text></g><g class=\"point\"><path d=\"M0,115.45V97.24H75.6V115.45Z\" style=\"vector-effect: non-scaling-stroke; opacity: 1; stroke-width: 0.5px; fill: rgb(29, 185, 84); fill-opacity: 1; stroke: rgb(255, 255, 255); stroke-opacity: 1;\"/><text class=\"bartext bartext-outside\" text-anchor=\"middle\" data-notex=\"1\" x=\"0\" y=\"0\" style=\"font-family: Helvetica; font-size: 10px; fill: rgb(42, 63, 95); fill-opacity: 1; white-space: pre;\" transform=\"translate(126.678125,109.595)\">labour - Paris Paloma</text></g><g class=\"point\"><path d=\"M0,91.12V72.91H66.15V91.12Z\" style=\"vector-effect: non-scaling-stroke; opacity: 1; stroke-width: 0.5px; fill: rgb(29, 185, 84); fill-opacity: 1; stroke: rgb(255, 255, 255); stroke-opacity: 1;\"/><text class=\"bartext bartext-outside\" text-anchor=\"middle\" data-notex=\"1\" x=\"0\" y=\"0\" style=\"font-family: Helvetica; font-size: 10px; fill: rgb(42, 63, 95); fill-opacity: 1; white-space: pre;\" transform=\"translate(117.790625,85.265)\">flight fm - Joy Orbison</text></g><g class=\"point\"><path d=\"M0,68.36V50.15H66.15V68.36Z\" style=\"vector-effect: non-scaling-stroke; opacity: 1; stroke-width: 0.5px; fill: rgb(29, 185, 84); fill-opacity: 1; stroke: rgb(255, 255, 255); stroke-opacity: 1;\"/><text class=\"bartext bartext-outside\" text-anchor=\"middle\" data-notex=\"1\" x=\"0\" y=\"0\" style=\"font-family: Helvetica; font-size: 10px; fill: rgb(42, 63, 95); fill-opacity: 1; white-space: pre;\" transform=\"translate(136.415625,62.504999999999995)\">Baby - Donnie &amp; Joe Emerson</text></g><g class=\"point\"><path d=\"M0,44.03V25.82H56.7V44.03Z\" style=\"vector-effect: non-scaling-stroke; opacity: 1; stroke-width: 0.5px; fill: rgb(29, 185, 84); fill-opacity: 1; stroke: rgb(255, 255, 255); stroke-opacity: 1;\"/><text class=\"bartext bartext-outside\" text-anchor=\"middle\" data-notex=\"1\" x=\"0\" y=\"0\" style=\"font-family: Helvetica; font-size: 10px; fill: rgb(42, 63, 95); fill-opacity: 1; white-space: pre;\" transform=\"translate(116.7625,38.175)\">Moves - Suki Waterhouse</text></g><g class=\"point\"><path d=\"M0,20.48V2.28H56.7V20.48Z\" style=\"vector-effect: non-scaling-stroke; opacity: 1; stroke-width: 0.5px; fill: rgb(29, 185, 84); fill-opacity: 1; stroke: rgb(255, 255, 255); stroke-opacity: 1;\"/><text class=\"bartext bartext-outside\" text-anchor=\"middle\" data-notex=\"1\" x=\"0\" y=\"0\" style=\"font-family: Helvetica; font-size: 10px; fill: rgb(42, 63, 95); fill-opacity: 1; white-space: pre;\" transform=\"translate(167.45,14.63)\">Tell Me If You Wanna Go Home - Keira Knightley</text></g></g></g></g></g><g class=\"overplot\"/><path class=\"xlines-above crisp\" d=\"M0,0\" style=\"fill: none;\"/><path class=\"ylines-above crisp\" d=\"M0,0\" style=\"fill: none;\"/><g class=\"overlines-above\"/><g class=\"xaxislayer-above\"><g class=\"xtick\"><text text-anchor=\"middle\" x=\"0\" y=\"383\" transform=\"translate(80,0)\" style=\"font-family: Helvetica; font-size: 12px; fill: rgb(128, 128, 128); fill-opacity: 1; white-space: pre; opacity: 1;\">0</text></g><g class=\"xtick\"><text text-anchor=\"middle\" x=\"0\" y=\"383\" style=\"font-family: Helvetica; font-size: 12px; fill: rgb(128, 128, 128); fill-opacity: 1; white-space: pre; opacity: 1;\" transform=\"translate(174.5,0)\">10</text></g><g class=\"xtick\"><text text-anchor=\"middle\" x=\"0\" y=\"383\" style=\"font-family: Helvetica; font-size: 12px; fill: rgb(128, 128, 128); fill-opacity: 1; white-space: pre; opacity: 1;\" transform=\"translate(269,0)\">20</text></g><g class=\"xtick\"><text text-anchor=\"middle\" x=\"0\" y=\"383\" style=\"font-family: Helvetica; font-size: 12px; fill: rgb(128, 128, 128); fill-opacity: 1; white-space: pre; opacity: 1;\" transform=\"translate(363.5,0)\">30</text></g><g class=\"xtick\"><text text-anchor=\"middle\" x=\"0\" y=\"383\" style=\"font-family: Helvetica; font-size: 12px; fill: rgb(128, 128, 128); fill-opacity: 1; white-space: pre; opacity: 1;\" transform=\"translate(458,0)\">40</text></g></g><g class=\"yaxislayer-above\"><g class=\"ytick\"><text text-anchor=\"end\" x=\"79\" y=\"4.199999999999999\" transform=\"translate(0,358.62)\" style=\"font-family: Helvetica; font-size: 12px; fill: rgb(128, 128, 128); fill-opacity: 1; white-space: pre; opacity: 1;\">May/23</text></g><g class=\"ytick\"><text text-anchor=\"end\" x=\"79\" y=\"4.199999999999999\" style=\"font-family: Helvetica; font-size: 12px; fill: rgb(128, 128, 128); fill-opacity: 1; white-space: pre; opacity: 1;\" transform=\"translate(0,334.29)\">Jun/23</text></g><g class=\"ytick\"><text text-anchor=\"end\" x=\"79\" y=\"4.199999999999999\" style=\"font-family: Helvetica; font-size: 12px; fill: rgb(128, 128, 128); fill-opacity: 1; white-space: pre; opacity: 1;\" transform=\"translate(0,310.75)\">Jul/23</text></g><g class=\"ytick\"><text text-anchor=\"end\" x=\"79\" y=\"4.199999999999999\" style=\"font-family: Helvetica; font-size: 12px; fill: rgb(128, 128, 128); fill-opacity: 1; white-space: pre; opacity: 1;\" transform=\"translate(0,286.41999999999996)\">Aug/23</text></g><g class=\"ytick\"><text text-anchor=\"end\" x=\"79\" y=\"4.199999999999999\" style=\"font-family: Helvetica; font-size: 12px; fill: rgb(128, 128, 128); fill-opacity: 1; white-space: pre; opacity: 1;\" transform=\"translate(0,262.09000000000003)\">Sep/23</text></g><g class=\"ytick\"><text text-anchor=\"end\" x=\"79\" y=\"4.199999999999999\" style=\"font-family: Helvetica; font-size: 12px; fill: rgb(128, 128, 128); fill-opacity: 1; white-space: pre; opacity: 1;\" transform=\"translate(0,238.54)\">Oct/23</text></g><g class=\"ytick\"><text text-anchor=\"end\" x=\"79\" y=\"4.199999999999999\" style=\"font-family: Helvetica; font-size: 12px; fill: rgb(128, 128, 128); fill-opacity: 1; white-space: pre; opacity: 1;\" transform=\"translate(0,214.22)\">Nov/23</text></g><g class=\"ytick\"><text text-anchor=\"end\" x=\"79\" y=\"4.199999999999999\" style=\"font-family: Helvetica; font-size: 12px; fill: rgb(128, 128, 128); fill-opacity: 1; white-space: pre; opacity: 1;\" transform=\"translate(0,190.67)\">Dec/23</text></g><g class=\"ytick\"><text text-anchor=\"end\" x=\"79\" y=\"4.199999999999999\" style=\"font-family: Helvetica; font-size: 12px; fill: rgb(128, 128, 128); fill-opacity: 1; white-space: pre; opacity: 1;\" transform=\"translate(0,166.34)\">Jan/24</text></g><g class=\"ytick\"><text text-anchor=\"end\" x=\"79\" y=\"4.199999999999999\" style=\"font-family: Helvetica; font-size: 12px; fill: rgb(128, 128, 128); fill-opacity: 1; white-space: pre; opacity: 1;\" transform=\"translate(0,142.01)\">Feb/24</text></g><g class=\"ytick\"><text text-anchor=\"end\" x=\"79\" y=\"4.199999999999999\" style=\"font-family: Helvetica; font-size: 12px; fill: rgb(128, 128, 128); fill-opacity: 1; white-space: pre; opacity: 1;\" transform=\"translate(0,119.25)\">Mar/24</text></g><g class=\"ytick\"><text text-anchor=\"end\" x=\"79\" y=\"4.199999999999999\" style=\"font-family: Helvetica; font-size: 12px; fill: rgb(128, 128, 128); fill-opacity: 1; white-space: pre; opacity: 1;\" transform=\"translate(0,94.92)\">Apr/24</text></g><g class=\"ytick\"><text text-anchor=\"end\" x=\"79\" y=\"4.199999999999999\" style=\"font-family: Helvetica; font-size: 12px; fill: rgb(128, 128, 128); fill-opacity: 1; white-space: pre; opacity: 1;\" transform=\"translate(0,71.38)\">May/24</text></g></g><g class=\"overaxes-above\"/></g><g class=\"subplot x2y2\"><g class=\"layer-subplot\"><g class=\"shapelayer\"/><g class=\"imagelayer\"/></g><g class=\"minor-gridlayer\"><g class=\"x2\"/><g class=\"y2\"/></g><g class=\"gridlayer\"><g class=\"x2\"><path class=\"x2grid crisp\" transform=\"translate(605,0)\" d=\"M0,60v310\" style=\"stroke: rgb(235, 240, 248); stroke-opacity: 1; stroke-width: 1px;\"/><path class=\"x2grid crisp\" transform=\"translate(668,0)\" d=\"M0,60v310\" style=\"stroke: rgb(235, 240, 248); stroke-opacity: 1; stroke-width: 1px;\"/><path class=\"x2grid crisp\" transform=\"translate(731,0)\" d=\"M0,60v310\" style=\"stroke: rgb(235, 240, 248); stroke-opacity: 1; stroke-width: 1px;\"/><path class=\"x2grid crisp\" transform=\"translate(794,0)\" d=\"M0,60v310\" style=\"stroke: rgb(235, 240, 248); stroke-opacity: 1; stroke-width: 1px;\"/><path class=\"x2grid crisp\" transform=\"translate(857,0)\" d=\"M0,60v310\" style=\"stroke: rgb(235, 240, 248); stroke-opacity: 1; stroke-width: 1px;\"/></g><g class=\"y2\"/></g><g class=\"zerolinelayer\"><path class=\"x2zl zl crisp\" transform=\"translate(542,0)\" d=\"M0,60v310\" style=\"stroke: rgb(235, 240, 248); stroke-opacity: 1; stroke-width: 2px;\"/></g><path class=\"xlines-below\"/><path class=\"ylines-below\"/><g class=\"overlines-below\"/><g class=\"xaxislayer-below\"/><g class=\"yaxislayer-below\"/><g class=\"overaxes-below\"/><g class=\"plot\" transform=\"translate(542,60)\" clip-path=\"url(#clip4d1657x2y2plot)\"><g class=\"barlayer mlayer\"><g class=\"trace bars\" style=\"opacity: 1;\"><g class=\"points\"><g class=\"point\"><path d=\"M0,307.72V289.52H285.07V307.72Z\" style=\"vector-effect: non-scaling-stroke; opacity: 1; stroke-width: 0.5px; fill: rgb(29, 185, 84); fill-opacity: 1; stroke: rgb(255, 255, 255); stroke-opacity: 1;\"/><text class=\"bartext bartext-outside\" text-anchor=\"middle\" data-notex=\"1\" x=\"0\" y=\"0\" style=\"font-family: Helvetica; font-size: 10px; fill: rgb(42, 63, 95); fill-opacity: 1; white-space: pre;\" transform=\"translate(320.210625,301.948125)\">KAYTRAMINÉ</text></g><g class=\"point\"><path d=\"M0,283.39V265.19H65.97V283.39Z\" style=\"vector-effect: non-scaling-stroke; opacity: 1; stroke-width: 0.5px; fill: rgb(29, 185, 84); fill-opacity: 1; stroke: rgb(255, 255, 255); stroke-opacity: 1;\"/><text class=\"bartext bartext-outside\" text-anchor=\"middle\" data-notex=\"1\" x=\"0\" y=\"0\" style=\"font-family: Helvetica; font-size: 10px; fill: rgb(42, 63, 95); fill-opacity: 1; white-space: pre;\" transform=\"translate(87.87625,277.53999999999996)\">Cleo Sol</text></g><g class=\"point\"><path d=\"M0,259.85V241.64H231.19V259.85Z\" style=\"vector-effect: non-scaling-stroke; opacity: 1; stroke-width: 0.5px; fill: rgb(29, 185, 84); fill-opacity: 1; stroke: rgb(255, 255, 255); stroke-opacity: 1;\"/><text class=\"bartext bartext-outside\" text-anchor=\"middle\" data-notex=\"1\" x=\"0\" y=\"0\" style=\"font-family: Helvetica; font-size: 10px; fill: rgb(42, 63, 95); fill-opacity: 1; white-space: pre;\" transform=\"translate(256.97125,253.995)\">Mac Miller</text></g><g class=\"point\"><path d=\"M0,235.52V217.31H251.09V235.52Z\" style=\"vector-effect: non-scaling-stroke; opacity: 1; stroke-width: 0.5px; fill: rgb(29, 185, 84); fill-opacity: 1; stroke: rgb(255, 255, 255); stroke-opacity: 1;\"/><text class=\"bartext bartext-outside\" text-anchor=\"middle\" data-notex=\"1\" x=\"0\" y=\"0\" style=\"font-family: Helvetica; font-size: 10px; fill: rgb(42, 63, 95); fill-opacity: 1; white-space: pre;\" transform=\"translate(300.79312500000003,229.66500000000002)\">Masayoshi Takanaka</text></g><g class=\"point\"><path d=\"M0,211.19V192.98H165.79V211.19Z\" style=\"vector-effect: non-scaling-stroke; opacity: 1; stroke-width: 0.5px; fill: rgb(29, 185, 84); fill-opacity: 1; stroke: rgb(255, 255, 255); stroke-opacity: 1;\"/><text class=\"bartext bartext-outside\" text-anchor=\"middle\" data-notex=\"1\" x=\"0\" y=\"0\" style=\"font-family: Helvetica; font-size: 10px; fill: rgb(42, 63, 95); fill-opacity: 1; white-space: pre;\" transform=\"translate(199.649375,205.33499999999998)\">Blood Orange</text></g><g class=\"point\"><path d=\"M0,187.65V169.44H160.03V187.65Z\" style=\"vector-effect: non-scaling-stroke; opacity: 1; stroke-width: 0.5px; fill: rgb(29, 185, 84); fill-opacity: 1; stroke: rgb(255, 255, 255); stroke-opacity: 1;\"/><text class=\"bartext bartext-outside\" text-anchor=\"middle\" data-notex=\"1\" x=\"0\" y=\"0\" style=\"font-family: Helvetica; font-size: 10px; fill: rgb(42, 63, 95); fill-opacity: 1; white-space: pre;\" transform=\"translate(202.78,181.79500000000002)\">Father John Misty</text></g><g class=\"point\"><path d=\"M0,163.32V145.11H126V163.32Z\" style=\"vector-effect: non-scaling-stroke; opacity: 1; stroke-width: 0.5px; fill: rgb(29, 185, 84); fill-opacity: 1; stroke: rgb(255, 255, 255); stroke-opacity: 1;\"/><text class=\"bartext bartext-outside\" text-anchor=\"middle\" data-notex=\"1\" x=\"0\" y=\"0\" style=\"font-family: Helvetica; font-size: 10px; fill: rgb(42, 63, 95); fill-opacity: 1; white-space: pre;\" transform=\"translate(143.734375,157.465)\">Loving</text></g><g class=\"point\"><path d=\"M0,139.77V121.57H95.07V139.77Z\" style=\"vector-effect: non-scaling-stroke; opacity: 1; stroke-width: 0.5px; fill: rgb(29, 185, 84); fill-opacity: 1; stroke: rgb(255, 255, 255); stroke-opacity: 1;\"/><text class=\"bartext bartext-outside\" text-anchor=\"middle\" data-notex=\"1\" x=\"0\" y=\"0\" style=\"font-family: Helvetica; font-size: 10px; fill: rgb(42, 63, 95); fill-opacity: 1; white-space: pre;\" transform=\"translate(121.97625,133.92000000000002)\">La Femme</text></g><g class=\"point\"><path d=\"M0,115.45V97.24H85.37V115.45Z\" style=\"vector-effect: non-scaling-stroke; opacity: 1; stroke-width: 0.5px; fill: rgb(29, 185, 84); fill-opacity: 1; stroke: rgb(255, 255, 255); stroke-opacity: 1;\"/><text class=\"bartext bartext-outside\" text-anchor=\"middle\" data-notex=\"1\" x=\"0\" y=\"0\" style=\"font-family: Helvetica; font-size: 10px; fill: rgb(42, 63, 95); fill-opacity: 1; white-space: pre;\" transform=\"translate(95.885625,109.595)\">Djo</text></g><g class=\"point\"><path d=\"M0,91.12V72.91H82.65V91.12Z\" style=\"vector-effect: non-scaling-stroke; opacity: 1; stroke-width: 0.5px; fill: rgb(29, 185, 84); fill-opacity: 1; stroke: rgb(255, 255, 255); stroke-opacity: 1;\"/><text class=\"bartext bartext-outside\" text-anchor=\"middle\" data-notex=\"1\" x=\"0\" y=\"0\" style=\"font-family: Helvetica; font-size: 10px; fill: rgb(42, 63, 95); fill-opacity: 1; white-space: pre;\" transform=\"translate(91.775,85.265)\">Air</text></g><g class=\"point\"><path d=\"M0,68.36V50.15H63.81V68.36Z\" style=\"vector-effect: non-scaling-stroke; opacity: 1; stroke-width: 0.5px; fill: rgb(29, 185, 84); fill-opacity: 1; stroke: rgb(255, 255, 255); stroke-opacity: 1;\"/><text class=\"bartext bartext-outside\" text-anchor=\"middle\" data-notex=\"1\" x=\"0\" y=\"0\" style=\"font-family: Helvetica; font-size: 10px; fill: rgb(42, 63, 95); fill-opacity: 1; white-space: pre;\" transform=\"translate(74.325625,62.504999999999995)\">Djo</text></g><g class=\"point\"><path d=\"M0,44.03V25.82H167.34V44.03Z\" style=\"vector-effect: non-scaling-stroke; opacity: 1; stroke-width: 0.5px; fill: rgb(29, 185, 84); fill-opacity: 1; stroke: rgb(255, 255, 255); stroke-opacity: 1;\"/><text class=\"bartext bartext-outside\" text-anchor=\"middle\" data-notex=\"1\" x=\"0\" y=\"0\" style=\"font-family: Helvetica; font-size: 10px; fill: rgb(42, 63, 95); fill-opacity: 1; white-space: pre;\" transform=\"translate(195.918125,38.175)\">Khruangbin</text></g><g class=\"point\"><path d=\"M0,20.48V2.28H57.98V20.48Z\" style=\"vector-effect: non-scaling-stroke; opacity: 1; stroke-width: 0.5px; fill: rgb(29, 185, 84); fill-opacity: 1; stroke: rgb(255, 255, 255); stroke-opacity: 1;\"/><text class=\"bartext bartext-outside\" text-anchor=\"middle\" data-notex=\"1\" x=\"0\" y=\"0\" style=\"font-family: Helvetica; font-size: 10px; fill: rgb(42, 63, 95); fill-opacity: 1; white-space: pre;\" transform=\"translate(88.21437499999999,14.63)\">Andrew Bird</text></g></g></g></g></g><g class=\"overplot\"/><path class=\"xlines-above crisp\" d=\"M0,0\" style=\"fill: none;\"/><path class=\"ylines-above crisp\" d=\"M0,0\" style=\"fill: none;\"/><g class=\"overlines-above\"/><g class=\"xaxislayer-above\"><g class=\"x2tick\"><text text-anchor=\"middle\" x=\"0\" y=\"383\" transform=\"translate(542,0)\" style=\"font-family: Helvetica; font-size: 12px; fill: rgb(128, 128, 128); fill-opacity: 1; white-space: pre; opacity: 1;\">0%</text></g><g class=\"x2tick\"><text text-anchor=\"middle\" x=\"0\" y=\"383\" style=\"font-family: Helvetica; font-size: 12px; fill: rgb(128, 128, 128); fill-opacity: 1; white-space: pre; opacity: 1;\" transform=\"translate(605,0)\">2%</text></g><g class=\"x2tick\"><text text-anchor=\"middle\" x=\"0\" y=\"383\" style=\"font-family: Helvetica; font-size: 12px; fill: rgb(128, 128, 128); fill-opacity: 1; white-space: pre; opacity: 1;\" transform=\"translate(668,0)\">4%</text></g><g class=\"x2tick\"><text text-anchor=\"middle\" x=\"0\" y=\"383\" style=\"font-family: Helvetica; font-size: 12px; fill: rgb(128, 128, 128); fill-opacity: 1; white-space: pre; opacity: 1;\" transform=\"translate(731,0)\">6%</text></g><g class=\"x2tick\"><text text-anchor=\"middle\" x=\"0\" y=\"383\" style=\"font-family: Helvetica; font-size: 12px; fill: rgb(128, 128, 128); fill-opacity: 1; white-space: pre; opacity: 1;\" transform=\"translate(794,0)\">8%</text></g><g class=\"x2tick\"><text text-anchor=\"middle\" x=\"0\" y=\"383\" style=\"font-family: Helvetica; font-size: 12px; fill: rgb(128, 128, 128); fill-opacity: 1; white-space: pre; opacity: 1;\" transform=\"translate(857,0)\">10%</text></g><g class=\"x2tick\"><text text-anchor=\"middle\" x=\"0\" y=\"383\" style=\"font-family: Helvetica; font-size: 12px; fill: rgb(128, 128, 128); fill-opacity: 1; white-space: pre; opacity: 1;\" transform=\"translate(920,0)\">12%</text></g></g><g class=\"yaxislayer-above\"/><g class=\"overaxes-above\"/></g></g><g class=\"polarlayer\"/><g class=\"smithlayer\"/><g class=\"ternarylayer\"/><g class=\"geolayer\"/><g class=\"funnelarealayer\"/><g class=\"pielayer\"/><g class=\"iciclelayer\"/><g class=\"treemaplayer\"/><g class=\"sunburstlayer\"/><g class=\"glimages\"/><defs id=\"topdefs-4d1657\"><g class=\"clips\"/></defs><g class=\"layer-above\"><g class=\"imagelayer\"/><g class=\"shapelayer\"/></g><g class=\"infolayer\"><g class=\"g-gtitle\"><text class=\"gtitle\" x=\"50\" y=\"30\" text-anchor=\"start\" dy=\"0em\" style=\"font-family: Helvetica; font-size: 17px; fill: rgb(42, 63, 95); opacity: 1; font-weight: normal; white-space: pre;\"><tspan style=\"font-weight:bold\">Spotify:</tspan><tspan style=\"font-style:italic\"> What was the top song and artist of each month?</tspan></text></g><g class=\"g-xtitle\"><text class=\"xtitle\" x=\"269\" y=\"410.8\" text-anchor=\"middle\" style=\"font-family: Helvetica; font-size: 14px; fill: rgb(128, 128, 128); opacity: 1; font-weight: normal; white-space: pre;\"># Streams per month</text></g><g class=\"g-x2title\"><text class=\"x2title\" x=\"731\" y=\"410.8\" text-anchor=\"middle\" style=\"font-family: Helvetica; font-size: 14px; fill: rgb(128, 128, 128); opacity: 1; font-weight: normal; white-space: pre;\">% Streams per month</text></g><g class=\"g-ytitle\"><text class=\"ytitle\" transform=\"rotate(-90,14.840625000000003,215)\" x=\"14.840625000000003\" y=\"215\" text-anchor=\"middle\" style=\"font-family: Helvetica; font-size: 14px; fill: rgb(128, 128, 128); opacity: 1; font-weight: normal; white-space: pre;\">Month</text></g><g class=\"g-y2title\"/><g class=\"annotation\" data-index=\"0\" style=\"opacity: 1;\"><g class=\"annotation-text-g\" transform=\"rotate(0,269,50)\"><g class=\"cursor-pointer\" transform=\"translate(237,40)\"><rect class=\"bg\" x=\"0.5\" y=\"0.5\" width=\"64\" height=\"19\" style=\"stroke-width: 1px; stroke: rgb(0, 0, 0); stroke-opacity: 0; fill: rgb(0, 0, 0); fill-opacity: 0;\"/><text class=\"annotation-text\" text-anchor=\"middle\" x=\"32.484375\" y=\"15\" style=\"font-family: Helvetica; font-size: 14px; fill: rgb(42, 63, 95); fill-opacity: 1; white-space: pre;\">Top Track</text></g></g></g><g class=\"annotation\" data-index=\"1\" style=\"opacity: 1;\"><g class=\"annotation-text-g\" transform=\"rotate(0,731,50)\"><g class=\"cursor-pointer\" transform=\"translate(700,40)\"><rect class=\"bg\" x=\"0.5\" y=\"0.5\" width=\"61\" height=\"19\" style=\"stroke-width: 1px; stroke: rgb(0, 0, 0); stroke-opacity: 0; fill: rgb(0, 0, 0); fill-opacity: 0;\"/><text class=\"annotation-text\" text-anchor=\"middle\" x=\"31.1875\" y=\"15\" style=\"font-family: Helvetica; font-size: 14px; fill: rgb(42, 63, 95); fill-opacity: 1; white-space: pre;\">Top Artist</text></g></g></g></g></svg>"
      ]
     },
     "metadata": {},
     "output_type": "display_data"
    }
   ],
   "source": [
    "# create the bar plot\n",
    "fig = px.bar(df_top, y='month', x='trackId', facet_col='category', text='info', facet_col_spacing=0.1,\n",
    "             color_discrete_sequence=spotify_colors)\n",
    "\n",
    "# update y-axis to display each month\n",
    "fig.update_yaxes(\n",
    "    tickformat='%b/%y',\n",
    "    dtick=\"M1\",  # ensures each month is displayed\n",
    "    tickmode=\"linear\"  # ensures ticks are evenly spaced by month\n",
    ")\n",
    "\n",
    "# update x-axes settings\n",
    "fig.update_xaxes(matches=None, nticks=7)\n",
    "fig.update_xaxes(col=1, title='# Streams per month', range=[0, 40])\n",
    "fig.update_xaxes(col=2, title='% Streams per month', ticksuffix='%', range=[0, 12])\n",
    "\n",
    "# Update traces to position text outside the bars\n",
    "fig.update_traces(textposition='outside')\n",
    "\n",
    "# update facet annotations to remove \"category=\" and format text\n",
    "fig.for_each_annotation(lambda a: a.update(text=a.text.replace(\"category=\", \"\").replace(\"_\", \" \")))\n",
    "\n",
    "fig.update_layout(\n",
    "    title='<b>Spotify:</b><i> What was the top song and artist of each month?</i>',\n",
    "    yaxis_title='Month',\n",
    "    height=450,  # adjust height to better accommodate the plot\n",
    "    width=1000\n",
    ")\n",
    "\n",
    "fig.update_traces(textfont_size=10)\n",
    "fig.for_each_annotation(lambda a: a.update(font_size=14))\n",
    "\n",
    "write(fig, 'top_tracks_and_artists_per_month')"
   ]
  },
  {
   "cell_type": "code",
   "execution_count": 46,
   "id": "8057300c-2d86-4477-a69e-0d6a5da719e2",
   "metadata": {},
   "outputs": [
    {
     "data": {
      "text/html": [
       "<div>\n",
       "<style scoped>\n",
       "    .dataframe tbody tr th:only-of-type {\n",
       "        vertical-align: middle;\n",
       "    }\n",
       "\n",
       "    .dataframe tbody tr th {\n",
       "        vertical-align: top;\n",
       "    }\n",
       "\n",
       "    .dataframe thead th {\n",
       "        text-align: right;\n",
       "    }\n",
       "</style>\n",
       "<table border=\"1\" class=\"dataframe\">\n",
       "  <thead>\n",
       "    <tr style=\"text-align: right;\">\n",
       "      <th></th>\n",
       "      <th>endTime</th>\n",
       "      <th>artistName</th>\n",
       "      <th>trackName</th>\n",
       "      <th>hPlayed</th>\n",
       "      <th>artistGenres</th>\n",
       "    </tr>\n",
       "  </thead>\n",
       "  <tbody>\n",
       "    <tr>\n",
       "      <th>0</th>\n",
       "      <td>2023-05-16 17:43:00+02:00</td>\n",
       "      <td>John Lennon</td>\n",
       "      <td>Isolation - Remastered 2010</td>\n",
       "      <td>0.04</td>\n",
       "      <td>['classic rock', 'rock']</td>\n",
       "    </tr>\n",
       "    <tr>\n",
       "      <th>1</th>\n",
       "      <td>2023-05-17 06:43:00+02:00</td>\n",
       "      <td>John Lennon</td>\n",
       "      <td>Isolation - Remastered 2010</td>\n",
       "      <td>0.01</td>\n",
       "      <td>['classic rock', 'rock']</td>\n",
       "    </tr>\n",
       "    <tr>\n",
       "      <th>2</th>\n",
       "      <td>2023-05-17 06:44:00+02:00</td>\n",
       "      <td>John Lennon</td>\n",
       "      <td>Love - Remastered 2010</td>\n",
       "      <td>0.02</td>\n",
       "      <td>['classic rock', 'rock']</td>\n",
       "    </tr>\n",
       "    <tr>\n",
       "      <th>3</th>\n",
       "      <td>2023-05-17 06:46:00+02:00</td>\n",
       "      <td>Felipe Gordon</td>\n",
       "      <td>Inherently Deep</td>\n",
       "      <td>0.03</td>\n",
       "      <td>['jazz house', 'lo-fi house']</td>\n",
       "    </tr>\n",
       "    <tr>\n",
       "      <th>4</th>\n",
       "      <td>2023-05-17 06:47:00+02:00</td>\n",
       "      <td>Golf Trip</td>\n",
       "      <td>L in Vain</td>\n",
       "      <td>0.03</td>\n",
       "      <td>[]</td>\n",
       "    </tr>\n",
       "  </tbody>\n",
       "</table>\n",
       "</div>"
      ],
      "text/plain": [
       "                    endTime     artistName                    trackName  \\\n",
       "0 2023-05-16 17:43:00+02:00    John Lennon  Isolation - Remastered 2010   \n",
       "1 2023-05-17 06:43:00+02:00    John Lennon  Isolation - Remastered 2010   \n",
       "2 2023-05-17 06:44:00+02:00    John Lennon       Love - Remastered 2010   \n",
       "3 2023-05-17 06:46:00+02:00  Felipe Gordon              Inherently Deep   \n",
       "4 2023-05-17 06:47:00+02:00      Golf Trip                    L in Vain   \n",
       "\n",
       "   hPlayed                   artistGenres  \n",
       "0     0.04       ['classic rock', 'rock']  \n",
       "1     0.01       ['classic rock', 'rock']  \n",
       "2     0.02       ['classic rock', 'rock']  \n",
       "3     0.03  ['jazz house', 'lo-fi house']  \n",
       "4     0.03                             []  "
      ]
     },
     "execution_count": 46,
     "metadata": {},
     "output_type": "execute_result"
    }
   ],
   "source": [
    "df_genres = df[['endTime','artistName','trackName', 'hPlayed', 'artistGenres']].copy()\n",
    "df_genres.dropna(subset=['artistGenres'], inplace=True)\n",
    "df_genres.head()"
   ]
  },
  {
   "cell_type": "code",
   "execution_count": 47,
   "id": "ecdc9e9e-9603-4a51-b1cf-5daaefc952f7",
   "metadata": {},
   "outputs": [
    {
     "data": {
      "text/html": [
       "<div>\n",
       "<style scoped>\n",
       "    .dataframe tbody tr th:only-of-type {\n",
       "        vertical-align: middle;\n",
       "    }\n",
       "\n",
       "    .dataframe tbody tr th {\n",
       "        vertical-align: top;\n",
       "    }\n",
       "\n",
       "    .dataframe thead th {\n",
       "        text-align: right;\n",
       "    }\n",
       "</style>\n",
       "<table border=\"1\" class=\"dataframe\">\n",
       "  <thead>\n",
       "    <tr style=\"text-align: right;\">\n",
       "      <th></th>\n",
       "      <th>endTime</th>\n",
       "      <th>artistName</th>\n",
       "      <th>trackName</th>\n",
       "      <th>hPlayed</th>\n",
       "      <th>artistGenres</th>\n",
       "    </tr>\n",
       "  </thead>\n",
       "  <tbody>\n",
       "    <tr>\n",
       "      <th>0</th>\n",
       "      <td>2023-05-16 17:43:00+02:00</td>\n",
       "      <td>John Lennon</td>\n",
       "      <td>Isolation - Remastered 2010</td>\n",
       "      <td>0.04</td>\n",
       "      <td>classic rock</td>\n",
       "    </tr>\n",
       "    <tr>\n",
       "      <th>1</th>\n",
       "      <td>2023-05-16 17:43:00+02:00</td>\n",
       "      <td>John Lennon</td>\n",
       "      <td>Isolation - Remastered 2010</td>\n",
       "      <td>0.04</td>\n",
       "      <td>rock</td>\n",
       "    </tr>\n",
       "    <tr>\n",
       "      <th>2</th>\n",
       "      <td>2023-05-17 06:43:00+02:00</td>\n",
       "      <td>John Lennon</td>\n",
       "      <td>Isolation - Remastered 2010</td>\n",
       "      <td>0.01</td>\n",
       "      <td>classic rock</td>\n",
       "    </tr>\n",
       "    <tr>\n",
       "      <th>3</th>\n",
       "      <td>2023-05-17 06:43:00+02:00</td>\n",
       "      <td>John Lennon</td>\n",
       "      <td>Isolation - Remastered 2010</td>\n",
       "      <td>0.01</td>\n",
       "      <td>rock</td>\n",
       "    </tr>\n",
       "    <tr>\n",
       "      <th>4</th>\n",
       "      <td>2023-05-17 06:44:00+02:00</td>\n",
       "      <td>John Lennon</td>\n",
       "      <td>Love - Remastered 2010</td>\n",
       "      <td>0.02</td>\n",
       "      <td>classic rock</td>\n",
       "    </tr>\n",
       "  </tbody>\n",
       "</table>\n",
       "</div>"
      ],
      "text/plain": [
       "                    endTime   artistName                    trackName  \\\n",
       "0 2023-05-16 17:43:00+02:00  John Lennon  Isolation - Remastered 2010   \n",
       "1 2023-05-16 17:43:00+02:00  John Lennon  Isolation - Remastered 2010   \n",
       "2 2023-05-17 06:43:00+02:00  John Lennon  Isolation - Remastered 2010   \n",
       "3 2023-05-17 06:43:00+02:00  John Lennon  Isolation - Remastered 2010   \n",
       "4 2023-05-17 06:44:00+02:00  John Lennon       Love - Remastered 2010   \n",
       "\n",
       "   hPlayed  artistGenres  \n",
       "0     0.04  classic rock  \n",
       "1     0.04          rock  \n",
       "2     0.01  classic rock  \n",
       "3     0.01          rock  \n",
       "4     0.02  classic rock  "
      ]
     },
     "execution_count": 47,
     "metadata": {},
     "output_type": "execute_result"
    }
   ],
   "source": [
    "df_genres.artistGenres = df_genres.artistGenres.apply(ast.literal_eval)\n",
    "df_genres = df_genres.explode('artistGenres').reset_index(drop=True)\n",
    "df_genres.dropna(subset=['artistGenres'], inplace=True)\n",
    "df_genres.drop_duplicates(inplace=True, ignore_index=True, keep='first')\n",
    "df_genres.head()"
   ]
  },
  {
   "cell_type": "code",
   "execution_count": 48,
   "id": "e2cbd560-8697-41a4-a182-f58821b30df2",
   "metadata": {},
   "outputs": [
    {
     "data": {
      "text/html": [
       "<div>\n",
       "<style scoped>\n",
       "    .dataframe tbody tr th:only-of-type {\n",
       "        vertical-align: middle;\n",
       "    }\n",
       "\n",
       "    .dataframe tbody tr th {\n",
       "        vertical-align: top;\n",
       "    }\n",
       "\n",
       "    .dataframe thead th {\n",
       "        text-align: right;\n",
       "    }\n",
       "</style>\n",
       "<table border=\"1\" class=\"dataframe\">\n",
       "  <thead>\n",
       "    <tr style=\"text-align: right;\">\n",
       "      <th></th>\n",
       "      <th>artistGenres</th>\n",
       "      <th>hPlayed</th>\n",
       "    </tr>\n",
       "  </thead>\n",
       "  <tbody>\n",
       "    <tr>\n",
       "      <th>0</th>\n",
       "      <td>chamber pop</td>\n",
       "      <td>26.42</td>\n",
       "    </tr>\n",
       "    <tr>\n",
       "      <th>1</th>\n",
       "      <td>indie rock</td>\n",
       "      <td>22.61</td>\n",
       "    </tr>\n",
       "    <tr>\n",
       "      <th>2</th>\n",
       "      <td>art pop</td>\n",
       "      <td>19.35</td>\n",
       "    </tr>\n",
       "    <tr>\n",
       "      <th>3</th>\n",
       "      <td>singer-songwriter</td>\n",
       "      <td>14.68</td>\n",
       "    </tr>\n",
       "    <tr>\n",
       "      <th>4</th>\n",
       "      <td>modern rock</td>\n",
       "      <td>13.64</td>\n",
       "    </tr>\n",
       "    <tr>\n",
       "      <th>5</th>\n",
       "      <td>indie pop</td>\n",
       "      <td>13.17</td>\n",
       "    </tr>\n",
       "    <tr>\n",
       "      <th>6</th>\n",
       "      <td>indietronica</td>\n",
       "      <td>13.14</td>\n",
       "    </tr>\n",
       "    <tr>\n",
       "      <th>7</th>\n",
       "      <td>rock</td>\n",
       "      <td>13.08</td>\n",
       "    </tr>\n",
       "    <tr>\n",
       "      <th>8</th>\n",
       "      <td>alternative rock</td>\n",
       "      <td>9.34</td>\n",
       "    </tr>\n",
       "    <tr>\n",
       "      <th>9</th>\n",
       "      <td>melancholia</td>\n",
       "      <td>9.15</td>\n",
       "    </tr>\n",
       "  </tbody>\n",
       "</table>\n",
       "</div>"
      ],
      "text/plain": [
       "        artistGenres  hPlayed\n",
       "0        chamber pop    26.42\n",
       "1         indie rock    22.61\n",
       "2            art pop    19.35\n",
       "3  singer-songwriter    14.68\n",
       "4        modern rock    13.64\n",
       "5          indie pop    13.17\n",
       "6       indietronica    13.14\n",
       "7               rock    13.08\n",
       "8   alternative rock     9.34\n",
       "9        melancholia     9.15"
      ]
     },
     "execution_count": 48,
     "metadata": {},
     "output_type": "execute_result"
    }
   ],
   "source": [
    "genres = pd.DataFrame(df_genres.groupby('artistGenres')['hPlayed'].sum()).sort_values(by='hPlayed', ascending=False).reset_index()\n",
    "genres.head(10)"
   ]
  },
  {
   "cell_type": "code",
   "execution_count": 49,
   "id": "cd0ee6f9-2c1b-42d6-b190-9d58615fea43",
   "metadata": {},
   "outputs": [
    {
     "data": {
      "image/svg+xml": [
       "<svg class=\"main-svg\" xmlns=\"http://www.w3.org/2000/svg\" xmlns:xlink=\"http://www.w3.org/1999/xlink\" width=\"1000\" height=\"500\" style=\"\" viewBox=\"0 0 1000 500\"><rect x=\"0\" y=\"0\" width=\"1000\" height=\"500\" style=\"fill: rgb(255, 255, 255); fill-opacity: 1;\"/><defs id=\"defs-12a768\"><g class=\"clips\"/><g class=\"gradients\"><linearGradient x1=\"0\" x2=\"0\" y1=\"1\" y2=\"0\" id=\"g12a768-cbcoloraxis\"><stop offset=\"0%\" stop-color=\"rgb(255, 255, 229)\" stop-opacity=\"1\"/><stop offset=\"12.5%\" stop-color=\"rgb(247, 252, 185)\" stop-opacity=\"1\"/><stop offset=\"25%\" stop-color=\"rgb(217, 240, 163)\" stop-opacity=\"1\"/><stop offset=\"37.5%\" stop-color=\"rgb(173, 221, 142)\" stop-opacity=\"1\"/><stop offset=\"50%\" stop-color=\"rgb(120, 198, 121)\" stop-opacity=\"1\"/><stop offset=\"62.5%\" stop-color=\"rgb(65, 171, 93)\" stop-opacity=\"1\"/><stop offset=\"75%\" stop-color=\"rgb(35, 132, 67)\" stop-opacity=\"1\"/><stop offset=\"87.5%\" stop-color=\"rgb(0, 104, 55)\" stop-opacity=\"1\"/><stop offset=\"100%\" stop-color=\"rgb(0, 69, 41)\" stop-opacity=\"1\"/></linearGradient></g><g class=\"patterns\"/></defs><g class=\"bglayer\"/><g class=\"layer-below\"><g class=\"imagelayer\"/><g class=\"shapelayer\"/></g><g class=\"cartesianlayer\"/><g class=\"polarlayer\"/><g class=\"smithlayer\"/><g class=\"ternarylayer\"/><g class=\"geolayer\"/><g class=\"funnelarealayer\"/><g class=\"pielayer\"/><g class=\"iciclelayer\"/><g class=\"treemaplayer\"><g class=\"trace treemap\" style=\"opacity: 1;\"><g class=\"slice cursor-pointer\"><path class=\"surface\" d=\"M80,100L901,100L901,420L80,420Z\" style=\"pointer-events: all; stroke-width: 1; fill: rgb(68, 68, 68); fill-opacity: 1; stroke: rgb(255, 255, 255); stroke-opacity: 1; opacity: 1;\"/><g class=\"slicetext\"><text data-notex=\"1\" class=\"slicetext\" text-anchor=\"start\" x=\"0\" y=\"0\" style=\"font-family: Helvetica; font-size: 12px; fill: rgb(255, 255, 255); fill-opacity: 1; white-space: pre;\" transform=\"translate(86,114)\"> </text></g></g><g class=\"slice cursor-pointer\"><path class=\"surface\" d=\"M86,124L199.94040240857686,124L199.94040240857686,278.88415255965737L86,278.88415255965737Z\" style=\"pointer-events: all; stroke-width: 1; fill: rgb(0, 69, 41); fill-opacity: 1; stroke: rgb(255, 255, 255); stroke-opacity: 1; opacity: 1;\"/><g class=\"slicetext\"><text data-notex=\"1\" class=\"slicetext\" text-anchor=\"start\" x=\"0\" y=\"0\" style=\"font-family: Helvetica; font-size: 12px; fill: rgb(255, 255, 255); fill-opacity: 1; white-space: pre;\" transform=\"translate(89,138)\">chamber pop</text></g></g><g class=\"slice cursor-pointer\"><path class=\"surface\" d=\"M86,281.88415255965737L199.94040240857686,281.88415255965737L199.94040240857686,414L86,414Z\" style=\"pointer-events: all; stroke-width: 1; fill: rgb(9, 111, 58); fill-opacity: 1; stroke: rgb(255, 255, 255); stroke-opacity: 1; opacity: 1;\"/><g class=\"slicetext\"><text data-notex=\"1\" class=\"slicetext\" text-anchor=\"start\" x=\"0\" y=\"0\" style=\"font-family: Helvetica; font-size: 12px; fill: rgb(255, 255, 255); fill-opacity: 1; white-space: pre;\" transform=\"translate(89,295.88415255965737)\">indie rock</text></g></g><g class=\"slice cursor-pointer\"><path class=\"surface\" d=\"M202.94040240857686,124L313.6370979585842,124L313.6370979585842,239.9332913782253L202.94040240857686,239.9332913782253Z\" style=\"pointer-events: all; stroke-width: 1; fill: rgb(45, 146, 76); fill-opacity: 1; stroke: rgb(255, 255, 255); stroke-opacity: 1; opacity: 1;\"/><g class=\"slicetext\"><text data-notex=\"1\" class=\"slicetext\" text-anchor=\"start\" x=\"0\" y=\"0\" style=\"font-family: Helvetica; font-size: 12px; fill: rgb(255, 255, 255); fill-opacity: 1; white-space: pre;\" transform=\"translate(205.94040240857686,138)\">art pop</text></g></g><g class=\"slice cursor-pointer\"><path class=\"surface\" d=\"M202.94040240857686,242.9332913782253L313.6370979585842,242.9332913782253L313.6370979585842,330.16278581917345L202.94040240857686,330.16278581917345Z\" style=\"pointer-events: all; stroke-width: 1; fill: rgb(115, 195, 118); fill-opacity: 1; stroke: rgb(255, 255, 255); stroke-opacity: 1; opacity: 1;\"/><g class=\"slicetext\"><text data-notex=\"1\" class=\"slicetext\" text-anchor=\"start\" x=\"0\" y=\"0\" style=\"font-family: Helvetica; font-size: 12px; fill: rgb(68, 68, 68); fill-opacity: 1; white-space: pre;\" transform=\"translate(205.94040240857686,256.9332913782253)\">singer-songwriter</text></g></g><g class=\"slice cursor-pointer\"><path class=\"surface\" d=\"M202.94040240857686,333.16278581917345L313.6370979585842,333.16278581917345L313.6370979585842,414L202.94040240857686,414Z\" style=\"pointer-events: all; stroke-width: 1; fill: rgb(133, 204, 126); fill-opacity: 1; stroke: rgb(255, 255, 255); stroke-opacity: 1; opacity: 1;\"/><g class=\"slicetext\"><text data-notex=\"1\" class=\"slicetext\" text-anchor=\"start\" x=\"0\" y=\"0\" style=\"font-family: Helvetica; font-size: 12px; fill: rgb(68, 68, 68); fill-opacity: 1; white-space: pre;\" transform=\"translate(205.94040240857686,347.16278581917345)\">modern rock</text></g></g><g class=\"slice cursor-pointer\"><path class=\"surface\" d=\"M316.6370979585842,124L407.58534292847696,124L407.58534292847696,218.96420411271896L316.6370979585842,218.96420411271896Z\" style=\"pointer-events: all; stroke-width: 1; fill: rgb(141, 207, 129); fill-opacity: 1; stroke: rgb(255, 255, 255); stroke-opacity: 1; opacity: 1;\"/><g class=\"slicetext\"><text data-notex=\"1\" class=\"slicetext\" text-anchor=\"start\" x=\"0\" y=\"0\" style=\"font-family: Helvetica; font-size: 12px; fill: rgb(68, 68, 68); fill-opacity: 1; white-space: pre;\" transform=\"translate(319.6370979585842,138)\">indie pop</text></g></g><g class=\"slice cursor-pointer\"><path class=\"surface\" d=\"M316.6370979585842,221.96420411271896L407.58534292847696,221.96420411271896L407.58534292847696,316.7052551408987L316.6370979585842,316.7052551408987Z\" style=\"pointer-events: all; stroke-width: 1; fill: rgb(142, 207, 130); fill-opacity: 1; stroke: rgb(255, 255, 255); stroke-opacity: 1; opacity: 1;\"/><g class=\"slicetext\"><text data-notex=\"1\" class=\"slicetext\" text-anchor=\"start\" x=\"0\" y=\"0\" style=\"font-family: Helvetica; font-size: 12px; fill: rgb(68, 68, 68); fill-opacity: 1; white-space: pre;\" transform=\"translate(319.6370979585842,235.96420411271896)\">indietronica</text></g></g><g class=\"slice cursor-pointer\"><path class=\"surface\" d=\"M316.6370979585842,319.7052551408987L407.58534292847696,319.7052551408987L407.58534292847696,414L316.6370979585842,414Z\" style=\"pointer-events: all; stroke-width: 1; fill: rgb(143, 208, 130); fill-opacity: 1; stroke: rgb(255, 255, 255); stroke-opacity: 1; opacity: 1;\"/><g class=\"slicetext\"><text data-notex=\"1\" class=\"slicetext\" text-anchor=\"start\" x=\"0\" y=\"0\" style=\"font-family: Helvetica; font-size: 12px; fill: rgb(68, 68, 68); fill-opacity: 1; white-space: pre;\" transform=\"translate(319.6370979585842,333.7052551408987)\">rock</text></g></g><g class=\"slice cursor-pointer\"><path class=\"surface\" d=\"M410.58534292847696,124L494.1398443236892,124L494.1398443236892,196.40975475337558L410.58534292847696,196.40975475337558Z\" style=\"pointer-events: all; stroke-width: 1; fill: rgb(203, 234, 156); fill-opacity: 1; stroke: rgb(255, 255, 255); stroke-opacity: 1; opacity: 1;\"/><g class=\"slicetext\"><text data-notex=\"1\" class=\"slicetext\" text-anchor=\"start\" x=\"0\" y=\"0\" style=\"font-family: Helvetica; font-size: 12px; fill: rgb(68, 68, 68); fill-opacity: 1; white-space: pre;\" transform=\"translate(413.58534292847696,137.48355779228675)scale(0.953050708389705)\">alternative rock</text></g></g><g class=\"slice cursor-pointer\"><path class=\"surface\" d=\"M410.58534292847696,199.40975475337558L494.1398443236892,199.40975475337558L494.1398443236892,270.28547809313864L410.58534292847696,270.28547809313864Z\" style=\"pointer-events: all; stroke-width: 1; fill: rgb(205, 235, 157); fill-opacity: 1; stroke: rgb(255, 255, 255); stroke-opacity: 1; opacity: 1;\"/><g class=\"slicetext\"><text data-notex=\"1\" class=\"slicetext\" text-anchor=\"start\" x=\"0\" y=\"0\" style=\"font-family: Helvetica; font-size: 12px; fill: rgb(68, 68, 68); fill-opacity: 1; white-space: pre;\" transform=\"translate(413.58534292847696,213.40975475337558)\">melancholia</text></g></g><g class=\"slice cursor-pointer\"><path class=\"surface\" d=\"M410.58534292847696,273.28547809313864L494.1398443236892,273.28547809313864L494.1398443236892,342.4656930283825L410.58534292847696,342.4656930283825Z\" style=\"pointer-events: all; stroke-width: 1; fill: rgb(209, 236, 159); fill-opacity: 1; stroke: rgb(255, 255, 255); stroke-opacity: 1; opacity: 1;\"/><g class=\"slicetext\"><text data-notex=\"1\" class=\"slicetext\" text-anchor=\"start\" x=\"0\" y=\"0\" style=\"font-family: Helvetica; font-size: 12px; fill: rgb(68, 68, 68); fill-opacity: 1; white-space: pre;\" transform=\"translate(413.58534292847696,285.9012528346373)scale(0.8741613401362422)\">permanent wave</text></g></g><g class=\"slice cursor-pointer\"><path class=\"surface\" d=\"M410.58534292847696,345.4656930283825L494.1398443236892,345.4656930283825L494.1398443236892,414L410.58534292847696,414Z\" style=\"pointer-events: all; stroke-width: 1; fill: rgb(210, 237, 160); fill-opacity: 1; stroke: rgb(255, 255, 255); stroke-opacity: 1; opacity: 1;\"/><g class=\"slicetext\"><text data-notex=\"1\" class=\"slicetext\" text-anchor=\"start\" x=\"0\" y=\"0\" style=\"font-family: Helvetica; font-size: 12px; fill: rgb(68, 68, 68); fill-opacity: 1; white-space: pre;\" transform=\"translate(413.58534292847696,358.08146776988116)scale(0.8741613401362422)\">stomp and holler</text></g></g><g class=\"slice cursor-pointer\"><path class=\"surface\" d=\"M497.1398443236892,124L569.6275811426053,124L569.6275811426053,202.55860979462875L497.1398443236892,202.55860979462875Z\" style=\"pointer-events: all; stroke-width: 1; fill: rgb(210, 237, 160); fill-opacity: 1; stroke: rgb(255, 255, 255); stroke-opacity: 1; opacity: 1;\"/><g class=\"slicetext\"><text data-notex=\"1\" class=\"slicetext\" text-anchor=\"start\" x=\"0\" y=\"0\" style=\"font-family: Helvetica; font-size: 12px; fill: rgb(68, 68, 68); fill-opacity: 1; white-space: pre;\" transform=\"translate(500.1398443236892,138)\">pop</text></g></g><g class=\"slice cursor-pointer\"><path class=\"surface\" d=\"M497.1398443236892,205.55860979462875L569.6275811426053,205.55860979462875L569.6275811426053,281.80284360189574L497.1398443236892,281.80284360189574Z\" style=\"pointer-events: all; stroke-width: 1; fill: rgb(214, 239, 162); fill-opacity: 1; stroke: rgb(255, 255, 255); stroke-opacity: 1; opacity: 1;\"/><g class=\"slicetext\"><text data-notex=\"1\" class=\"slicetext\" text-anchor=\"start\" x=\"0\" y=\"0\" style=\"font-family: Helvetica; font-size: 12px; fill: rgb(68, 68, 68); fill-opacity: 1; white-space: pre;\" transform=\"translate(500.1398443236892,219.55860979462875)\">pov: indie</text></g></g><g class=\"slice cursor-pointer\"><path class=\"surface\" d=\"M497.1398443236892,284.80284360189574L569.6275811426053,284.80284360189574L569.6275811426053,350.77124802527646L497.1398443236892,350.77124802527646Z\" style=\"pointer-events: all; stroke-width: 1; fill: rgb(226, 244, 170); fill-opacity: 1; stroke: rgb(255, 255, 255); stroke-opacity: 1; opacity: 1;\"/><g class=\"slicetext\"><text data-notex=\"1\" class=\"slicetext\" text-anchor=\"start\" x=\"0\" y=\"0\" style=\"font-family: Helvetica; font-size: 12px; fill: rgb(68, 68, 68); fill-opacity: 1; white-space: pre;\" transform=\"translate(500.1398443236892,298.80284360189574)\">rap</text></g></g><g class=\"slice cursor-pointer\"><path class=\"surface\" d=\"M497.1398443236892,353.77124802527646L569.6275811426053,353.77124802527646L569.6275811426053,414L497.1398443236892,414Z\" style=\"pointer-events: all; stroke-width: 1; fill: rgb(232, 246, 174); fill-opacity: 1; stroke: rgb(255, 255, 255); stroke-opacity: 1; opacity: 1;\"/><g class=\"slicetext\"><text data-notex=\"1\" class=\"slicetext\" text-anchor=\"start\" x=\"0\" y=\"0\" style=\"font-family: Helvetica; font-size: 12px; fill: rgb(68, 68, 68); fill-opacity: 1; white-space: pre;\" transform=\"translate(500.1398443236892,367.77124802527646)\">indie soul</text></g></g><g class=\"slice cursor-pointer\"><path class=\"surface\" d=\"M572.6275811426053,124L629.2306946688207,124L629.2306946688207,200.14165666266507L572.6275811426053,200.14165666266507Z\" style=\"pointer-events: all; stroke-width: 1; fill: rgb(233, 246, 175); fill-opacity: 1; stroke: rgb(255, 255, 255); stroke-opacity: 1; opacity: 1;\"/><g class=\"slicetext\"><text data-notex=\"1\" class=\"slicetext\" text-anchor=\"start\" x=\"0\" y=\"0\" style=\"font-family: Helvetica; font-size: 12px; fill: rgb(68, 68, 68); fill-opacity: 1; white-space: pre;\" transform=\"translate(575.6275811426053,138)\">indie folk</text></g></g><g class=\"slice cursor-pointer\"><path class=\"surface\" d=\"M572.6275811426053,203.14165666266507L629.2306946688207,203.14165666266507L629.2306946688207,272.7174869947979L572.6275811426053,272.7174869947979Z\" style=\"pointer-events: all; stroke-width: 1; fill: rgb(239, 249, 179); fill-opacity: 1; stroke: rgb(255, 255, 255); stroke-opacity: 1; opacity: 1;\"/><g class=\"slicetext\"><text data-notex=\"1\" class=\"slicetext\" text-anchor=\"start\" x=\"0\" y=\"0\" style=\"font-family: Helvetica; font-size: 12px; fill: rgb(68, 68, 68); fill-opacity: 1; white-space: pre;\" transform=\"translate(575.6275811426053,214.39955928724913)scale(0.750718420416732)\">baroque pop</text></g></g><g class=\"slice cursor-pointer\"><path class=\"surface\" d=\"M572.6275811426053,275.7174869947979L629.2306946688207,275.7174869947979L629.2306946688207,344.58983593437375L572.6275811426053,344.58983593437375Z\" style=\"pointer-events: all; stroke-width: 1; fill: rgb(239, 249, 179); fill-opacity: 1; stroke: rgb(255, 255, 255); stroke-opacity: 1; opacity: 1;\"/><g class=\"slicetext\"><text data-notex=\"1\" class=\"slicetext\" text-anchor=\"start\" x=\"0\" y=\"0\" style=\"font-family: Helvetica; font-size: 12px; fill: rgb(68, 68, 68); fill-opacity: 1; white-space: pre;\" transform=\"translate(575.6275811426053,286.7428512485613)scale(0.7295785685239426)\">shimmer pop</text></g></g><g class=\"slice cursor-pointer\"><path class=\"surface\" d=\"M572.6275811426053,347.58983593437375L629.2306946688207,347.58983593437375L629.2306946688207,414L572.6275811426053,414Z\" style=\"pointer-events: all; stroke-width: 1; fill: rgb(241, 250, 181); fill-opacity: 1; stroke: rgb(255, 255, 255); stroke-opacity: 1; opacity: 1;\"/><g class=\"slicetext\"><text data-notex=\"1\" class=\"slicetext\" text-anchor=\"start\" x=\"0\" y=\"0\" style=\"font-family: Helvetica; font-size: 12px; fill: rgb(68, 68, 68); fill-opacity: 1; white-space: pre;\" transform=\"translate(575.6275811426053,361.58983593437375)\">soft rock</text></g></g><g class=\"slice cursor-pointer\"><path class=\"surface\" d=\"M632.2306946688207,124L696.678826475932,124L696.678826475932,180.05752490352688L632.2306946688207,180.05752490352688Z\" style=\"pointer-events: all; stroke-width: 1; fill: rgb(244, 251, 182); fill-opacity: 1; stroke: rgb(255, 255, 255); stroke-opacity: 1; opacity: 1;\"/><g class=\"slicetext\"><text data-notex=\"1\" class=\"slicetext\" text-anchor=\"start\" x=\"0\" y=\"0\" style=\"font-family: Helvetica; font-size: 12px; fill: rgb(68, 68, 68); fill-opacity: 1; white-space: pre;\" transform=\"translate(635.2306946688207,137.36721713081542)scale(0.942474284619584)\">classic rock</text></g></g><g class=\"slice cursor-pointer\"><path class=\"surface\" d=\"M699.678826475932,124L764.1269582830435,124L764.1269582830435,180.05752490352688L699.678826475932,180.05752490352688Z\" style=\"pointer-events: all; stroke-width: 1; fill: rgb(244, 251, 182); fill-opacity: 1; stroke: rgb(255, 255, 255); stroke-opacity: 1; opacity: 1;\"/><g class=\"slicetext\"><text data-notex=\"1\" class=\"slicetext\" text-anchor=\"start\" x=\"0\" y=\"0\" style=\"font-family: Helvetica; font-size: 12px; fill: rgb(68, 68, 68); fill-opacity: 1; white-space: pre;\" transform=\"translate(702.678826475932,134.52789696161844)scale(0.6843542692380404)\">french indie pop</text></g></g><g class=\"slice cursor-pointer\"><path class=\"surface\" d=\"M767.1269582830435,124L830.8651097553432,124L830.8651097553432,180.05752490352688L767.1269582830435,180.05752490352688Z\" style=\"pointer-events: all; stroke-width: 1; fill: rgb(244, 251, 183); fill-opacity: 1; stroke: rgb(255, 255, 255); stroke-opacity: 1; opacity: 1;\"/><g class=\"slicetext\"><text data-notex=\"1\" class=\"slicetext\" text-anchor=\"start\" x=\"0\" y=\"0\" style=\"font-family: Helvetica; font-size: 12px; fill: rgb(68, 68, 68); fill-opacity: 1; white-space: pre;\" transform=\"translate(770.1269582830435,136.71502357468904)scale(0.8831839613353684)\">countrygaze</text></g></g><g class=\"slice cursor-pointer\"><path class=\"surface\" d=\"M833.8651097553432,124L895,124L895,180.05752490352688L833.8651097553432,180.05752490352688Z\" style=\"pointer-events: all; stroke-width: 1; fill: rgb(246, 252, 184); fill-opacity: 1; stroke: rgb(255, 255, 255); stroke-opacity: 1; opacity: 1;\"/><g class=\"slicetext\"><text data-notex=\"1\" class=\"slicetext\" text-anchor=\"start\" x=\"0\" y=\"0\" style=\"font-family: Helvetica; font-size: 12px; fill: rgb(68, 68, 68); fill-opacity: 1; white-space: pre;\" transform=\"translate(836.8651097553432,138)\">hip hop</text></g></g><g class=\"slice cursor-pointer\"><path class=\"surface\" d=\"M632.2306946688207,183.05752490352688L682.7908120633138,183.05752490352688L682.7908120633138,241.38098463322146L632.2306946688207,241.38098463322146Z\" style=\"pointer-events: all; stroke-width: 1; fill: rgb(249, 253, 195); fill-opacity: 1; stroke: rgb(255, 255, 255); stroke-opacity: 1; opacity: 1;\"/><g class=\"slicetext\"><text data-notex=\"1\" class=\"slicetext\" text-anchor=\"start\" x=\"0\" y=\"0\" style=\"font-family: Helvetica; font-size: 12px; fill: rgb(68, 68, 68); fill-opacity: 1; white-space: pre;\" transform=\"translate(635.2306946688207,192.39240427463415)scale(0.5758981246461142)\">alternative r&amp;b</text></g></g><g class=\"slice cursor-pointer\"><path class=\"surface\" d=\"M632.2306946688207,244.38098463322146L682.7908120633138,244.38098463322146L682.7908120633138,300.22541088448156L632.2306946688207,300.22541088448156Z\" style=\"pointer-events: all; stroke-width: 1; fill: rgb(249, 253, 197); fill-opacity: 1; stroke: rgb(255, 255, 255); stroke-opacity: 1; opacity: 1;\"/><g class=\"slicetext\"><text data-notex=\"1\" class=\"slicetext\" text-anchor=\"start\" x=\"0\" y=\"0\" style=\"font-family: Helvetica; font-size: 12px; fill: rgb(68, 68, 68); fill-opacity: 1; white-space: pre;\" transform=\"translate(635.2306946688207,252.37944267109958)scale(0.45440527617073895)\">french indietronica</text></g></g><g class=\"slice cursor-pointer\"><path class=\"surface\" d=\"M632.2306946688207,303.22541088448156L682.7908120633138,303.22541088448156L682.7908120633138,357.63460722717434L632.2306946688207,357.63460722717434Z\" style=\"pointer-events: all; stroke-width: 1; fill: rgb(250, 253, 199); fill-opacity: 1; stroke: rgb(255, 255, 255); stroke-opacity: 1; opacity: 1;\"/><g class=\"slicetext\"><text data-notex=\"1\" class=\"slicetext\" text-anchor=\"start\" x=\"0\" y=\"0\" style=\"font-family: Helvetica; font-size: 12px; fill: rgb(68, 68, 68); fill-opacity: 1; white-space: pre;\" transform=\"translate(635.2306946688207,314.6719167126246)scale(0.767864166194819)\">electronica</text></g></g><g class=\"slice cursor-pointer\"><path class=\"surface\" d=\"M632.2306946688207,360.63460722717434L682.7908120633138,360.63460722717434L682.7908120633138,414L632.2306946688207,414Z\" style=\"pointer-events: all; stroke-width: 1; fill: rgb(250, 253, 200); fill-opacity: 1; stroke: rgb(255, 255, 255); stroke-opacity: 1; opacity: 1;\"/><g class=\"slicetext\"><text data-notex=\"1\" class=\"slicetext\" text-anchor=\"start\" x=\"0\" y=\"0\" style=\"font-family: Helvetica; font-size: 12px; fill: rgb(68, 68, 68); fill-opacity: 1; white-space: pre;\" transform=\"translate(635.2306946688207,367.4823102378113)scale(0.3497911827851782)\">british singer-songwriter</text></g></g><g class=\"slice cursor-pointer\"><path class=\"surface\" d=\"M685.7908120633138,183.05752490352688L737.6724985986637,183.05752490352688L737.6724985986637,233.53761774652693L685.7908120633138,233.53761774652693Z\" style=\"pointer-events: all; stroke-width: 1; fill: rgb(250, 253, 202); fill-opacity: 1; stroke: rgb(255, 255, 255); stroke-opacity: 1; opacity: 1;\"/><g class=\"slicetext\"><text data-notex=\"1\" class=\"slicetext\" text-anchor=\"start\" x=\"0\" y=\"0\" style=\"font-family: Helvetica; font-size: 12px; fill: rgb(68, 68, 68); fill-opacity: 1; white-space: pre;\" transform=\"translate(688.7908120633138,191.53965445561215)scale(0.49837541382593237)\">experimental pop</text></g></g><g class=\"slice cursor-pointer\"><path class=\"surface\" d=\"M740.6724985986637,183.05752490352688L792.1621730873325,183.05752490352688L792.1621730873325,233.53761774652693L740.6724985986637,233.53761774652693Z\" style=\"pointer-events: all; stroke-width: 1; fill: rgb(250, 253, 202); fill-opacity: 1; stroke: rgb(255, 255, 255); stroke-opacity: 1; opacity: 1;\"/><g class=\"slicetext\"><text data-notex=\"1\" class=\"slicetext\" text-anchor=\"start\" x=\"0\" y=\"0\" style=\"font-family: Helvetica; font-size: 12px; fill: rgb(68, 68, 68); fill-opacity: 1; white-space: pre;\" transform=\"translate(743.6724985986637,193.95316860175737)scale(0.7177857907482258)\">garage rock</text></g></g><g class=\"slice cursor-pointer\"><path class=\"surface\" d=\"M795.1621730873325,183.05752490352688L845.7371528004121,183.05752490352688L845.7371528004121,233.53761774652693L795.1621730873325,233.53761774652693Z\" style=\"pointer-events: all; stroke-width: 1; fill: rgb(250, 253, 203); fill-opacity: 1; stroke: rgb(255, 255, 255); stroke-opacity: 1; opacity: 1;\"/><g class=\"slicetext\"><text data-notex=\"1\" class=\"slicetext\" text-anchor=\"start\" x=\"0\" y=\"0\" style=\"font-family: Helvetica; font-size: 12px; fill: rgb(68, 68, 68); fill-opacity: 1; white-space: pre;\" transform=\"translate(798.1621730873325,196.1251494521339)scale(0.9152385953279105)\">new rave</text></g></g><g class=\"slice cursor-pointer\"><path class=\"surface\" d=\"M848.7371528004121,183.05752490352688L895,183.05752490352688L895,233.53761774652693L848.7371528004121,233.53761774652693Z\" style=\"pointer-events: all; stroke-width: 1; fill: rgb(251, 254, 208); fill-opacity: 1; stroke: rgb(255, 255, 255); stroke-opacity: 1; opacity: 1;\"/><g class=\"slicetext\"><text data-notex=\"1\" class=\"slicetext\" text-anchor=\"start\" x=\"0\" y=\"0\" style=\"font-family: Helvetica; font-size: 12px; fill: rgb(68, 68, 68); fill-opacity: 1; white-space: pre;\" transform=\"translate(851.7371528004121,193.60412885147946)scale(0.6860549043593251)\">small room</text></g></g><g class=\"slice cursor-pointer\"><path class=\"surface\" d=\"M685.7908120633138,236.53761774652693L737.0048381785256,236.53761774652693L737.0048381785256,280.07113202760104L685.7908120633138,280.07113202760104Z\" style=\"pointer-events: all; stroke-width: 1; fill: rgb(252, 254, 210); fill-opacity: 1; stroke: rgb(255, 255, 255); stroke-opacity: 1; opacity: 1;\"/><g class=\"slicetext\"><text data-notex=\"1\" class=\"slicetext\" text-anchor=\"start\" x=\"0\" y=\"0\" style=\"font-family: Helvetica; font-size: 12px; fill: rgb(68, 68, 68); fill-opacity: 1; white-space: pre;\" transform=\"translate(688.7908120633138,245.31765667609096)scale(0.5254580845058211)\">new jersey indie</text></g></g><g class=\"slice cursor-pointer\"><path class=\"surface\" d=\"M685.7908120633138,283.07113202760104L737.0048381785256,283.07113202760104L737.0048381785256,325.70233439740787L685.7908120633138,325.70233439740787Z\" style=\"pointer-events: all; stroke-width: 1; fill: rgb(252, 254, 211); fill-opacity: 1; stroke: rgb(255, 255, 255); stroke-opacity: 1; opacity: 1;\"/><g class=\"slicetext\"><text data-notex=\"1\" class=\"slicetext\" text-anchor=\"start\" x=\"0\" y=\"0\" style=\"font-family: Helvetica; font-size: 12px; fill: rgb(68, 68, 68); fill-opacity: 1; white-space: pre;\" transform=\"translate(688.7908120633138,291.80742223937057)scale(0.5214809283426846)\">british indie rock</text></g></g><g class=\"slice cursor-pointer\"><path class=\"surface\" d=\"M685.7908120633138,328.70233439740787L737.0048381785256,328.70233439740787L737.0048381785256,371.07573336399537L685.7908120633138,371.07573336399537Z\" style=\"pointer-events: all; stroke-width: 1; fill: rgb(252, 254, 212); fill-opacity: 1; stroke: rgb(255, 255, 255); stroke-opacity: 1; opacity: 1;\"/><g class=\"slicetext\"><text data-notex=\"1\" class=\"slicetext\" text-anchor=\"start\" x=\"0\" y=\"0\" style=\"font-family: Helvetica; font-size: 12px; fill: rgb(68, 68, 68); fill-opacity: 1; white-space: pre;\" transform=\"translate(688.7908120633138,338.9415143803756)scale(0.6581072711788848)\">metropopolis</text></g></g><g class=\"slice cursor-pointer\"><path class=\"surface\" d=\"M685.7908120633138,374.07573336399537L737.0048381785256,374.07573336399537L737.0048381785256,414.00000000000006L685.7908120633138,414.00000000000006Z\" style=\"pointer-events: all; stroke-width: 1; fill: rgb(252, 254, 215); fill-opacity: 1; stroke: rgb(255, 255, 255); stroke-opacity: 1; opacity: 1;\"/><g class=\"slicetext\"><text data-notex=\"1\" class=\"slicetext\" text-anchor=\"start\" x=\"0\" y=\"0\" style=\"font-family: Helvetica; font-size: 12px; fill: rgb(68, 68, 68); fill-opacity: 1; white-space: pre;\" transform=\"translate(688.7908120633138,385.9471587779054)scale(0.8064932194463648)\">dance pop</text></g></g><g class=\"slice cursor-pointer\"><path class=\"surface\" d=\"M740.0048381785256,236.53761774652693L790.4776383450982,236.53761774652693L790.4776383450982,276.79551231610947L740.0048381785256,276.79551231610947Z\" style=\"pointer-events: all; stroke-width: 1; fill: rgb(252, 254, 215); fill-opacity: 1; stroke: rgb(255, 255, 255); stroke-opacity: 1; opacity: 1;\"/><g class=\"slicetext\"><text data-notex=\"1\" class=\"slicetext\" text-anchor=\"start\" x=\"0\" y=\"0\" style=\"font-family: Helvetica; font-size: 12px; fill: rgb(68, 68, 68); fill-opacity: 1; white-space: pre;\" transform=\"translate(743.0048381785256,245.91416587631656)scale(0.5796861936172395)\">new wave pop</text></g></g><g class=\"slice cursor-pointer\"><path class=\"surface\" d=\"M793.4776383450982,236.53761774652693L843.7888892664546,236.53761774652693L843.7888892664546,276.79551231610947L793.4776383450982,276.79551231610947Z\" style=\"pointer-events: all; stroke-width: 1; fill: rgb(252, 254, 215); fill-opacity: 1; stroke: rgb(255, 255, 255); stroke-opacity: 1; opacity: 1;\"/><g class=\"slicetext\"><text data-notex=\"1\" class=\"slicetext\" text-anchor=\"start\" x=\"0\" y=\"0\" style=\"font-family: Helvetica; font-size: 12px; fill: rgb(68, 68, 68); fill-opacity: 1; white-space: pre;\" transform=\"translate(796.4776383450982,250.53761774652693)\">r&amp;b</text></g></g><g class=\"slice cursor-pointer\"><path class=\"surface\" d=\"M846.7888892664546,236.53761774652693L895,236.53761774652693L895,276.79551231610947L846.7888892664546,276.79551231610947Z\" style=\"pointer-events: all; stroke-width: 1; fill: rgb(253, 254, 217); fill-opacity: 1; stroke: rgb(255, 255, 255); stroke-opacity: 1; opacity: 1;\"/><g class=\"slicetext\"><text data-notex=\"1\" class=\"slicetext\" text-anchor=\"start\" x=\"0\" y=\"0\" style=\"font-family: Helvetica; font-size: 12px; fill: rgb(68, 68, 68); fill-opacity: 1; white-space: pre;\" transform=\"translate(849.7888892664546,250.53761774652693)\">pop rap</text></g></g><g class=\"slice cursor-pointer\"><path class=\"surface\" d=\"M740.0048381785256,279.79551231610947L784.98402658466,279.79551231610947L784.98402658466,322.67599386645503L740.0048381785256,322.67599386645503Z\" style=\"pointer-events: all; stroke-width: 1; fill: rgb(253, 254, 217); fill-opacity: 1; stroke: rgb(255, 255, 255); stroke-opacity: 1; opacity: 1;\"/><g class=\"slicetext\"><text data-notex=\"1\" class=\"slicetext\" text-anchor=\"start\" x=\"0\" y=\"0\" style=\"font-family: Helvetica; font-size: 12px; fill: rgb(68, 68, 68); fill-opacity: 1; white-space: pre;\" transform=\"translate(743.0048381785256,290.10151568083757)scale(0.6641821240661883)\">album rock</text></g></g><g class=\"slice cursor-pointer\"><path class=\"surface\" d=\"M740.0048381785256,325.67599386645503L784.98402658466,325.67599386645503L784.98402658466,368.41082309441856L740.0048381785256,368.41082309441856Z\" style=\"pointer-events: all; stroke-width: 1; fill: rgb(253, 254, 217); fill-opacity: 1; stroke: rgb(255, 255, 255); stroke-opacity: 1; opacity: 1;\"/><g class=\"slicetext\"><text data-notex=\"1\" class=\"slicetext\" text-anchor=\"start\" x=\"0\" y=\"0\" style=\"font-family: Helvetica; font-size: 12px; fill: rgb(68, 68, 68); fill-opacity: 1; white-space: pre;\" transform=\"translate(743.0048381785256,333.6203810084223)scale(0.44948974017884746)\">neo-psychedelic</text></g></g><g class=\"slice cursor-pointer\"><path class=\"surface\" d=\"M740.0048381785256,371.41082309441856L784.98402658466,371.41082309441856L784.98402658466,414L740.0048381785256,414Z\" style=\"pointer-events: all; stroke-width: 1; fill: rgb(253, 254, 217); fill-opacity: 1; stroke: rgb(255, 255, 255); stroke-opacity: 1; opacity: 1;\"/><g class=\"slicetext\"><text data-notex=\"1\" class=\"slicetext\" text-anchor=\"start\" x=\"0\" y=\"0\" style=\"font-family: Helvetica; font-size: 12px; fill: rgb(68, 68, 68); fill-opacity: 1; white-space: pre;\" transform=\"translate(743.0048381785256,378.2600794610785)scale(0.34993239696908446)\">uk contemporary r&amp;b</text></g></g><g class=\"slice cursor-pointer\"><path class=\"surface\" d=\"M787.98402658466,279.79551231610947L840.5278053706514,279.79551231610947L840.5278053706514,315.92419954447826L787.98402658466,315.92419954447826Z\" style=\"pointer-events: all; stroke-width: 1; fill: rgb(253, 254, 218); fill-opacity: 1; stroke: rgb(255, 255, 255); stroke-opacity: 1; opacity: 1;\"/><g class=\"slicetext\"><text data-notex=\"1\" class=\"slicetext\" text-anchor=\"start\" x=\"0\" y=\"0\" style=\"font-family: Helvetica; font-size: 12px; fill: rgb(68, 68, 68); fill-opacity: 1; white-space: pre;\" transform=\"translate(790.98402658466,290.0351986319155)scale(0.6581533014369094)\">bedroom pop</text></g></g><g class=\"slice cursor-pointer\"><path class=\"surface\" d=\"M843.5278053706514,279.79551231610947L895,279.79551231610947L895,315.92419954447826L843.5278053706514,315.92419954447826Z\" style=\"pointer-events: all; stroke-width: 1; fill: rgb(253, 254, 219); fill-opacity: 1; stroke: rgb(255, 255, 255); stroke-opacity: 1; opacity: 1;\"/><g class=\"slicetext\"><text data-notex=\"1\" class=\"slicetext\" text-anchor=\"start\" x=\"0\" y=\"0\" style=\"font-family: Helvetica; font-size: 12px; fill: rgb(68, 68, 68); fill-opacity: 1; white-space: pre;\" transform=\"translate(846.5278053706514,288.26772172107724)scale(0.49747358226979627)\">alternative dance</text></g></g><g class=\"slice cursor-pointer\"><path class=\"surface\" d=\"M787.98402658466,318.92419954447826L824.4586698956045,318.92419954447826L824.4586698956045,367.4405496032451L787.98402658466,367.4405496032451Z\" style=\"pointer-events: all; stroke-width: 1; fill: rgb(253, 254, 221); fill-opacity: 1; stroke: rgb(255, 255, 255); stroke-opacity: 1; opacity: 1;\"/><g class=\"slicetext\"><text data-notex=\"1\" class=\"slicetext\" text-anchor=\"start\" x=\"0\" y=\"0\" style=\"font-family: Helvetica; font-size: 12px; fill: rgb(68, 68, 68); fill-opacity: 1; white-space: pre;\" transform=\"translate(790.98402658466,328.8093564414311)scale(0.6259233542684374)\">funk rock</text></g></g><g class=\"slice cursor-pointer\"><path class=\"surface\" d=\"M787.98402658466,370.4405496032451L824.4586698956045,370.4405496032451L824.4586698956045,414L787.98402658466,414Z\" style=\"pointer-events: all; stroke-width: 1; fill: rgb(254, 255, 225); fill-opacity: 1; stroke: rgb(255, 255, 255); stroke-opacity: 1; opacity: 1;\"/><g class=\"slicetext\"><text data-notex=\"1\" class=\"slicetext\" text-anchor=\"start\" x=\"0\" y=\"0\" style=\"font-family: Helvetica; font-size: 12px; fill: rgb(68, 68, 68); fill-opacity: 1; white-space: pre;\" transform=\"translate(790.98402658466,378.1371671362803)scale(0.42696523027593053)\">new romantic</text></g></g><g class=\"slice cursor-pointer\"><path class=\"surface\" d=\"M827.4586698956045,318.92419954447826L859.7975567370715,318.92419954447826L859.7975567370715,367.1415620045841L827.4586698956045,367.1415620045841Z\" style=\"pointer-events: all; stroke-width: 1; fill: rgb(254, 255, 225); fill-opacity: 1; stroke: rgb(255, 255, 255); stroke-opacity: 1; opacity: 1;\"/><g class=\"slicetext\"><text data-notex=\"1\" class=\"slicetext\" text-anchor=\"start\" x=\"0\" y=\"0\" style=\"font-family: Helvetica; font-size: 12px; fill: rgb(68, 68, 68); fill-opacity: 1; white-space: pre;\" transform=\"translate(830.4586698956045,325.9075671785046)scale(0.362124330366034)\">neo-synthpop</text></g></g><g class=\"slice cursor-pointer\"><path class=\"surface\" d=\"M862.7975567370715,318.92419954447826L895,318.92419954447826L895,367.1415620045841L862.7975567370715,367.1415620045841Z\" style=\"pointer-events: all; stroke-width: 1; fill: rgb(254, 255, 225); fill-opacity: 1; stroke: rgb(255, 255, 255); stroke-opacity: 1; opacity: 1;\"/><g class=\"slicetext\"><text data-notex=\"1\" class=\"slicetext\" text-anchor=\"start\" x=\"0\" y=\"0\" style=\"font-family: Helvetica; font-size: 12px; fill: rgb(68, 68, 68); fill-opacity: 1; white-space: pre;\" transform=\"translate(865.7975567370715,324.82413981442033)scale(0.2636309336310991)\">french psychedelic</text></g></g><g class=\"slice cursor-pointer\"><path class=\"surface\" d=\"M827.4586698956045,370.1415620045841L860.1021749589249,370.1415620045841L860.1021749589249,414L827.4586698956045,414Z\" style=\"pointer-events: all; stroke-width: 1; fill: rgb(255, 255, 228); fill-opacity: 1; stroke: rgb(255, 255, 255); stroke-opacity: 1; opacity: 1;\"/><g class=\"slicetext\"><text data-notex=\"1\" class=\"slicetext\" text-anchor=\"start\" x=\"0\" y=\"0\" style=\"font-family: Helvetica; font-size: 12px; fill: rgb(68, 68, 68); fill-opacity: 1; white-space: pre;\" transform=\"translate(830.4586698956045,376.3250357935484)scale(0.28940670808766206)\">indie garage rock</text></g></g><g class=\"slice cursor-pointer\"><path class=\"surface\" d=\"M863.1021749589249,370.1415620045841L895,370.1415620045841L895,414.0000000000002L863.1021749589249,414.0000000000002Z\" style=\"pointer-events: all; stroke-width: 1; fill: rgb(255, 255, 229); fill-opacity: 1; stroke: rgb(255, 255, 255); stroke-opacity: 1; opacity: 1;\"/><g class=\"slicetext\"><text data-notex=\"1\" class=\"slicetext\" text-anchor=\"start\" x=\"0\" y=\"0\" style=\"font-family: Helvetica; font-size: 12px; fill: rgb(68, 68, 68); fill-opacity: 1; white-space: pre;\" transform=\"translate(866.1021749589249,384.1415620045841)\">folk</text></g></g></g></g><g class=\"sunburstlayer\"/><g class=\"glimages\"/><defs id=\"topdefs-12a768\"><g class=\"clips\"/></defs><g class=\"layer-above\"><g class=\"imagelayer\"/><g class=\"shapelayer\"/></g><g class=\"infolayer\"><g class=\"cbcoloraxis colorbar\" transform=\"translate(80,100)\"><rect class=\"cbbg\" x=\"837\" y=\"0\" width=\"71.015625\" height=\"320\" style=\"fill: rgb(0, 0, 0); fill-opacity: 0; stroke: rgb(68, 68, 68); stroke-opacity: 1; stroke-width: 0;\"/><g class=\"cbfills\" transform=\"translate(0,31)\"><rect class=\"cbfill gradient_filled\" x=\"847\" y=\"0\" width=\"30\" height=\"279\" style=\"fill: url('#g12a768-cbcoloraxis');\"/></g><g class=\"cblines\" transform=\"translate(0,31)\"/><g class=\"cbaxis crisp\" transform=\"translate(0,-100)\"><g class=\"ycbcoloraxistick\"><text text-anchor=\"start\" x=\"879.9\" y=\"4.199999999999999\" transform=\"translate(0,379.18562499999996)\" style=\"font-family: Helvetica; font-size: 12px; fill: rgb(42, 63, 95); fill-opacity: 1; white-space: pre; opacity: 1;\">5</text></g><g class=\"ycbcoloraxistick\"><text text-anchor=\"start\" x=\"879.9\" y=\"4.199999999999999\" style=\"font-family: Helvetica; font-size: 12px; fill: rgb(42, 63, 95); fill-opacity: 1; white-space: pre; opacity: 1;\" transform=\"translate(0,321.255625)\">10</text></g><g class=\"ycbcoloraxistick\"><text text-anchor=\"start\" x=\"879.9\" y=\"4.199999999999999\" style=\"font-family: Helvetica; font-size: 12px; fill: rgb(42, 63, 95); fill-opacity: 1; white-space: pre; opacity: 1;\" transform=\"translate(0,263.325625)\">15</text></g><g class=\"ycbcoloraxistick\"><text text-anchor=\"start\" x=\"879.9\" y=\"4.199999999999999\" style=\"font-family: Helvetica; font-size: 12px; fill: rgb(42, 63, 95); fill-opacity: 1; white-space: pre; opacity: 1;\" transform=\"translate(0,205.395625)\">20</text></g><g class=\"ycbcoloraxistick\"><text text-anchor=\"start\" x=\"879.9\" y=\"4.199999999999999\" style=\"font-family: Helvetica; font-size: 12px; fill: rgb(42, 63, 95); fill-opacity: 1; white-space: pre; opacity: 1;\" transform=\"translate(0,147.465625)\">25</text></g></g><g class=\"cbtitleunshift\" transform=\"translate(-80,-100)\"><g class=\"cbtitle\" transform=\"\"><text class=\"ycbcoloraxistitle\" x=\"927.42\" y=\"123.5\" text-anchor=\"start\" style=\"font-family: Helvetica; font-size: 14px; fill: rgb(42, 63, 95); opacity: 1; font-weight: normal; white-space: pre;\">hPlayed</text></g></g><rect class=\"cboutline\" x=\"847\" y=\"31.015625\" width=\"30\" height=\"278.984375\" style=\"stroke: rgb(68, 68, 68); stroke-opacity: 1; fill: none; stroke-width: 0;\"/></g><g class=\"g-gtitle\"><text class=\"gtitle\" x=\"50\" y=\"50\" text-anchor=\"start\" dy=\"0em\" style=\"font-family: Helvetica; font-size: 17px; fill: rgb(42, 63, 95); opacity: 1; font-weight: normal; white-space: pre;\"><tspan style=\"font-weight:bold\">Spotify:</tspan><tspan style=\"font-style:italic\"> What were my most popular genres?</tspan></text></g></g></svg>"
      ]
     },
     "metadata": {},
     "output_type": "display_data"
    }
   ],
   "source": [
    "# select top N genres\n",
    "top_n = 50\n",
    "top_genres = genres.head(top_n)\n",
    "\n",
    "# plotting\n",
    "fig = px.treemap(top_genres, path=['artistGenres'], values='hPlayed',\n",
    "                 color='hPlayed', color_continuous_scale=heat_pal,\n",
    "                 title='<b>Spotify:</b><i> What were my most popular genres?</i>',\n",
    "                 hover_data=['hPlayed'])\n",
    "\n",
    "fig.update_layout(\n",
    "    height=500,\n",
    "    width=1000\n",
    ")\n",
    "\n",
    "write(fig, 'top_genres_treemap')"
   ]
  },
  {
   "cell_type": "code",
   "execution_count": null,
   "id": "5922c699-49b2-42ca-aaf8-4c6a49ec6500",
   "metadata": {},
   "outputs": [],
   "source": []
  }
 ],
 "metadata": {
  "kernelspec": {
   "display_name": "Python 3 (ipykernel)",
   "language": "python",
   "name": "python3"
  },
  "language_info": {
   "codemirror_mode": {
    "name": "ipython",
    "version": 3
   },
   "file_extension": ".py",
   "mimetype": "text/x-python",
   "name": "python",
   "nbconvert_exporter": "python",
   "pygments_lexer": "ipython3",
   "version": "3.11.7"
  }
 },
 "nbformat": 4,
 "nbformat_minor": 5
}
